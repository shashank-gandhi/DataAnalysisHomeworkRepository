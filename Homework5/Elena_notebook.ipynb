{
 "cells": [
  {
   "cell_type": "code",
   "execution_count": 98,
   "metadata": {
    "collapsed": true
   },
   "outputs": [],
   "source": [
    "#part c"
   ]
  },
  {
   "cell_type": "code",
   "execution_count": 3,
   "metadata": {
    "collapsed": false
   },
   "outputs": [],
   "source": [
    "import collections\n",
    "import warnings\n",
    "\n",
    "# The workhorses\n",
    "import numpy as np\n",
    "import pandas as pd\n",
    "import scipy.stats as st\n",
    "import scipy.optimize\n",
    "import numdifftools as ndt\n",
    "\n",
    "# Plotting modules\n",
    "import matplotlib.pyplot as plt\n",
    "\n",
    "# MCMC utilities\n",
    "import emcee\n",
    "\n",
    "# BE/Bi 103 utilities\n",
    "import sys\n",
    "sys.path.append('/Users/elenaperry/Desktop/GitHub/bebi103_utils')\n",
    "import bebi103\n",
    "\n",
    "# This is to enable inline displays for the purposes of the tutorial\n",
    "%matplotlib inline\n",
    "\n",
    "# This enables SVG graphics inline\n",
    "%config InlineBackend.figure_formats = {'png', 'retina'}\n",
    "\n",
    "# Seaborn makes plots look nice\n",
    "import seaborn as sns\n",
    "sns.set_context('notebook', font_scale=1.5, rc={'lines.linewidth': 2.5})\n",
    "sns.set_style('darkgrid', {'axes.facecolor': '(0.875, 0.875, 0.9)'})\n",
    "\n",
    "# Suppress future warnings\n",
    "warnings.simplefilter(action='ignore', category=FutureWarning)"
   ]
  },
  {
   "cell_type": "code",
   "execution_count": 5,
   "metadata": {
    "collapsed": false
   },
   "outputs": [
    {
     "data": {
      "text/html": [
       "<div>\n",
       "<table border=\"1\" class=\"dataframe\">\n",
       "  <thead>\n",
       "    <tr style=\"text-align: right;\">\n",
       "      <th></th>\n",
       "      <th>fish</th>\n",
       "      <th>genotype</th>\n",
       "      <th>mean_rest_bout_length</th>\n",
       "    </tr>\n",
       "  </thead>\n",
       "  <tbody>\n",
       "    <tr>\n",
       "      <th>2</th>\n",
       "      <td>FISH11</td>\n",
       "      <td>mut</td>\n",
       "      <td>2.255556</td>\n",
       "    </tr>\n",
       "    <tr>\n",
       "      <th>3</th>\n",
       "      <td>FISH12</td>\n",
       "      <td>mut</td>\n",
       "      <td>1.529412</td>\n",
       "    </tr>\n",
       "    <tr>\n",
       "      <th>4</th>\n",
       "      <td>FISH13</td>\n",
       "      <td>mut</td>\n",
       "      <td>2.373626</td>\n",
       "    </tr>\n",
       "    <tr>\n",
       "      <th>5</th>\n",
       "      <td>FISH14</td>\n",
       "      <td>wt</td>\n",
       "      <td>2.352941</td>\n",
       "    </tr>\n",
       "    <tr>\n",
       "      <th>7</th>\n",
       "      <td>FISH18</td>\n",
       "      <td>wt</td>\n",
       "      <td>2.111111</td>\n",
       "    </tr>\n",
       "  </tbody>\n",
       "</table>\n",
       "</div>"
      ],
      "text/plain": [
       "     fish genotype  mean_rest_bout_length\n",
       "2  FISH11      mut               2.255556\n",
       "3  FISH12      mut               1.529412\n",
       "4  FISH13      mut               2.373626\n",
       "5  FISH14       wt               2.352941\n",
       "7  FISH18       wt               2.111111"
      ]
     },
     "execution_count": 5,
     "metadata": {},
     "output_type": "execute_result"
    }
   ],
   "source": [
    "# Pull out wild type and mutant and take NaNs to be zero\n",
    "# Load data\n",
    "df = pd.read_csv('./data/mean_rest_bouts.csv', comment='#')\n",
    "\n",
    "df = df[df['genotype'].isin(['wt', 'mut'])].fillna(0)\n",
    "df.head()"
   ]
  },
  {
   "cell_type": "code",
   "execution_count": 8,
   "metadata": {
    "collapsed": false
   },
   "outputs": [],
   "source": [
    "wt = df[df['genotype']=='wt']\n",
    "wt = wt[('mean_rest_bout_length')]\n",
    "mut = df[df['genotype']=='mut']\n",
    "mut = mut[('mean_rest_bout_length')]"
   ]
  },
  {
   "cell_type": "code",
   "execution_count": 9,
   "metadata": {
    "collapsed": true
   },
   "outputs": [],
   "source": [
    "# Define log of the posterior\n",
    "def log_post(p, x_1, x_2):\n",
    "    \"\"\"\n",
    "    Returns the log of the posterior consisting of the product of Gaussians.\n",
    "    p[0] = mu_1\n",
    "    p[1] = mu_2\n",
    "    p[2] = sigma_1\n",
    "    p[3] = sigma_2\n",
    "    \"\"\"\n",
    "    # Unpack parameters\n",
    "    mu_1, mu_2, sigma_1, sigma_2 = p\n",
    "    \n",
    "    # Make sure we have everything in the right range\n",
    "    if (sigma_1 < 0) or (sigma_2 < 0):\n",
    "        return -np.inf\n",
    "\n",
    "    # Compute separate parts of posterior from each sample\n",
    "    log_post_1 = st.norm.logpdf(x_1, mu_1, sigma_1).sum() - np.log(sigma_1)\n",
    "    log_post_2 = st.norm.logpdf(x_2, mu_2, sigma_2).sum() - np.log(sigma_1)\n",
    "\n",
    "    # Add them up to return\n",
    "    return log_post_1 + log_post_2"
   ]
  },
  {
   "cell_type": "code",
   "execution_count": 10,
   "metadata": {
    "collapsed": false
   },
   "outputs": [],
   "source": [
    "# Arguments to pass to log posterior\n",
    "args = (wt, mut)\n",
    "\n",
    "# Parameters and how we start them\n",
    "params = collections.OrderedDict([('mu_1', (np.random.uniform, (0, 1))),\n",
    "                                  ('mu_2', (np.random.uniform, (0, 1))),\n",
    "                                  ('sigma_1', (np.random.exponential, (0.1,))),\n",
    "                                  ('sigma_2', (np.random.exponential, (0.1,)))])\n",
    "\n",
    "# Define walker settings\n",
    "n_walkers = 50\n",
    "n_burn = 1000\n",
    "n_steps = 10000\n",
    "\n",
    "# Run MCMC\n",
    "df_mcmc = bebi103.run_ensemble_emcee(log_post, n_burn, n_steps, \n",
    "                                     n_walkers=n_walkers, p_dict=params, \n",
    "                                     args=args)"
   ]
  },
  {
   "cell_type": "code",
   "execution_count": 11,
   "metadata": {
    "collapsed": false,
    "scrolled": true
   },
   "outputs": [
    {
     "data": {
      "text/plain": [
       "<matplotlib.text.Text at 0x10d1c0048>"
      ]
     },
     "execution_count": 11,
     "metadata": {},
     "output_type": "execute_result"
    },
    {
     "data": {
      "image/png": "[encoded data removed]",
      "text/plain": [
       "<matplotlib.figure.Figure at 0x109fedeb8>"
      ]
     },
     "metadata": {
      "image/png": {
       "height": 372,
       "width": 539
      }
     },
     "output_type": "display_data"
    }
   ],
   "source": [
    "df_mcmc['mu_diff'] = df_mcmc['mu_1'] - df_mcmc['mu_2']\n",
    "_ = plt.hist(df_mcmc['mu_diff'], bins=200, histtype='step')\n",
    "plt.xlabel('$\\delta$ (minutes)')\n",
    "plt.ylabel('P($\\delta$|D,I)')"
   ]
  },
  {
   "cell_type": "code",
   "execution_count": 12,
   "metadata": {
    "collapsed": false
   },
   "outputs": [
    {
     "name": "stdout",
     "output_type": "stream",
     "text": [
      "δ = 0.487 ± 0.446 minutes\n",
      "95% credible region: 0.042 ≤ δ ≤ 0.933 minutes\n"
     ]
    }
   ],
   "source": [
    "max_ind = np.argmax(df_mcmc['lnprob'])\n",
    "mu_diff_map = df_mcmc.loc[max_ind,'mu_diff'] \n",
    "mu_diff_error = df_mcmc['mu_diff'].std()\n",
    "print(\"\"\"δ = {0:.3f} ± {1:.3f} minutes\"\"\".format(mu_diff_map, 1.96*mu_diff_error))\n",
    "print(\"\"\"95% credible region: {0:.3f} ≤ δ ≤ {1:.3f} minutes\"\"\".format((mu_diff_map - 1.96*mu_diff_error), \n",
    "                                                                 (mu_diff_map + 1.96*mu_diff_error)))"
   ]
  },
  {
   "cell_type": "code",
   "execution_count": 13,
   "metadata": {
    "collapsed": false
   },
   "outputs": [
    {
     "name": "stdout",
     "output_type": "stream",
     "text": [
      "The bayesian estimate of the difference of the mean is 0.482335461654 ± 0.397809847833\n"
     ]
    }
   ],
   "source": [
    "#this code has been modified from previous HW solutions.\n",
    "\n",
    "# Define log of the posterior\n",
    "def log_post(p, x_wt, x_mut):\n",
    "    \"\"\"\n",
    "    Returns the log of the posterior consisting of the product of Gaussians.\n",
    "    p[0] = mu_wt\n",
    "    p[1] = mu_mut\n",
    "    p[2] = sigma_wt\n",
    "    p[3] = sigma_mut\n",
    "    \"\"\"\n",
    "    # Unpack parameters\n",
    "    mu_wt, mu_mut, sigma_wt, sigma_mut = p\n",
    "    \n",
    "    # Make sure we have everything in the right range\n",
    "    if (sigma_wt < 0) or (sigma_mut < 0):\n",
    "        return -np.inf\n",
    "\n",
    "    # Compute separate parts of posterior from each sample\n",
    "    log_post_wt = st.norm.logpdf(x_wt, mu_wt, sigma_wt).sum() - np.log(sigma_wt)\n",
    "    \n",
    "    log_post_mut = st.norm.logpdf(x_mut, mu_mut, sigma_mut).sum() - np.log(sigma_mut)\n",
    "\n",
    "    # Add them up to return\n",
    "    return log_post_wt + log_post_mut\n",
    "\n",
    "def negative_log_post(p, x_wt,x_mut):\n",
    "    return -log_post(p,x_wt,x_mut)\n",
    "\n",
    "#MAP\n",
    "args = (wt,mut)\n",
    "\n",
    "p0 = np.array([ 2, 1.5, 0.5, 0.8])\n",
    "\n",
    "hes_fun = ndt.Hessian(log_post)\n",
    "res = scipy.optimize.minimize(negative_log_post, p0, args=args)\n",
    "hes = hes_fun(res.x,wt,mut)\n",
    "cov = -np.linalg.inv(hes)\n",
    "\n",
    "bayesian_estimate_diff = res.x[0]-res.x[1]\n",
    "credible_interval = 1.96 * np.sqrt(np.sqrt(cov[0,0])**2 + np.sqrt(cov[1,1])**2)\n",
    "\n",
    "print(\"The bayesian estimate of the difference of the mean is\", \n",
    "      bayesian_estimate_diff, \"±\", credible_interval)"
   ]
  },
  {
   "cell_type": "markdown",
   "metadata": {},
   "source": [
    "# Part E"
   ]
  },
  {
   "cell_type": "code",
   "execution_count": 138,
   "metadata": {
    "collapsed": false
   },
   "outputs": [],
   "source": [
    "# Define log of the posterior for H_0 \n",
    "def log_post_H0(p, x):\n",
    "    \"\"\"\n",
    "    Returns the log of the posterior for a Gaussian.\n",
    "    p[0] = mu\n",
    "    p[1] = sigma\n",
    "    \"\"\"\n",
    "    # Unpack parameters\n",
    "    mu, sigma = p\n",
    "    \n",
    "    # Make sure we have everything in the right range\n",
    "    if (sigma < 0):\n",
    "        return -np.inf\n",
    "\n",
    "    # Add them up to return\n",
    "    return st.norm.logpdf(x, mu, sigma).sum() - np.log(sigma)"
   ]
  },
  {
   "cell_type": "code",
   "execution_count": 145,
   "metadata": {
    "collapsed": false
   },
   "outputs": [
    {
     "name": "stdout",
     "output_type": "stream",
     "text": [
      "The bayesian estimate of the difference of the mean is 0.482335452396 ± 0.397809846791\n"
     ]
    }
   ],
   "source": [
    "#this code has been modified from previous HW solutions.\n",
    "\n",
    "# Define log of the posterior\n",
    "def log_post(p, x_wt, x_mut):\n",
    "    \"\"\"\n",
    "    Returns the log of the posterior consisting of the product of Gaussians.\n",
    "    p[0] = mu_wt\n",
    "    p[1] = mu_mut\n",
    "    p[2] = sigma_wt\n",
    "    p[3] = sigma_mut\n",
    "    \"\"\"\n",
    "    # Unpack parameters\n",
    "    mu_wt, mu_mut, sigma_wt, sigma_mut = p\n",
    "    \n",
    "    # Make sure we have everything in the right range\n",
    "    if (sigma_wt < 0) or (sigma_mut < 0):\n",
    "        return -np.inf\n",
    "\n",
    "    # Compute separate parts of posterior from each sample\n",
    "    log_post_wt = st.norm.logpdf(x_wt, mu_wt, sigma_wt).sum() - np.log(sigma_wt)\n",
    "    \n",
    "    log_post_mut = st.norm.logpdf(x_mut, mu_mut, sigma_mut).sum() - np.log(sigma_mut)\n",
    "\n",
    "    # Add them up to return\n",
    "    return log_post_wt + log_post_mut\n",
    "\n",
    "def negative_log_post(p, x_wt,x_mut):\n",
    "    return -log_post(p,x_wt,x_mut)\n",
    "\n",
    "#MAP\n",
    "args = (wt,mut)\n",
    "\n",
    "p0 = np.array([ 2, 1.5, 0.5, 0.8])\n",
    "\n",
    "hes_fun = ndt.Hessian(log_post)\n",
    "res = scipy.optimize.minimize(negative_log_post, p0, args=args)\n",
    "hes = hes_fun(res.x,wt,mut)\n",
    "cov = -np.linalg.inv(hes)\n",
    "\n",
    "bayesian_estimate_diff = res.x[0]-res.x[1]\n",
    "credible_interval = 1.96 * np.sqrt(np.sqrt(cov[0,0])**2 + np.sqrt(cov[1,1])**2)\n",
    "\n",
    "print(\"The bayesian estimate of the difference of the mean is\", \n",
    "      bayesian_estimate_diff, \"±\", credible_interval)"
   ]
  },
  {
   "cell_type": "code",
   "execution_count": 140,
   "metadata": {
    "collapsed": false
   },
   "outputs": [],
   "source": [
    "# Instantiate Hessian for log posterior for H_0\n",
    "hes_fun = ndt.Hessian(log_post_H0)\n",
    "\n",
    "# Compute Hessian at MAP for H_0\n",
    "hes = hes_fun(np.asarray([df['mean_rest_bout_length'].mean(), \n",
    "                          df['mean_rest_bout_length'].std()]), df['mean_rest_bout_length'])\n",
    "\n",
    "# Calculate covariance matrix for H_0\n",
    "cov0 = -np.linalg.inv(hes)"
   ]
  },
  {
   "cell_type": "code",
   "execution_count": 144,
   "metadata": {
    "collapsed": false
   },
   "outputs": [
    {
     "name": "stdout",
     "output_type": "stream",
     "text": [
      "Odds ratio = 0.0830\n"
     ]
    }
   ],
   "source": [
    "# Calculate the log of the good fit ratio\n",
    "log_good_fit_ratio = \\\n",
    "st.norm.logpdf(df['mean_rest_bout_length'], df['mean_rest_bout_length'].mean(), df['mean_rest_bout_length'].std()).sum() \\\n",
    "- st.norm.logpdf(wt, res.x[0], res.x[2]).sum() \\\n",
    "- st.norm.logpdf(mut, res.x[1], res.x[3]).sum()\n",
    "\n",
    "# Caclulate the log of the Occam factor\n",
    "log_occam = np.log(res.x[2]) + np.log(res.x[3]) + np.log(2 * np.pi) + np.log(np.linalg.det(cov0))/2 \\\n",
    "- np.log(df['mean_rest_bout_length'].std()) - 2 * np.log(2 * np.pi) - np.log(np.linalg.det(cov1))/2\n",
    "\n",
    "# Calculate and print the odds ratio\n",
    "print(\"\"\"Odds ratio = {0:.4f}\"\"\".format(np.exp(log_good_fit_ratio + log_occam)))"
   ]
  },
  {
   "cell_type": "markdown",
   "metadata": {},
   "source": [
    "# F"
   ]
  },
  {
   "cell_type": "code",
   "execution_count": 163,
   "metadata": {
    "collapsed": false
   },
   "outputs": [],
   "source": [
    "def odds_ratio(data, cov, wt_mu_map, wt_sigma_map, mut_mu_map, mut_sigma_map):\n",
    "    \"\"\"\n",
    "    This function calculates the odds ratio for H_0 and H_1.\n",
    "    \n",
    "    data = the dataframe with all of the wt and mut fish\n",
    "    cov = the covariance matrix calculated for the joint Gaussian distribution in part (c)\n",
    "    wt_mu_map = the MAP for the wild-type mu as calculated in part (c)\n",
    "    wt_sigma_map = the MAP for the wild-type sigma as calculated in part (c)\n",
    "    mut_mu_map = the MAP for the mutant mu as calculated in part (c)\n",
    "    mut_sigma_map = the MAP for the mutant sigma as calculated in part (c)\n",
    "    \n",
    "    \"\"\"\n",
    "    # Set up additional variables to pass in as arguments to the sub-functions\n",
    "    wt_fish = data[data['genotype']=='wt']\n",
    "    mut_fish = data[data['genotype']=='mut']\n",
    "    \n",
    "    p = np.asarray([data['mean_rest_bout_length'].mean(), data['mean_rest_bout_length'].std()])\n",
    "    x = data['mean_rest_bout_length']\n",
    "    wt_mut = np.asarray([wt_fish['mean_rest_bout_length'], mut_fish['mean_rest_bout_length']])\n",
    "    \n",
    "    # Define log of the posterior for H_0 \n",
    "    def log_post_H0(p, x):\n",
    "        \"\"\"\n",
    "        Returns the log of the posterior for a Gaussian.\n",
    "        p[0] = mu\n",
    "        p[1] = sigma\n",
    "        \"\"\"\n",
    "        # Unpack parameters\n",
    "        mu, sigma = p\n",
    "    \n",
    "        # Make sure we have everything in the right range\n",
    "        if (sigma < 0):\n",
    "            return -np.inf\n",
    "\n",
    "        # Add them up to return\n",
    "        return st.norm.logpdf(x, mu, sigma).sum() - np.log(sigma)\n",
    "\n",
    "    def cov_H0(p, x):    \n",
    "        \"\"\"\n",
    "        Calculates the covariance matrix for H_0\n",
    "        \"\"\"\n",
    "        # Instantiate Hessian for log posterior for H_0\n",
    "        hes_fun = ndt.Hessian(log_post_H0)\n",
    "\n",
    "        # Compute Hessian at MAP for H_0\n",
    "        hes = hes_fun(p, x)\n",
    "\n",
    "        return -np.linalg.inv(hes)\n",
    "\n",
    "    def log_good_fit_ratio(p, x, wt_mut, wt_mu_map, wt_sigma_map, mut_mu_map, mut_sigma_map): \n",
    "        \"\"\"\n",
    "        Calculates the log of the goodness of fit ratio\n",
    "        \"\"\"\n",
    "        # Unpack parameters\n",
    "        mu, sigma = p\n",
    "        \n",
    "        return st.norm.logpdf(x, mu, sigma).sum() \\\n",
    "    - st.norm.logpdf(wt_mut[0], wt_mu_map, wt_sigma_map).sum() \\\n",
    "    - st.norm.logpdf(wt_mut[1], mut_mu_map, mut_sigma_map).sum()\n",
    "\n",
    "    def log_occam(p, x, wt_sigma_map, mut_sigma_map, cov):\n",
    "        \"\"\"\n",
    "        Calculates the log of the Occam factor\n",
    "        \"\"\"\n",
    "        # Unpack parameters\n",
    "        mu, sigma = p\n",
    "        \n",
    "        return np.log(wt_sigma_map) + np.log(mut_sigma_map) + np.log(2 * np.pi) + np.log(np.linalg.det(cov_H0(p, x)))/2 \\\n",
    "    - np.log(sigma) - 2 * np.log(2 * np.pi) - np.log(np.linalg.det(cov))/2\n",
    "      \n",
    "    return np.exp(log_good_fit_ratio(p, x, wt_mut, wt_mu_map, wt_sigma_map, mut_mu_map, mut_sigma_map) \\\n",
    "                  + log_occam(p, x, wt_sigma_map, mut_sigma_map, cov))\n",
    "\n"
   ]
  },
  {
   "cell_type": "code",
   "execution_count": 164,
   "metadata": {
    "collapsed": false
   },
   "outputs": [
    {
     "data": {
      "text/plain": [
       "0.083039542183335036"
      ]
     },
     "execution_count": 164,
     "metadata": {},
     "output_type": "execute_result"
    }
   ],
   "source": [
    "odds_ratio(df, cov, res.x[0], res.x[2], res.x[1], res.x[3])"
   ]
  },
  {
   "cell_type": "code",
   "execution_count": 14,
   "metadata": {
    "collapsed": true
   },
   "outputs": [],
   "source": [
    "\n",
    "def log_post_H0(p, x):\n",
    "    \"\"\"\n",
    "    Returns the log of the posterior for a Gaussian.\n",
    "    p[0] = mu\n",
    "    p[1] = sigma\n",
    "    \"\"\"\n",
    "    # Unpack parameters\n",
    "    mu, sigma = p\n",
    "\n",
    "    # Make sure we have everything in the right range\n",
    "    if (sigma < 0):\n",
    "        return -np.inf\n",
    "\n",
    "    # Add them up to return\n",
    "    return st.norm.logpdf(x, mu, sigma).sum() - np.log(sigma)\n",
    "\n",
    "def cov_H0(p, x):    \n",
    "    \"\"\"\n",
    "    Calculates the covariance matrix for H_0\n",
    "    \"\"\"\n",
    "    # Instantiate Hessian for log posterior for H_0\n",
    "    hes_fun = ndt.Hessian(log_post_H0)\n",
    "\n",
    "    # Compute Hessian at MAP for H_0\n",
    "    hes = hes_fun(p, x)\n",
    "\n",
    "    return -np.linalg.inv(hes)\n",
    "\n",
    "def log_good_fit_ratio(p, x, wt_mut, wt_mu_map, wt_sigma_map, mut_mu_map, mut_sigma_map): \n",
    "    \"\"\"\n",
    "    Calculates the log of the goodness of fit ratio\n",
    "    \"\"\"\n",
    "    # Unpack parameters\n",
    "    mu, sigma = p\n",
    "\n",
    "    return st.norm.logpdf(x, mu, sigma).sum() \\\n",
    "- st.norm.logpdf(wt_mut[0], wt_mu_map, wt_sigma_map).sum() \\\n",
    "- st.norm.logpdf(wt_mut[1], mut_mu_map, mut_sigma_map).sum()\n",
    "\n",
    "def log_occam(p, x, wt_sigma_map, mut_sigma_map, cov):\n",
    "    \"\"\"\n",
    "    Calculates the log of the Occam factor\n",
    "    \"\"\"\n",
    "    # Unpack parameters\n",
    "    mu, sigma = p\n",
    "\n",
    "    return np.log(wt_sigma_map) + np.log(mut_sigma_map) + np.log(2 * np.pi) + np.log(np.linalg.det(cov_H0(p, x)))/2 \\\n",
    "- np.log(sigma) - 2 * np.log(2 * np.pi) - np.log(np.linalg.det(cov))/2"
   ]
  },
  {
   "cell_type": "code",
   "execution_count": 15,
   "metadata": {
    "collapsed": true
   },
   "outputs": [],
   "source": [
    "def odds_ratio(data, cov, wt_mu_map, wt_sigma_map, mut_mu_map, mut_sigma_map):\n",
    "    \"\"\"\n",
    "    This function calculates the odds ratio for H_0 and H_1.\n",
    "    \n",
    "    data = the dataframe with all of the wt and mut fish\n",
    "    cov = the covariance matrix calculated for the joint Gaussian distribution in part (c)\n",
    "    wt_mu_map = the MAP for the wild-type mu as calculated in part (c)\n",
    "    wt_sigma_map = the MAP for the wild-type sigma as calculated in part (c)\n",
    "    mut_mu_map = the MAP for the mutant mu as calculated in part (c)\n",
    "    mut_sigma_map = the MAP for the mutant sigma as calculated in part (c)\n",
    "    \n",
    "    \"\"\"\n",
    "    # Set up additional variables to pass in as arguments to the sub-functions\n",
    "    wt_fish = data[data['genotype']=='wt']\n",
    "    mut_fish = data[data['genotype']=='mut']\n",
    "    \n",
    "    p = np.asarray([data['mean_rest_bout_length'].mean(), data['mean_rest_bout_length'].std()])\n",
    "    x = data['mean_rest_bout_length']\n",
    "    wt_mut = np.asarray([wt_fish['mean_rest_bout_length'], mut_fish['mean_rest_bout_length']])\n",
    "    \n",
    "    return np.exp(log_good_fit_ratio(p, x, wt_mut, wt_mu_map, wt_sigma_map, mut_mu_map, mut_sigma_map) \\\n",
    "                + log_occam(p, x, wt_sigma_map, mut_sigma_map, cov))"
   ]
  },
  {
   "cell_type": "code",
   "execution_count": 16,
   "metadata": {
    "collapsed": false
   },
   "outputs": [
    {
     "data": {
      "text/plain": [
       "0.083039540560062838"
      ]
     },
     "execution_count": 16,
     "metadata": {},
     "output_type": "execute_result"
    }
   ],
   "source": [
    "odds_ratio(df, cov, res.x[0], res.x[2], res.x[1], res.x[3])"
   ]
  },
  {
   "cell_type": "code",
   "execution_count": null,
   "metadata": {
    "collapsed": true
   },
   "outputs": [],
   "source": []
  }
 ],
 "metadata": {
  "kernelspec": {
   "display_name": "Python 3",
   "language": "python",
   "name": "python3"
  },
  "language_info": {
   "codemirror_mode": {
    "name": "ipython",
    "version": 3
   },
   "file_extension": ".py",
   "mimetype": "text/x-python",
   "name": "python",
   "nbconvert_exporter": "python",
   "pygments_lexer": "ipython3",
   "version": "3.5.0"
  }
 },
 "nbformat": 4,
 "nbformat_minor": 0
}
