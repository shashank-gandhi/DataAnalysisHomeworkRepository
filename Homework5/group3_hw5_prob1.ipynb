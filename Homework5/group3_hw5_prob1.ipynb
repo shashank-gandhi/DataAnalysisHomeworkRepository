{
 "cells": [
  {
   "cell_type": "markdown",
   "metadata": {},
   "source": [
    "# Problem 5.1"
   ]
  },
  {
   "cell_type": "code",
   "execution_count": 2,
   "metadata": {
    "collapsed": false
   },
   "outputs": [
    {
     "ename": "ImportError",
     "evalue": "No module named 'bebi103'",
     "output_type": "error",
     "traceback": [
      "\u001b[0;31m---------------------------------------------------------------------------\u001b[0m",
      "\u001b[0;31mImportError\u001b[0m                               Traceback (most recent call last)",
      "\u001b[0;32m<ipython-input-2-c92ab573c1fd>\u001b[0m in \u001b[0;36m<module>\u001b[0;34m()\u001b[0m\n\u001b[1;32m     21\u001b[0m \u001b[0;32mimport\u001b[0m \u001b[0msys\u001b[0m\u001b[0;34m\u001b[0m\u001b[0m\n\u001b[1;32m     22\u001b[0m \u001b[0msys\u001b[0m\u001b[0;34m.\u001b[0m\u001b[0mpath\u001b[0m\u001b[0;34m.\u001b[0m\u001b[0mappend\u001b[0m\u001b[0;34m(\u001b[0m\u001b[0;34m'C:/Users/Elena/Desktop/Caltech/BEBi 103/bebi103_utils'\u001b[0m\u001b[0;34m)\u001b[0m\u001b[0;34m\u001b[0m\u001b[0m\n\u001b[0;32m---> 23\u001b[0;31m \u001b[0;32mimport\u001b[0m \u001b[0mbebi103\u001b[0m\u001b[0;34m\u001b[0m\u001b[0m\n\u001b[0m\u001b[1;32m     24\u001b[0m \u001b[0;34m\u001b[0m\u001b[0m\n\u001b[1;32m     25\u001b[0m \u001b[0;31m# This is to enable inline displays for the purposes of the tutorial\u001b[0m\u001b[0;34m\u001b[0m\u001b[0;34m\u001b[0m\u001b[0m\n",
      "\u001b[0;31mImportError\u001b[0m: No module named 'bebi103'"
     ]
    }
   ],
   "source": [
    "import collections\n",
    "import warnings\n",
    "\n",
    "# The workhorses\n",
    "import numpy as np\n",
    "import pandas as pd\n",
    "import scipy.stats as st\n",
    "import scipy.optimize\n",
    "import numdifftools as ndt\n",
    "\n",
    "# Plotting modules\n",
    "import matplotlib.pyplot as plt\n",
    "\n",
    "# MCMC utilities\n",
    "import emcee\n",
    "\n",
    "# Numba for JITting log posteriors\n",
    "import numba\n",
    "\n",
    "# BE/Bi 103 utilities\n",
    "import sys\n",
    "sys.path.append('C:/Users/Elena/Desktop/Caltech/BEBi 103/bebi103_utils')\n",
    "import bebi103\n",
    "\n",
    "# This is to enable inline displays for the purposes of the tutorial\n",
    "%matplotlib inline\n",
    "\n",
    "# This enables SVG graphics inline\n",
    "%config InlineBackend.figure_formats = {'png', 'retina'}\n",
    "\n",
    "# Seaborn makes plots look nice\n",
    "import seaborn as sns\n",
    "sns.set_context('notebook', font_scale=1.5, rc={'lines.linewidth': 2.5})\n",
    "sns.set_style('darkgrid', {'axes.facecolor': '(0.875, 0.875, 0.9)'})\n",
    "\n",
    "# Suppress future warnings\n",
    "warnings.simplefilter(action='ignore', category=FutureWarning)"
   ]
  },
  {
   "cell_type": "markdown",
   "metadata": {},
   "source": [
    "# Part A"
   ]
  },
  {
   "cell_type": "code",
   "execution_count": 6,
   "metadata": {
    "collapsed": false
   },
   "outputs": [
    {
     "data": {
      "text/html": [
       "<div>\n",
       "<table border=\"1\" class=\"dataframe\">\n",
       "  <thead>\n",
       "    <tr style=\"text-align: right;\">\n",
       "      <th></th>\n",
       "      <th>fish</th>\n",
       "      <th>genotype</th>\n",
       "      <th>mean_rest_bout_length</th>\n",
       "    </tr>\n",
       "  </thead>\n",
       "  <tbody>\n",
       "    <tr>\n",
       "      <th>2</th>\n",
       "      <td>FISH11</td>\n",
       "      <td>mut</td>\n",
       "      <td>2.255556</td>\n",
       "    </tr>\n",
       "    <tr>\n",
       "      <th>3</th>\n",
       "      <td>FISH12</td>\n",
       "      <td>mut</td>\n",
       "      <td>1.529412</td>\n",
       "    </tr>\n",
       "    <tr>\n",
       "      <th>4</th>\n",
       "      <td>FISH13</td>\n",
       "      <td>mut</td>\n",
       "      <td>2.373626</td>\n",
       "    </tr>\n",
       "    <tr>\n",
       "      <th>5</th>\n",
       "      <td>FISH14</td>\n",
       "      <td>wt</td>\n",
       "      <td>2.352941</td>\n",
       "    </tr>\n",
       "    <tr>\n",
       "      <th>7</th>\n",
       "      <td>FISH18</td>\n",
       "      <td>wt</td>\n",
       "      <td>2.111111</td>\n",
       "    </tr>\n",
       "  </tbody>\n",
       "</table>\n",
       "</div>"
      ],
      "text/plain": [
       "     fish genotype  mean_rest_bout_length\n",
       "2  FISH11      mut               2.255556\n",
       "3  FISH12      mut               1.529412\n",
       "4  FISH13      mut               2.373626\n",
       "5  FISH14       wt               2.352941\n",
       "7  FISH18       wt               2.111111"
      ]
     },
     "execution_count": 6,
     "metadata": {},
     "output_type": "execute_result"
    }
   ],
   "source": [
    "# Load data\n",
    "df = pd.read_csv('./data/mean_rest_bouts.csv', comment='#')\n",
    "\n",
    "# Pull out wild type and mutant and take NaNs to be zero\n",
    "df = df[df['genotype'].isin(['wt', 'mut'])].fillna(0)\n",
    "df.head()"
   ]
  },
  {
   "cell_type": "code",
   "execution_count": 7,
   "metadata": {
    "collapsed": false
   },
   "outputs": [
    {
     "ename": "NameError",
     "evalue": "name 'sns' is not defined",
     "output_type": "error",
     "traceback": [
      "\u001b[0;31m---------------------------------------------------------------------------\u001b[0m",
      "\u001b[0;31mNameError\u001b[0m                                 Traceback (most recent call last)",
      "\u001b[0;32m<ipython-input-7-62f01e66eea8>\u001b[0m in \u001b[0;36m<module>\u001b[0;34m()\u001b[0m\n\u001b[1;32m      1\u001b[0m \u001b[0;31m# Make strip plot\u001b[0m\u001b[0;34m\u001b[0m\u001b[0;34m\u001b[0m\u001b[0m\n\u001b[0;32m----> 2\u001b[0;31m \u001b[0msns\u001b[0m\u001b[0;34m.\u001b[0m\u001b[0mstripplot\u001b[0m\u001b[0;34m(\u001b[0m\u001b[0mx\u001b[0m\u001b[0;34m=\u001b[0m\u001b[0;34m'genotype'\u001b[0m\u001b[0;34m,\u001b[0m \u001b[0my\u001b[0m\u001b[0;34m=\u001b[0m\u001b[0;34m'mean_rest_bout_length'\u001b[0m\u001b[0;34m,\u001b[0m \u001b[0mdata\u001b[0m\u001b[0;34m=\u001b[0m\u001b[0mdf\u001b[0m\u001b[0;34m,\u001b[0m \u001b[0mjitter\u001b[0m\u001b[0;34m=\u001b[0m\u001b[0;32mTrue\u001b[0m\u001b[0;34m)\u001b[0m\u001b[0;34m\u001b[0m\u001b[0m\n\u001b[0m\u001b[1;32m      3\u001b[0m \u001b[0;31m# Label axes\u001b[0m\u001b[0;34m\u001b[0m\u001b[0;34m\u001b[0m\u001b[0m\n\u001b[1;32m      4\u001b[0m \u001b[0mplt\u001b[0m\u001b[0;34m.\u001b[0m\u001b[0mylabel\u001b[0m\u001b[0;34m(\u001b[0m\u001b[0;34m'mean rest bout length (min)'\u001b[0m\u001b[0;34m)\u001b[0m\u001b[0;34m\u001b[0m\u001b[0m\n\u001b[1;32m      5\u001b[0m \u001b[0mplt\u001b[0m\u001b[0;34m.\u001b[0m\u001b[0mmargins\u001b[0m\u001b[0;34m(\u001b[0m\u001b[0my\u001b[0m\u001b[0;34m=\u001b[0m\u001b[0;36m0.02\u001b[0m\u001b[0;34m)\u001b[0m\u001b[0;34m\u001b[0m\u001b[0m\n",
      "\u001b[0;31mNameError\u001b[0m: name 'sns' is not defined"
     ]
    }
   ],
   "source": [
    "# Make strip plot\n",
    "sns.stripplot(x='genotype', y='mean_rest_bout_length', data=df, jitter=True)\n",
    "# Label axes \n",
    "plt.ylabel('mean rest bout length (min)')\n",
    "plt.margins(y=0.02)"
   ]
  },
  {
   "cell_type": "code",
   "execution_count": 8,
   "metadata": {
    "collapsed": true
   },
   "outputs": [],
   "source": [
    "#separate the two datasets in to wild type and mutant\n",
    "wt_fish=df[df[\"genotype\"]==\"wt\"]\n",
    "mut_fish=df[df[\"genotype\"]==\"mut\"]"
   ]
  },
  {
   "cell_type": "markdown",
   "metadata": {
    "collapsed": false
   },
   "source": [
    "Sample mean is the best estimate of $\\mu$. Unbiased estimator of variance is:\n",
    "\\begin{align}\n",
    "\\frac{n}{n-1}&s^2\n",
    "\\end{align}"
   ]
  },
  {
   "cell_type": "code",
   "execution_count": 9,
   "metadata": {
    "collapsed": false
   },
   "outputs": [
    {
     "name": "stdout",
     "output_type": "stream",
     "text": [
      "The best estimates for µ and σ are:\n",
      "            µ           σ\n",
      "         -----------------\n",
      "WT       2.2094     0.5229\n",
      "Mutant   1.7271     0.8051\n",
      "\n"
     ]
    }
   ],
   "source": [
    "#find means for wt and mut\n",
    "mu_wt = wt_fish.mean()\n",
    "mu_mut = mut_fish.mean()\n",
    "\n",
    "#find unbiased estimator of variance for wt and mut\n",
    "var_wt = wt_fish.var(ddof=1)\n",
    "var_mut = mut_fish.var(ddof=1)\n",
    "\n",
    "print(\"\"\"The best estimates for µ and σ are:\n",
    "            µ           σ\n",
    "         -----------------\n",
    "WT       {0:.4f}     {2:.4f}\n",
    "Mutant   {1:.4f}     {3:.4f}\n",
    "\"\"\".format(float(mu_wt), float(mu_mut), \n",
    "           float(np.sqrt(var_wt)), float(np.sqrt(var_mut))))"
   ]
  },
  {
   "cell_type": "markdown",
   "metadata": {},
   "source": [
    "# Part B"
   ]
  },
  {
   "cell_type": "markdown",
   "metadata": {},
   "source": [
    "Frequentist estimate of the difference of the means:\n",
    "\\begin{align}\n",
    "\\delta \\equiv \\mu_{wt} - \\mu_{mut}\n",
    "\\end{align}"
   ]
  },
  {
   "cell_type": "code",
   "execution_count": 10,
   "metadata": {
    "collapsed": true
   },
   "outputs": [],
   "source": [
    "def gaussian_draw(WTmu, WTsigma, MUTmu, MUTsigma, WTreps, MUTreps, trials):\n",
    "    \"\"\"\n",
    "    \n",
    "    \"\"\"\n",
    "    difference_mean_holder=np.empty(trials)\n",
    "    \n",
    "    for i in range(trials):\n",
    "        wt_rep_mean = np.random.normal(WTmu, WTsigma, WTreps).mean()\n",
    "        mut_rep_mean = np.random.normal(MUTmu, MUTsigma, MUTreps).mean()\n",
    "        difference_mean_holder[i]=wt_rep_mean - mut_rep_mean\n",
    "        \n",
    "    return difference_mean_holder\n"
   ]
  },
  {
   "cell_type": "code",
   "execution_count": 11,
   "metadata": {
    "collapsed": false
   },
   "outputs": [],
   "source": [
    "difference_out = gaussian_draw(mu_wt, np.sqrt(var_wt),mu_mut, \n",
    "                               np.sqrt(var_mut), len(wt_fish), \n",
    "                               len(mut_fish), 10000)"
   ]
  },
  {
   "cell_type": "code",
   "execution_count": 12,
   "metadata": {
    "collapsed": false
   },
   "outputs": [
    {
     "data": {
      "text/plain": [
       "<matplotlib.text.Text at 0x10ed62278>"
      ]
     },
     "execution_count": 12,
     "metadata": {},
     "output_type": "execute_result"
    }
   ],
   "source": [
    "plt.hist(difference_out, histtype=\"step\", bins=100, color=\"blue\", lw=2)\n",
    "conf_interval = np.percentile(difference_out, (2.5,97.5))\n",
    "plt.xlabel(\"δ\")\n",
    "plt.ylabel(\"P(δ)\")\n",
    "plt.title(\"δ = μ(wt)−μ(mut)\")"
   ]
  },
  {
   "cell_type": "code",
   "execution_count": 13,
   "metadata": {
    "collapsed": false
   },
   "outputs": [
    {
     "name": "stdout",
     "output_type": "stream",
     "text": [
      "The 95% confidence interval is [ 0.06717094  0.89611682] minutes\n",
      "The final result is:\n",
      "      µ(wt)-µ(mut) = 0.4823 ± 0.4153 minutes\n"
     ]
    }
   ],
   "source": [
    "print (\"The 95% confidence interval is\", conf_interval, \"minutes\")\n",
    "print(\"\"\"The final result is:\n",
    "      µ(wt)-µ(mut) = {0:.4f} ± {1:.4f}\"\"\"\n",
    "      .format(float(mu_wt-mu_mut), float(1.96*np.std(difference_out))), \"minutes\")"
   ]
  },
  {
   "cell_type": "markdown",
   "metadata": {},
   "source": [
    "# Part C"
   ]
  },
  {
   "cell_type": "code",
   "execution_count": 14,
   "metadata": {
    "collapsed": false
   },
   "outputs": [
    {
     "name": "stdout",
     "output_type": "stream",
     "text": [
      "The bayesian estimate of the difference of the mean is 0.482335452396 ± 0.397809846791\n"
     ]
    }
   ],
   "source": [
    "#this code has been modified from previous HW solutions.\n",
    "\n",
    "# Define log of the posterior\n",
    "def log_post(p, x_wt, x_mut):\n",
    "    \"\"\"\n",
    "    Returns the log of the posterior consisting of the product of Gaussians.\n",
    "    p[0] = mu_wt\n",
    "    p[1] = mu_mut\n",
    "    p[2] = sigma_wt\n",
    "    p[3] = sigma_mut\n",
    "    \"\"\"\n",
    "    # Unpack parameters\n",
    "    mu_wt, mu_mut, sigma_wt, sigma_mut = p\n",
    "    \n",
    "    # Make sure we have everything in the right range\n",
    "    if (sigma_wt < 0) or (sigma_mut < 0):\n",
    "        return -np.inf\n",
    "\n",
    "    # Compute separate parts of posterior from each sample\n",
    "    log_post_wt = st.norm.logpdf(x_wt, mu_wt, sigma_wt).sum() - np.log(sigma_wt)\n",
    "    \n",
    "    log_post_mut = st.norm.logpdf(x_mut, mu_mut, sigma_mut).sum() - np.log(sigma_mut)\n",
    "\n",
    "    # Add them up to return\n",
    "    return log_post_wt + log_post_mut\n",
    "\n",
    "def negative_log_post(p, x_wt,x_mut):\n",
    "    return -log_post(p,x_wt,x_mut)\n",
    "\n",
    "#MAP\n",
    "wt=wt_fish[(\"mean_rest_bout_length\")]\n",
    "mut=mut_fish[(\"mean_rest_bout_length\")]\n",
    "args = (wt,mut)\n",
    "\n",
    "p0 = np.array([ 2, 1.5, 0.5, 0.8])\n",
    "\n",
    "hes_fun = ndt.Hessian(log_post)\n",
    "res = scipy.optimize.minimize(negative_log_post, p0, args=args)\n",
    "hes = hes_fun(res.x,wt,mut)\n",
    "cov1 = -np.linalg.inv(hes)\n",
    "\n",
    "bayesian_estimate_diff = res.x[0]-res.x[1]\n",
    "credible_interval = 1.96 * np.sqrt(np.sqrt(cov1[0,0])**2 + np.sqrt(cov1[1,1])**2)\n",
    "\n",
    "print(\"The bayesian estimate of the difference of the mean is\", \n",
    "      bayesian_estimate_diff, \"±\", credible_interval)"
   ]
  },
  {
   "cell_type": "markdown",
   "metadata": {
    "collapsed": true
   },
   "source": [
    "# Part D"
   ]
  },
  {
   "cell_type": "markdown",
   "metadata": {},
   "source": [
    "First we make an array of the mean rest bout lengths for our set of wild type fish and mutant fish."
   ]
  },
  {
   "cell_type": "code",
   "execution_count": 15,
   "metadata": {
    "collapsed": false
   },
   "outputs": [],
   "source": [
    "# we want to make an array of the mean rest bout lengths\n",
    "wt = wt_fish['mean_rest_bout_length'].values\n",
    "\n",
    "mut = mut_fish['mean_rest_bout_length'].values"
   ]
  },
  {
   "cell_type": "markdown",
   "metadata": {},
   "source": [
    "Now we want to test our null hypothesis. $H_0$ is that the wild type and mutant are drawn from the same Gaussian distribution, more specifically a student-t distribution. In other words that the means are the same $\\mu_{wt} = \\mu_{mut}$. \n",
    "\n",
    "We can use a T-statistic as our measurable statistic. \n",
    "\\begin{align}\n",
    "T = \\frac {\\bar{x}_1 - \\bar{x}_2 - n_1 + n_2} {S_D \\sqrt{n^{-1}_1 + n^{-1}_2}}\n",
    "\\end{align}\n",
    "Where $S_D$ is defined as:\n",
    "\\begin{align}\n",
    "S_D = \\frac {(n_1 - 1)S_1^2 + (n_2 - 1)S_2^2} {n_1 + n_2 -2}\n",
    "\\end{align}\n",
    "And S_1 and S_2 are\n",
    "\\begin{align}\n",
    "S = \\frac {1}{n - 1} \\sum_{i \\in D}{(x_i - \\bar{x})^2}\n",
    "\\end{align}\n",
    "for their respective values.\n",
    "\n",
    "We want to combine all of our measurements and then redistribute them to a group of 17 and group of 22. "
   ]
  },
  {
   "cell_type": "code",
   "execution_count": 16,
   "metadata": {
    "collapsed": false
   },
   "outputs": [
    {
     "name": "stdout",
     "output_type": "stream",
     "text": [
      "Welch's t test p value = 0.02204\n"
     ]
    }
   ],
   "source": [
    "# our null hypothesis is that the mutant and the wild type are drawn from the same\n",
    "# Gaussian distribution \n",
    "\n",
    "# We first combine all of the measurements and then distrbute them to a set of 17 and \n",
    "# a set of 22\n",
    "\n",
    "def final_p_value(w, m, trials, greater_or_less='greater', return_abs=False):\n",
    "    \n",
    "    def distribute_samples(w, m, some_func, trials, args=()):\n",
    "        '''\n",
    "        combine our measurements for rest bout and redistribute them to two groups\n",
    "        '''\n",
    "    \n",
    "        # first we create an empty array to store our samples\n",
    "        samples = np.empty(trials)\n",
    "    \n",
    "        # concatenate all the measurements\n",
    "        measurements = np.concatenate((w, m))\n",
    "    \n",
    "        # create sets for all trials \n",
    "        for i in range(trials):\n",
    "            measurements = np.random.permutation(measurements)\n",
    "            samples[i] = some_func(measurements[:len(w)], measurements[len(w):], *args)\n",
    "     \n",
    "        return samples\n",
    "\n",
    "\n",
    "    # now I want to define the p-value\n",
    "    def p_value(samples, actual, greater_or_less='greater'):\n",
    "        '''\n",
    "        compute the p value (the probability our measurement is \n",
    "        greather than or less than the actual value\n",
    "        '''\n",
    "    \n",
    "        if greater_or_less == 'greater':\n",
    "            return np.sum(samples >= actual) / len(samples)\n",
    "        else:\n",
    "            return np.sum(samples <= actual) / len(samples)\n",
    "\n",
    "    # now we can run our test and see if we will get the actual difference in our means\n",
    "    # this will be my some_func in my distribute_samples function\n",
    "    # now we can run our a Welch's t-test\n",
    "    # The T statistic is written out in tutorial 6b\n",
    "    def T_stat(w, m, return_abs=False):\n",
    "        '''\n",
    "        Calculate the absolute difference of the means\n",
    "        '''\n",
    "        w_s = w.var(ddof=1)\n",
    "        m_s = m.var(ddof=1)\n",
    "    \n",
    "        sd = ((len(w)-1) * w_s**2 + (len(m) - 1) * m_s**2) / (len(w) + len(m) - 2)\n",
    "    \n",
    "        diff = w.mean() - m.mean() - np.sqrt(w.var()) + np.sqrt(m.var()) \n",
    "        pool_variance = sd * np.sqrt(1/(len(w)) + 1/(len(m)))\n",
    "            \n",
    "        if return_abs:\n",
    "            return np.abs(diff) / pool_variance   \n",
    "        return diff / pool_variance\n",
    "\n",
    "\n",
    "    # let's retrieve all our random sample sets of two\n",
    "    samples = distribute_samples(w, m, T_stat, trials, args = (True,))\n",
    "\n",
    "    # calculate p value\n",
    "    p_value_student_t = p_value(samples, T_stat(w, m))\n",
    "\n",
    "    return p_value_student_t\n",
    "\n",
    "p_value = final_p_value(wt, mut, 100000)\n",
    "print(\"Welch's t test p value =\", p_value)"
   ]
  },
  {
   "cell_type": "markdown",
   "metadata": {},
   "source": [
    "# Part E"
   ]
  },
  {
   "cell_type": "code",
   "execution_count": 18,
   "metadata": {
    "collapsed": false
   },
   "outputs": [],
   "source": [
    "# Define log of the posterior for H_0 \n",
    "def log_post_H0(p, x):\n",
    "    \"\"\"\n",
    "    Returns the log of the posterior for a Gaussian.\n",
    "    p[0] = mu\n",
    "    p[1] = sigma\n",
    "    \"\"\"\n",
    "    # Unpack parameters\n",
    "    mu, sigma = p\n",
    "    \n",
    "    # Make sure we have everything in the right range\n",
    "    if (sigma < 0):\n",
    "        return -np.inf\n",
    "\n",
    "    # Add them up to return\n",
    "    return st.norm.logpdf(x, mu, sigma).sum() - np.log(sigma)"
   ]
  },
  {
   "cell_type": "code",
   "execution_count": 19,
   "metadata": {
    "collapsed": false
   },
   "outputs": [],
   "source": [
    "# Instantiate Hessian for log posterior for H_0\n",
    "hes_fun = ndt.Hessian(log_post_H0)\n",
    "\n",
    "# Compute Hessian at MAP for H_0\n",
    "hes = hes_fun(np.asarray([df['mean_rest_bout_length'].mean(), \n",
    "                          df['mean_rest_bout_length'].std()]), df['mean_rest_bout_length'])\n",
    "\n",
    "# Calculate covariance matrix for H_0\n",
    "cov0 = -np.linalg.inv(hes)"
   ]
  },
  {
   "cell_type": "code",
   "execution_count": 20,
   "metadata": {
    "collapsed": false
   },
   "outputs": [
    {
     "name": "stdout",
     "output_type": "stream",
     "text": [
      "Odds ratio = 0.0830\n"
     ]
    }
   ],
   "source": [
    "# Calculate the log of the good fit ratio\n",
    "log_good_fit_ratio = \\\n",
    "st.norm.logpdf(df['mean_rest_bout_length'], df['mean_rest_bout_length'].mean(), df['mean_rest_bout_length'].std()).sum() \\\n",
    "- st.norm.logpdf(wt, res.x[0], res.x[2]).sum() \\\n",
    "- st.norm.logpdf(mut, res.x[1], res.x[3]).sum()\n",
    "\n",
    "# Caclulate the log of the Occam factor\n",
    "log_occam = np.log(res.x[2]) + np.log(res.x[3]) + np.log(2 * np.pi) + np.log(np.linalg.det(cov0))/2 \\\n",
    "- np.log(df['mean_rest_bout_length'].std()) - 2 * np.log(2 * np.pi) - np.log(np.linalg.det(cov1))/2\n",
    "\n",
    "# Calculate and print the odds ratio\n",
    "print(\"\"\"Odds ratio = {0:.4f}\"\"\".format(np.exp(log_good_fit_ratio + log_occam)))"
   ]
  },
  {
   "cell_type": "markdown",
   "metadata": {
    "collapsed": true
   },
   "source": [
    "# Part F"
   ]
  },
  {
   "cell_type": "markdown",
   "metadata": {},
   "source": [
    "**d)**"
   ]
  },
  {
   "cell_type": "code",
   "execution_count": null,
   "metadata": {
    "collapsed": true
   },
   "outputs": [],
   "source": [
    "p_val = final_p_value(wt_set, mut_set, 100000)\n",
    "print('p value = ',p_val)"
   ]
  }
 ],
 "metadata": {
  "kernelspec": {
   "display_name": "Python 3",
   "language": "python",
   "name": "python3"
  },
  "language_info": {
   "codemirror_mode": {
    "name": "ipython",
    "version": 3
   },
   "file_extension": ".py",
   "mimetype": "text/x-python",
   "name": "python",
   "nbconvert_exporter": "python",
   "pygments_lexer": "ipython3",
   "version": "3.4.3"
  }
 },
 "nbformat": 4,
 "nbformat_minor": 0
}
