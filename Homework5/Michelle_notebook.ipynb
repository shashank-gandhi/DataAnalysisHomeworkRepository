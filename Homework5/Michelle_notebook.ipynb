{
 "cells": [
  {
   "cell_type": "markdown",
   "metadata": {
    "collapsed": true
   },
   "source": [
    "**d)** First we import our work horses and load a `DataFrame`"
   ]
  },
  {
   "cell_type": "code",
   "execution_count": 2,
   "metadata": {
    "collapsed": true
   },
   "outputs": [],
   "source": [
    "import numpy as np\n",
    "import pandas as pd\n",
    "import scipy.optimize\n",
    "import numba\n",
    "import matplotlib.pyplot as plt\n",
    "import seaborn as sns\n",
    "\n",
    "# Magic function to make matplotlib inline\n",
    "%matplotlib inline\n",
    "\n",
    "# import Justin's settings\n",
    "rc = {'lines.linewidth': 2,\n",
    "      'axes.labelsize': 18,\n",
    "      'axes.titlesize': 18,\n",
    "      'axes.facecolor': 'DFDFE5'}\n",
    "sns.set_context('notebook', rc=rc)\n",
    "sns.set_style('darkgrid', rc=rc)\n",
    "\n",
    "df = pd.read_csv('./data/mean_rest_bouts.csv', comment = '#')"
   ]
  },
  {
   "cell_type": "code",
   "execution_count": 3,
   "metadata": {
    "collapsed": false
   },
   "outputs": [
    {
     "name": "stdout",
     "output_type": "stream",
     "text": [
      "\n",
      "           µ         σ          n\n",
      "        ---------------------------\n",
      "WT      2.2094     0.5229      17\n",
      "Venus   1.7271     0.8051       22\n",
      "\n"
     ]
    }
   ],
   "source": [
    "# Since there are two fish whose rest bouts in a minute interveral\n",
    "# are undetectable we will use .fillna to set them to zero\n",
    "\n",
    "wt = df[df['genotype'] == 'wt'].fillna(0)\n",
    "\n",
    "mut = df[df['genotype'] == 'mut'].fillna(0)\n",
    "\n",
    "# we say that mu is our mean and sigma^2 is n / (n - 1) of our sample variance\n",
    "# compute the mean and the variance for our wt and mutant data sets \n",
    "\n",
    "wt_mean = wt['mean_rest_bout_length'].mean()\n",
    "wt_var = wt['mean_rest_bout_length'].var(ddof=1)\n",
    "\n",
    "mut_mean = mut['mean_rest_bout_length'].mean()\n",
    "mut_var = mut['mean_rest_bout_length'].var(ddof=1)\n",
    "\n",
    "print (\"\"\"\n",
    "           µ         σ          n\n",
    "        ---------------------------\n",
    "WT      {0:.4f}     {2:.4f}      {4:d}\n",
    "Venus   {1:.4f}     {3:.4f}       {5:d}\n",
    "\"\"\".format(wt_mean, mut_mean, np.sqrt(wt_var), np.sqrt(mut_var), \n",
    "           len(wt['mean_rest_bout_length']), len(mut['mean_rest_bout_length'])))"
   ]
  },
  {
   "cell_type": "code",
   "execution_count": 4,
   "metadata": {
    "collapsed": true
   },
   "outputs": [],
   "source": [
    "# we want to make an array of the mean rest bout lengths\n",
    "wt = wt['mean_rest_bout_length'].values\n",
    "\n",
    "mut = mut['mean_rest_bout_length'].values\n"
   ]
  },
  {
   "cell_type": "code",
   "execution_count": 5,
   "metadata": {
    "collapsed": true
   },
   "outputs": [],
   "source": [
    "# our null hypothesis is that the mutant and the wild type are drawn from the same\n",
    "# Gaussian distribution in other words we want to test if the mutant mean is the same\n",
    "# as the wt mean\n",
    "\n",
    "# We first combine all of the measurements and then distrbute them to a set of 17 and \n",
    "# a set of 22\n",
    "\n",
    "def distribute_samples(w, m, some_func, trials, args=()):\n",
    "    '''\n",
    "    combine our measurements for rest bout and redistribute them to two groups\n",
    "    '''\n",
    "    \n",
    "    # first we create an empty array to store our samples\n",
    "    samples = np.empty(trials)\n",
    "    \n",
    "    # concatenate all the measurements\n",
    "    measurements = np.concatenate((w, m))\n",
    "    \n",
    "    # create sets for all trials \n",
    "    for i in range(trials):\n",
    "        measurements = np.random.permutation(measurements)\n",
    "        samples[i] = some_func(measurements[:len(w)], measurements[len(w):], *args)\n",
    "     \n",
    "    return samples\n",
    "\n",
    "\n",
    "# now I want to define the p-value\n",
    "def p_value(samples, actual, greater_or_less='greater'):\n",
    "    '''\n",
    "    compute the p value (the probability our measurement is \n",
    "    greather than or less than the actual value\n",
    "    '''\n",
    "    \n",
    "    if greater_or_less == 'greater':\n",
    "        return np.sum(samples >= actual) / len(samples)\n",
    "    else:\n",
    "        return np.sum(samples <= actual) / len(samples)\n",
    "\n",
    "# now we can run our test and see if we will get the actual difference in our means\n",
    "# this will be my some_func in my distribute_samples function\n",
    "def abs_diff(w, m, return_abs=False):\n",
    "    '''\n",
    "    Calculate the absolute difference of the means\n",
    "    '''\n",
    "    diff = w.mean() - m.mean()\n",
    "    if return_abs:\n",
    "        return np.abs(diff)\n",
    "    return diff"
   ]
  },
  {
   "cell_type": "code",
   "execution_count": 6,
   "metadata": {
    "collapsed": false
   },
   "outputs": [
    {
     "name": "stdout",
     "output_type": "stream",
     "text": [
      "p value = 0.0374\n"
     ]
    }
   ],
   "source": [
    "# let's retrieve all our random sample sets of two\n",
    "samples = distribute_samples(wt, mut, abs_diff, 10000, args = (True,))\n",
    "\n",
    "# calculate p value\n",
    "p_value = p_value(samples, abs_diff(wt, mut, True))\n",
    "\n",
    "print ('p value =', p_value)"
   ]
  },
  {
   "cell_type": "code",
   "execution_count": null,
   "metadata": {
    "collapsed": true
   },
   "outputs": [],
   "source": []
  }
 ],
 "metadata": {
  "kernelspec": {
   "display_name": "Python 3",
   "language": "python",
   "name": "python3"
  },
  "language_info": {
   "codemirror_mode": {
    "name": "ipython",
    "version": 3
   },
   "file_extension": ".py",
   "mimetype": "text/x-python",
   "name": "python",
   "nbconvert_exporter": "python",
   "pygments_lexer": "ipython3",
   "version": "3.4.3"
  }
 },
 "nbformat": 4,
 "nbformat_minor": 0
}
