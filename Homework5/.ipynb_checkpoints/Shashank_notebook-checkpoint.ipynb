{
 "cells": [
  {
   "cell_type": "code",
   "execution_count": 3,
   "metadata": {
    "collapsed": true
   },
   "outputs": [],
   "source": [
    "import warnings\n",
    "\n",
    "# Our numerical workhorses\n",
    "import numpy as np\n",
    "import pandas as pd\n",
    "import scipy.optimize\n",
    "\n",
    "# Numba for speed\n",
    "import numba\n",
    "import corner\n",
    "# Import plotting tools\n",
    "import matplotlib.pyplot as plt\n",
    "import seaborn as sns\n",
    "import numdifftools as ndt\n",
    "import scipy.stats as st\n",
    "# Magic function to make matplotlib inline; other style specs must come AFTER\n",
    "%matplotlib inline\n",
    "\n",
    "# This enables high res graphics inline (only use with static plots (non-Bokeh))\n",
    "# SVG is preferred, but there is a bug in Jupyter with vertical lines\n",
    "%config InlineBackend.figure_formats = {'png', 'retina'}\n",
    "\n",
    "# JB's favorite Seaborn settings for notebooks\n",
    "rc = {'lines.linewidth': 2, \n",
    "      'axes.labelsize': 18, \n",
    "      'axes.titlesize': 18, \n",
    "      'axes.facecolor': 'DFDFE5'}\n",
    "sns.set_context('notebook', rc=rc)\n",
    "sns.set_style('darkgrid', rc=rc)\n",
    "\n",
    "# Suppress future warnings\n",
    "warnings.simplefilter(action='ignore', category=FutureWarning)\n",
    "#part a and b\n",
    "# Load data\n",
    "df = pd.read_csv('./data/mean_rest_bouts.csv', comment='#')\n",
    "\n",
    "# Pull out wild type and mutant and take NaNs to be zero\n",
    "df = df[df['genotype'].isin(['wt', 'mut'])].fillna(0)"
   ]
  },
  {
   "cell_type": "code",
   "execution_count": 3,
   "metadata": {
    "collapsed": false
   },
   "outputs": [
    {
     "data": {
      "text/html": [
       "<div>\n",
       "<table border=\"1\" class=\"dataframe\">\n",
       "  <thead>\n",
       "    <tr style=\"text-align: right;\">\n",
       "      <th></th>\n",
       "      <th>fish</th>\n",
       "      <th>genotype</th>\n",
       "      <th>mean_rest_bout_length</th>\n",
       "    </tr>\n",
       "  </thead>\n",
       "  <tbody>\n",
       "    <tr>\n",
       "      <th>2</th>\n",
       "      <td>FISH11</td>\n",
       "      <td>mut</td>\n",
       "      <td>2.255556</td>\n",
       "    </tr>\n",
       "    <tr>\n",
       "      <th>3</th>\n",
       "      <td>FISH12</td>\n",
       "      <td>mut</td>\n",
       "      <td>1.529412</td>\n",
       "    </tr>\n",
       "    <tr>\n",
       "      <th>4</th>\n",
       "      <td>FISH13</td>\n",
       "      <td>mut</td>\n",
       "      <td>2.373626</td>\n",
       "    </tr>\n",
       "    <tr>\n",
       "      <th>5</th>\n",
       "      <td>FISH14</td>\n",
       "      <td>wt</td>\n",
       "      <td>2.352941</td>\n",
       "    </tr>\n",
       "    <tr>\n",
       "      <th>7</th>\n",
       "      <td>FISH18</td>\n",
       "      <td>wt</td>\n",
       "      <td>2.111111</td>\n",
       "    </tr>\n",
       "  </tbody>\n",
       "</table>\n",
       "</div>"
      ],
      "text/plain": [
       "     fish genotype  mean_rest_bout_length\n",
       "2  FISH11      mut               2.255556\n",
       "3  FISH12      mut               1.529412\n",
       "4  FISH13      mut               2.373626\n",
       "5  FISH14       wt               2.352941\n",
       "7  FISH18       wt               2.111111"
      ]
     },
     "execution_count": 3,
     "metadata": {},
     "output_type": "execute_result"
    }
   ],
   "source": [
    "df.head()"
   ]
  },
  {
   "cell_type": "markdown",
   "metadata": {
    "collapsed": true
   },
   "source": [
    "\n",
    "# Part A"
   ]
  },
  {
   "cell_type": "markdown",
   "metadata": {},
   "source": [
    "Sample mean is the best estimate of $\\mu$. Unbiased estimator of variance is:\n",
    "\\begin{align}\n",
    "\\frac{n}{n-1}&s^2\n",
    "\\end{align}"
   ]
  },
  {
   "cell_type": "code",
   "execution_count": 26,
   "metadata": {
    "collapsed": false
   },
   "outputs": [
    {
     "name": "stdout",
     "output_type": "stream",
     "text": [
      "The best estimates for µ and σ are:\n",
      "                µ           σ\n",
      "             -----------------\n",
      "    WT       2.2094     0.5229\n",
      "    Mutant   1.7271     0.8051\n",
      "    \n"
     ]
    }
   ],
   "source": [
    "def get_estimates(data):\n",
    "    \"\"\"\n",
    "    Takes a tody dataframe as an input. Returns:\n",
    "    1. mu_wt\n",
    "    2. mu_mut\n",
    "    3. sigma_wt\n",
    "    4. sigma_mut\n",
    "    \"\"\"\n",
    "    #separate the dataset in to wild type and mutant\n",
    "    wt_fish=data[data[\"genotype\"]==\"wt\"]\n",
    "    mut_fish=data[data[\"genotype\"]==\"mut\"]\n",
    "\n",
    "    #find means for wt and mut\n",
    "    mu_wt = wt_fish.mean()\n",
    "    mu_mut = mut_fish.mean()\n",
    "\n",
    "    #find unbiased estimator of variance for wt and mut\n",
    "    sigma_wt = np.sqrt(wt_fish.var(ddof=1))\n",
    "    sigma_mut = np.sqrt(mut_fish.var(ddof=1))\n",
    "\n",
    "    #return values\n",
    "    return mu_wt, mu_mut, sigma_wt, sigma_mut\n",
    "\n",
    "#part a\n",
    "\n",
    "muWT, muMUT, sigmaWT, sigmaMUT = get_estimates(df)\n",
    "\n",
    "print(\"\"\"The best estimates for µ and σ are:\n",
    "                µ           σ\n",
    "             -----------------\n",
    "    WT       {0:.4f}     {2:.4f}\n",
    "    Mutant   {1:.4f}     {3:.4f}\n",
    "    \"\"\".format(float(muWT), float(muMUT), \n",
    "           float(sigmaWT), float(sigmaMUT)))"
   ]
  },
  {
   "cell_type": "markdown",
   "metadata": {},
   "source": [
    "Frequentist estimate of the difference of the means:\n",
    "\\begin{align}\n",
    "\\delta \\equiv \\mu_{wt} - \\mu_{mut}\n",
    "\\end{align}"
   ]
  },
  {
   "cell_type": "markdown",
   "metadata": {},
   "source": [
    "# Part B"
   ]
  },
  {
   "cell_type": "code",
   "execution_count": 24,
   "metadata": {
    "collapsed": false
   },
   "outputs": [
    {
     "name": "stdout",
     "output_type": "stream",
     "text": [
      "The frequentist estimate of the difference of the mean is:\n",
      "      µ(wt)-µ(mut) = 0.4823 ± 0.4136 minutes\n"
     ]
    }
   ],
   "source": [
    "def get_frequentist_estimate(mu_wt, sigma_wt, mu_mut, sigma_mut, data, trials=10000):\n",
    "    \"\"\"\n",
    "    Returns frequentist estimate of the difference of the mean with a 95%\n",
    "    confidence interval. Takes as input the result of get_estimates \n",
    "    function defined in part a.\n",
    "    \"\"\"\n",
    "   \n",
    "    #separate the dataset in to wild type and mutant\n",
    "    wt_fish=data[data[\"genotype\"]==\"wt\"]\n",
    "    mut_fish=data[data[\"genotype\"]==\"mut\"]\n",
    "    \n",
    "    def difference_of_means(mu_wt, sigma_wt, mu_mut, sigma_mut, reps_wt, reps_mut, trials):\n",
    "        \"\"\"\n",
    "        This function draws samples out of a gaussian distribution defined for wildtype\n",
    "        and mutant population using means and sigmas calculated in part a.\n",
    "        \"\"\"\n",
    "        difference_mean_holder=np.empty(trials)\n",
    "    \n",
    "        for i in range(trials):\n",
    "            wt_rep_mean = np.random.normal(mu_wt, sigma_wt, reps_wt).mean()\n",
    "            mut_rep_mean = np.random.normal(mu_mut, sigma_mut, reps_mut).mean()\n",
    "            difference_mean_holder[i]=wt_rep_mean - mut_rep_mean\n",
    "        \n",
    "        return difference_mean_holder\n",
    "    \n",
    "    difference_out = difference_of_means(muWT, sigmaWT, muMUT,sigmaMUT, len(wt_fish),len(mut_fish), trials)\n",
    "    \n",
    "    return mu_wt - mu_mut, float(1.96*np.std(difference_out))\n",
    "\n",
    "#unpack results\n",
    "frequentist_estimate, confidence_interval = get_frequentist_estimate(muWT, sigmaWT, muMUT, sigmaMUT, df, 10000)\n",
    "\n",
    "print(\"\"\"The frequentist estimate of the difference of the mean is:\n",
    "      µ(wt)-µ(mut) = {0:.4f} ± {1:.4f}\"\"\"\n",
    "      .format(float(frequentist_estimate), confidence_interval), \"minutes\")"
   ]
  },
  {
   "cell_type": "markdown",
   "metadata": {},
   "source": [
    "# Part C:"
   ]
  },
  {
   "cell_type": "code",
   "execution_count": 37,
   "metadata": {
    "collapsed": false
   },
   "outputs": [
    {
     "name": "stdout",
     "output_type": "stream",
     "text": [
      "The bayesian estimate of the difference of the mean is:\n",
      "    µ(wt)-µ(mut) = 0.4823 ± 0.3978 minutes.\n"
     ]
    }
   ],
   "source": [
    "def get_bayesian_estimate(data):\n",
    "    \"\"\"\n",
    "    This function takes the dataframe containing wildtype and mutant fish and\n",
    "    calculates the bayesian estimate for the difference of the means.\n",
    "    \"\"\"\n",
    "    #separate the dataset in to wild type and mutant\n",
    "    wt_fish=data[data[\"genotype\"]==\"wt\"]\n",
    "    mut_fish=data[data[\"genotype\"]==\"mut\"]\n",
    "    \n",
    "    # Define log of the posterior\n",
    "    def log_post(p, x_wt, x_mut):\n",
    "        \"\"\"\n",
    "        Returns the log of the posterior consisting of the product of Gaussians.\n",
    "        p[0] = mu_wt\n",
    "        p[1] = mu_mut\n",
    "        p[2] = sigma_wt\n",
    "        p[3] = sigma_mut\n",
    "        \"\"\"\n",
    "        # Unpack parameters\n",
    "        mu_wt, mu_mut, sigma_wt, sigma_mut = p\n",
    "    \n",
    "        # Make sure we have everything in the right range\n",
    "        if (sigma_wt < 0) or (sigma_mut < 0):\n",
    "            return -np.inf\n",
    "\n",
    "        # Compute separate parts of posterior from each sample\n",
    "        log_post_wt = st.norm.logpdf(x_wt, mu_wt, sigma_wt).sum() - np.log(sigma_wt)\n",
    "    \n",
    "        log_post_mut = st.norm.logpdf(x_mut, mu_mut, sigma_mut).sum() - np.log(sigma_mut)\n",
    "\n",
    "        # Add them up to return\n",
    "        return log_post_wt + log_post_mut\n",
    "\n",
    "    def negative_log_post(p, x_wt,x_mut):\n",
    "        \n",
    "        return -log_post(p,x_wt,x_mut)\n",
    "\n",
    "    #MAP\n",
    "    wt=wt_fish[(\"mean_rest_bout_length\")]\n",
    "    mut=mut_fish[(\"mean_rest_bout_length\")]\n",
    "    \n",
    "    #define args\n",
    "    args = (wt,mut)\n",
    "    p0 = np.array([ 2, 1.5, 0.5, 0.8])\n",
    "\n",
    "    hes_fun = ndt.Hessian(log_post)\n",
    "    res = scipy.optimize.minimize(negative_log_post, p0, args=args)\n",
    "    hes = hes_fun(res.x,wt,mut)\n",
    "    cov = -np.linalg.inv(hes)\n",
    "\n",
    "    bayesian_estimate_diff = res.x[0]-res.x[1]\n",
    "    credible_interval = 1.96 * np.sqrt(np.sqrt(cov[0,0])**2 + np.sqrt(cov[1,1])**2)\n",
    "    \n",
    "    return bayesian_estimate_diff, credible_interval\n",
    "\n",
    "bayesian_estimate, credible_interval = get_bayesian_estimate(df)\n",
    "\n",
    "print(\"\"\"The bayesian estimate of the difference of the mean is:\n",
    "    µ(wt)-µ(mut) = {0:.4f} ± {1:.4f}\"\"\".format(bayesian_estimate, credible_interval), \"minutes.\")"
   ]
  },
  {
   "cell_type": "markdown",
   "metadata": {},
   "source": [
    "# Part D"
   ]
  },
  {
   "cell_type": "code",
   "execution_count": null,
   "metadata": {
    "collapsed": true
   },
   "outputs": [],
   "source": []
  }
 ],
 "metadata": {
  "kernelspec": {
   "display_name": "Python 3",
   "language": "python",
   "name": "python3"
  },
  "language_info": {
   "codemirror_mode": {
    "name": "ipython",
    "version": 3
   },
   "file_extension": ".py",
   "mimetype": "text/x-python",
   "name": "python",
   "nbconvert_exporter": "python",
   "pygments_lexer": "ipython3",
   "version": "3.4.3"
  }
 },
 "nbformat": 4,
 "nbformat_minor": 0
}
