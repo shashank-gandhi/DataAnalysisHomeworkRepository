{
 "cells": [
  {
   "cell_type": "markdown",
   "metadata": {
    "collapsed": true
   },
   "source": [
    "**d)** First we import our work horses and load a `DataFrame`"
   ]
  },
  {
   "cell_type": "code",
   "execution_count": 2,
   "metadata": {
    "collapsed": true
   },
   "outputs": [],
   "source": [
    "import numpy as np\n",
    "import pandas as pd\n",
    "import scipy.optimize\n",
    "import numba\n",
    "import matplotlib.pyplot as plt\n",
    "import seaborn as sns\n",
    "\n",
    "# Magic function to make matplotlib inline\n",
    "%matplotlib inline\n",
    "\n",
    "# import Justin's settings\n",
    "rc = {'lines.linewidth': 2,\n",
    "      'axes.labelsize': 18,\n",
    "      'axes.titlesize': 18,\n",
    "      'axes.facecolor': 'DFDFE5'}\n",
    "sns.set_context('notebook', rc=rc)\n",
    "sns.set_style('darkgrid', rc=rc)\n",
    "\n",
    "df = pd.read_csv('./data/mean_rest_bouts.csv', comment = '#')"
   ]
  },
  {
   "cell_type": "code",
   "execution_count": 3,
   "metadata": {
    "collapsed": false
   },
   "outputs": [
    {
     "name": "stdout",
     "output_type": "stream",
     "text": [
      "\n",
      "           µ         σ          n\n",
      "        ---------------------------\n",
      "WT      2.2094     0.5229      17\n",
      "Venus   1.7271     0.8051       22\n",
      "\n"
     ]
    }
   ],
   "source": [
    "# Since there are two fish whose rest bouts in a minute interveral\n",
    "# are undetectable we will use .fillna to set them to zero\n",
    "\n",
    "wt = df[df['genotype'] == 'wt'].fillna(0)\n",
    "\n",
    "mut = df[df['genotype'] == 'mut'].fillna(0)\n",
    "\n",
    "# we say that mu is our mean and sigma^2 is n / (n - 1) of our sample variance\n",
    "# compute the mean and the variance for our wt and mutant data sets \n",
    "\n",
    "wt_mean = wt['mean_rest_bout_length'].mean()\n",
    "wt_var = wt['mean_rest_bout_length'].var(ddof=1)\n",
    "\n",
    "mut_mean = mut['mean_rest_bout_length'].mean()\n",
    "mut_var = mut['mean_rest_bout_length'].var(ddof=1)\n",
    "\n",
    "print (\"\"\"\n",
    "           µ         σ          n\n",
    "        ---------------------------\n",
    "WT      {0:.4f}     {2:.4f}      {4:d}\n",
    "Venus   {1:.4f}     {3:.4f}       {5:d}\n",
    "\"\"\".format(wt_mean, mut_mean, np.sqrt(wt_var), np.sqrt(mut_var), \n",
    "           len(wt['mean_rest_bout_length']), len(mut['mean_rest_bout_length'])))"
   ]
  },
  {
   "cell_type": "code",
   "execution_count": 4,
   "metadata": {
    "collapsed": false
   },
   "outputs": [
    {
     "ename": "SyntaxError",
     "evalue": "invalid syntax (<ipython-input-4-1c80febd3999>, line 1)",
     "output_type": "error",
     "traceback": [
      "\u001b[0;36m  File \u001b[0;32m\"<ipython-input-4-1c80febd3999>\"\u001b[0;36m, line \u001b[0;32m1\u001b[0m\n\u001b[0;31m    First we make an array of the mean rest bout lengths for our set of wild type fish and mutant fish.\u001b[0m\n\u001b[0m           ^\u001b[0m\n\u001b[0;31mSyntaxError\u001b[0m\u001b[0;31m:\u001b[0m invalid syntax\n"
     ]
    }
   ],
   "source": [
    "First we make an array of the mean rest bout lengths for our set of wild type fish and mutant fish."
   ]
  },
  {
   "cell_type": "code",
   "execution_count": 9,
   "metadata": {
    "collapsed": true
   },
   "outputs": [],
   "source": [
    "# we want to make an array of the mean rest bout lengths\n",
    "wt = wt['mean_rest_bout_length'].values\n",
    "\n",
    "mut = mut['mean_rest_bout_length'].values\n"
   ]
  },
  {
   "cell_type": "markdown",
   "metadata": {},
   "source": [
    "Now we want to test our null hypothesis. $H_0$ is that the wild type and mutant are drawn from the same Gaussian distribution, more specifically a student-t distribution. In other words that the means are the same $\\mu_{wt} = \\mu_{mut}$. \n",
    "\n",
    "We can use a T-statistic as our measurable statistic. \n",
    "\\begin{align}\n",
    "T = \\frac {\\bar{x}_1 - \\bar{x}_2 - n_1 + n_2} {S_D \\sqrt{n^{-1}_1 + n^{-1}_2}}\n",
    "\\end{align}\n",
    "Where $S_D$ is defined as:\n",
    "\\begin{align}\n",
    "S_D = \\frac {(n_1 - 1)S_1^2 + (n_2 - 1)S_2^2} {n_1 + n_2 -2}\n",
    "\\end{align}\n",
    "And S_1 and S_2 are\n",
    "\\begin{align}\n",
    "S = \\frac {1}{n - 1} \\sum_{i \\in D}{(x_i - \\bar{x})^2}\n",
    "\\end{align}\n",
    "for their respective values.\n",
    "\n",
    "We want to combine all of our measurements and then redistribute them to a group of 17 and group of 22 and we want to do this over and over again. "
   ]
  },
  {
   "cell_type": "code",
   "execution_count": 10,
   "metadata": {
    "collapsed": false
   },
   "outputs": [
    {
     "name": "stdout",
     "output_type": "stream",
     "text": [
      "Welch's t test p value = 0.02141\n"
     ]
    }
   ],
   "source": [
    "# our null hypothesis is that the mutant and the wild type are drawn from the same\n",
    "# Gaussian distribution\n",
    "\n",
    "# We first combine all of the measurements and then distrbute them to a set of 17 and \n",
    "# a set of 22 and we do this for several trials\n",
    "\n",
    "# we make one huge function to make part f easier\n",
    "def final_p_value(w, m, trials, greater_or_less='greater', return_abs=False):\n",
    "    \n",
    "    def distribute_samples(w, m, some_func, trials, args=()):\n",
    "        '''\n",
    "        combine our measurements for rest bout and redistribute them to two groups\n",
    "        '''\n",
    "    \n",
    "        # first we create an empty array to store our samples\n",
    "        samples = np.empty(trials)\n",
    "    \n",
    "        # concatenate all the measurements\n",
    "        measurements = np.concatenate((w, m))\n",
    "    \n",
    "        # create sets for all trials \n",
    "        for i in range(trials):\n",
    "            measurements = np.random.permutation(measurements)\n",
    "            samples[i] = some_func(measurements[:len(w)], measurements[len(w):], *args)\n",
    "     \n",
    "        return samples\n",
    "\n",
    "\n",
    "    # now I want to define the p-value\n",
    "    def p_value(samples, actual, greater_or_less='greater'):\n",
    "        '''\n",
    "        compute the p value (the probability our measurement is \n",
    "        greather than or less than the actual value\n",
    "        '''\n",
    "    \n",
    "        if greater_or_less == 'greater':\n",
    "            return np.sum(samples >= actual) / len(samples)\n",
    "        else:\n",
    "            return np.sum(samples <= actual) / len(samples)\n",
    "\n",
    "    # now we can run our test and see if we will get the actual difference in our means\n",
    "    # this will be my some_func in my distribute_samples function\n",
    "    # now we can run our a Welch's t-test\n",
    "    # The T statistic is written out in tutorial 6b\n",
    "    def T_stat(w, m, return_abs=False):\n",
    "        '''\n",
    "        Calculate the absolute difference of the means\n",
    "        '''\n",
    "        w_s = w.var(ddof=1)\n",
    "        m_s = m.var(ddof=1)\n",
    "    \n",
    "        sd = ((len(w)-1) * w_s**2 + (len(m) - 1) * m_s**2) / (len(w) + len(m) - 2)\n",
    "    \n",
    "        diff = w.mean() - m.mean() - np.sqrt(w.var()) + np.sqrt(m.var()) \n",
    "        pool_variance = sd * np.sqrt(1/(len(w)) + 1/(len(m)))\n",
    "            \n",
    "        if return_abs:\n",
    "            return np.abs(diff) / pool_variance   \n",
    "        return diff / pool_variance\n",
    "\n",
    "\n",
    "    # let's retrieve all our random sample sets of two\n",
    "    samples = distribute_samples(w, m, T_stat, trials, args = (True,))\n",
    "\n",
    "    # calculate p value\n",
    "    p_value_student_t = p_value(samples, T_stat(w, m))\n",
    "\n",
    "    return p_value_student_t\n",
    "\n",
    "p_value = final_p_value(wt, mut, 100000)\n",
    "print(\"Welch's t test p value =\", p_value)"
   ]
  },
  {
   "cell_type": "markdown",
   "metadata": {
    "collapsed": true
   },
   "source": [
    "**e)** We want to randomly generate a set of 17 mean sleep bout lengths for wild type fish from a guassian distritubtion using the mean, $\\mu_w$, and variance, $\\sigma^2_w$. We can do this by defining a function that results in an array of means. "
   ]
  },
  {
   "cell_type": "code",
   "execution_count": 11,
   "metadata": {
    "collapsed": false
   },
   "outputs": [
    {
     "ename": "NameError",
     "evalue": "name 'gaussian' is not defined",
     "output_type": "error",
     "traceback": [
      "\u001b[0;31m---------------------------------------------------------------------------\u001b[0m",
      "\u001b[0;31mNameError\u001b[0m                                 Traceback (most recent call last)",
      "\u001b[0;32m<ipython-input-11-4b079e8150c2>\u001b[0m in \u001b[0;36m<module>\u001b[0;34m()\u001b[0m\n\u001b[1;32m      8\u001b[0m         \u001b[0;32mreturn\u001b[0m \u001b[0mvals\u001b[0m\u001b[0;34m\u001b[0m\u001b[0m\n\u001b[1;32m      9\u001b[0m \u001b[0;34m\u001b[0m\u001b[0m\n\u001b[0;32m---> 10\u001b[0;31m \u001b[0mwt_set\u001b[0m \u001b[0;34m=\u001b[0m \u001b[0mgaussian\u001b[0m\u001b[0;34m(\u001b[0m\u001b[0;36m2.2\u001b[0m\u001b[0;34m,\u001b[0m \u001b[0;36m0.5\u001b[0m\u001b[0;34m,\u001b[0m \u001b[0;36m17\u001b[0m\u001b[0;34m)\u001b[0m\u001b[0;34m\u001b[0m\u001b[0m\n\u001b[0m\u001b[1;32m     11\u001b[0m \u001b[0mmut_set\u001b[0m \u001b[0;34m=\u001b[0m \u001b[0mgaussian\u001b[0m\u001b[0;34m(\u001b[0m\u001b[0;36m1.7\u001b[0m\u001b[0;34m,\u001b[0m \u001b[0;36m0.8\u001b[0m\u001b[0;34m,\u001b[0m \u001b[0;36m22\u001b[0m\u001b[0;34m)\u001b[0m\u001b[0;34m\u001b[0m\u001b[0m\n",
      "\u001b[0;31mNameError\u001b[0m: name 'gaussian' is not defined"
     ]
    }
   ],
   "source": [
    "def many_sets(mu, sigma, n, trials, args = ()):\n",
    "    '''define many random sets for wt and mut'''\n",
    "    def gaussian(mu, sigma, n, args=()):\n",
    "        '''\n",
    "        define the gaussian distribution\n",
    "        '''\n",
    "        vals = np.random.normal(mu, sigma, n)\n",
    "        return vals\n",
    "\n",
    "wt_set = gaussian(2.2, 0.5, 17)\n",
    "mut_set = gaussian(1.7, 0.8, 22)\n"
   ]
  },
  {
   "cell_type": "code",
   "execution_count": null,
   "metadata": {
    "collapsed": false
   },
   "outputs": [],
   "source": [
    "p_val = final_p_value(wt_set, mut_set, 100000)\n",
    "print('p value = ',p_val)"
   ]
  },
  {
   "cell_type": "markdown",
   "metadata": {},
   "source": [
    "# a Cohen's D"
   ]
  },
  {
   "cell_type": "code",
   "execution_count": 26,
   "metadata": {
    "collapsed": false
   },
   "outputs": [
    {
     "name": "stdout",
     "output_type": "stream",
     "text": [
      "Effects size= 0.691812372165\n"
     ]
    }
   ],
   "source": [
    "def cohen_d(w, m):\n",
    "    \"\"\"\n",
    "    Cohen's d\n",
    "    \"\"\"\n",
    "    w_s = w.var(ddof=1)\n",
    "    m_s = m.var(ddof=1)\n",
    "    \n",
    "    sd = ((len(w)-1) * w_s + (len(m) - 1) * m_s) / (len(w) + len(m) - 2)\n",
    "    \n",
    "    diff = m.mean() - w.mean()\n",
    "\n",
    "    return np.abs(diff) / np.sqrt(sd)\n",
    "\n",
    "effect_size = cohen_d(wt, mut)\n",
    "print ('Effects size =',effect_size)"
   ]
  },
  {
   "cell_type": "code",
   "execution_count": null,
   "metadata": {
    "collapsed": true
   },
   "outputs": [],
   "source": []
  }
 ],
 "metadata": {
  "kernelspec": {
   "display_name": "Python 3",
   "language": "python",
   "name": "python3"
  },
  "language_info": {
   "codemirror_mode": {
    "name": "ipython",
    "version": 3
   },
   "file_extension": ".py",
   "mimetype": "text/x-python",
   "name": "python",
   "nbconvert_exporter": "python",
   "pygments_lexer": "ipython3",
   "version": "3.4.3"
  }
 },
 "nbformat": 4,
 "nbformat_minor": 0
}
