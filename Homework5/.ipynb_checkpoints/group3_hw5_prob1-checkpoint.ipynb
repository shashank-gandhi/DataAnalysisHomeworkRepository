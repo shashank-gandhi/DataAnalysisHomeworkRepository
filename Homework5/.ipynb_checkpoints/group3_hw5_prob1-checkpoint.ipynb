{
 "cells": [
  {
   "cell_type": "markdown",
   "metadata": {},
   "source": [
    "# Problem 5.1"
   ]
  },
  {
   "cell_type": "code",
   "execution_count": 2,
   "metadata": {
    "collapsed": false
   },
   "outputs": [
    {
     "ename": "ImportError",
     "evalue": "No module named 'bebi103'",
     "output_type": "error",
     "traceback": [
      "\u001b[0;31m---------------------------------------------------------------------------\u001b[0m",
      "\u001b[0;31mImportError\u001b[0m                               Traceback (most recent call last)",
      "\u001b[0;32m<ipython-input-2-c92ab573c1fd>\u001b[0m in \u001b[0;36m<module>\u001b[0;34m()\u001b[0m\n\u001b[1;32m     21\u001b[0m \u001b[0;32mimport\u001b[0m \u001b[0msys\u001b[0m\u001b[0;34m\u001b[0m\u001b[0m\n\u001b[1;32m     22\u001b[0m \u001b[0msys\u001b[0m\u001b[0;34m.\u001b[0m\u001b[0mpath\u001b[0m\u001b[0;34m.\u001b[0m\u001b[0mappend\u001b[0m\u001b[0;34m(\u001b[0m\u001b[0;34m'C:/Users/Elena/Desktop/Caltech/BEBi 103/bebi103_utils'\u001b[0m\u001b[0;34m)\u001b[0m\u001b[0;34m\u001b[0m\u001b[0m\n\u001b[0;32m---> 23\u001b[0;31m \u001b[0;32mimport\u001b[0m \u001b[0mbebi103\u001b[0m\u001b[0;34m\u001b[0m\u001b[0m\n\u001b[0m\u001b[1;32m     24\u001b[0m \u001b[0;34m\u001b[0m\u001b[0m\n\u001b[1;32m     25\u001b[0m \u001b[0;31m# This is to enable inline displays for the purposes of the tutorial\u001b[0m\u001b[0;34m\u001b[0m\u001b[0;34m\u001b[0m\u001b[0m\n",
      "\u001b[0;31mImportError\u001b[0m: No module named 'bebi103'"
     ]
    }
   ],
   "source": [
    "import collections\n",
    "import warnings\n",
    "\n",
    "# The workhorses\n",
    "import numpy as np\n",
    "import pandas as pd\n",
    "import scipy.stats as st\n",
    "import scipy.optimize\n",
    "import numdifftools as ndt\n",
    "\n",
    "# Plotting modules\n",
    "import matplotlib.pyplot as plt\n",
    "\n",
    "# MCMC utilities\n",
    "import emcee\n",
    "\n",
    "# Numba for JITting log posteriors\n",
    "import numba\n",
    "\n",
    "# BE/Bi 103 utilities\n",
    "import sys\n",
    "sys.path.append('C:/Users/Elena/Desktop/Caltech/BEBi 103/bebi103_utils')\n",
    "import bebi103\n",
    "\n",
    "# This is to enable inline displays for the purposes of the tutorial\n",
    "%matplotlib inline\n",
    "\n",
    "# This enables SVG graphics inline\n",
    "%config InlineBackend.figure_formats = {'png', 'retina'}\n",
    "\n",
    "# Seaborn makes plots look nice\n",
    "import seaborn as sns\n",
    "sns.set_context('notebook', font_scale=1.5, rc={'lines.linewidth': 2.5})\n",
    "sns.set_style('darkgrid', {'axes.facecolor': '(0.875, 0.875, 0.9)'})\n",
    "\n",
    "# Suppress future warnings\n",
    "warnings.simplefilter(action='ignore', category=FutureWarning)"
   ]
  },
  {
   "cell_type": "markdown",
   "metadata": {},
   "source": [
    "# Part A"
   ]
  },
  {
   "cell_type": "code",
   "execution_count": 6,
   "metadata": {
    "collapsed": false
   },
   "outputs": [
    {
     "data": {
      "text/html": [
       "<div>\n",
       "<table border=\"1\" class=\"dataframe\">\n",
       "  <thead>\n",
       "    <tr style=\"text-align: right;\">\n",
       "      <th></th>\n",
       "      <th>fish</th>\n",
       "      <th>genotype</th>\n",
       "      <th>mean_rest_bout_length</th>\n",
       "    </tr>\n",
       "  </thead>\n",
       "  <tbody>\n",
       "    <tr>\n",
       "      <th>2</th>\n",
       "      <td>FISH11</td>\n",
       "      <td>mut</td>\n",
       "      <td>2.255556</td>\n",
       "    </tr>\n",
       "    <tr>\n",
       "      <th>3</th>\n",
       "      <td>FISH12</td>\n",
       "      <td>mut</td>\n",
       "      <td>1.529412</td>\n",
       "    </tr>\n",
       "    <tr>\n",
       "      <th>4</th>\n",
       "      <td>FISH13</td>\n",
       "      <td>mut</td>\n",
       "      <td>2.373626</td>\n",
       "    </tr>\n",
       "    <tr>\n",
       "      <th>5</th>\n",
       "      <td>FISH14</td>\n",
       "      <td>wt</td>\n",
       "      <td>2.352941</td>\n",
       "    </tr>\n",
       "    <tr>\n",
       "      <th>7</th>\n",
       "      <td>FISH18</td>\n",
       "      <td>wt</td>\n",
       "      <td>2.111111</td>\n",
       "    </tr>\n",
       "  </tbody>\n",
       "</table>\n",
       "</div>"
      ],
      "text/plain": [
       "     fish genotype  mean_rest_bout_length\n",
       "2  FISH11      mut               2.255556\n",
       "3  FISH12      mut               1.529412\n",
       "4  FISH13      mut               2.373626\n",
       "5  FISH14       wt               2.352941\n",
       "7  FISH18       wt               2.111111"
      ]
     },
     "execution_count": 6,
     "metadata": {},
     "output_type": "execute_result"
    }
   ],
   "source": [
    "# Load data\n",
    "df = pd.read_csv('./data/mean_rest_bouts.csv', comment='#')\n",
    "\n",
    "# Pull out wild type and mutant and take NaNs to be zero\n",
    "df = df[df['genotype'].isin(['wt', 'mut'])].fillna(0)\n",
    "df.head()"
   ]
  },
  {
   "cell_type": "code",
   "execution_count": 7,
   "metadata": {
    "collapsed": false
   },
   "outputs": [
    {
     "ename": "NameError",
     "evalue": "name 'sns' is not defined",
     "output_type": "error",
     "traceback": [
      "\u001b[0;31m---------------------------------------------------------------------------\u001b[0m",
      "\u001b[0;31mNameError\u001b[0m                                 Traceback (most recent call last)",
      "\u001b[0;32m<ipython-input-7-62f01e66eea8>\u001b[0m in \u001b[0;36m<module>\u001b[0;34m()\u001b[0m\n\u001b[1;32m      1\u001b[0m \u001b[0;31m# Make strip plot\u001b[0m\u001b[0;34m\u001b[0m\u001b[0;34m\u001b[0m\u001b[0m\n\u001b[0;32m----> 2\u001b[0;31m \u001b[0msns\u001b[0m\u001b[0;34m.\u001b[0m\u001b[0mstripplot\u001b[0m\u001b[0;34m(\u001b[0m\u001b[0mx\u001b[0m\u001b[0;34m=\u001b[0m\u001b[0;34m'genotype'\u001b[0m\u001b[0;34m,\u001b[0m \u001b[0my\u001b[0m\u001b[0;34m=\u001b[0m\u001b[0;34m'mean_rest_bout_length'\u001b[0m\u001b[0;34m,\u001b[0m \u001b[0mdata\u001b[0m\u001b[0;34m=\u001b[0m\u001b[0mdf\u001b[0m\u001b[0;34m,\u001b[0m \u001b[0mjitter\u001b[0m\u001b[0;34m=\u001b[0m\u001b[0;32mTrue\u001b[0m\u001b[0;34m)\u001b[0m\u001b[0;34m\u001b[0m\u001b[0m\n\u001b[0m\u001b[1;32m      3\u001b[0m \u001b[0;31m# Label axes\u001b[0m\u001b[0;34m\u001b[0m\u001b[0;34m\u001b[0m\u001b[0m\n\u001b[1;32m      4\u001b[0m \u001b[0mplt\u001b[0m\u001b[0;34m.\u001b[0m\u001b[0mylabel\u001b[0m\u001b[0;34m(\u001b[0m\u001b[0;34m'mean rest bout length (min)'\u001b[0m\u001b[0;34m)\u001b[0m\u001b[0;34m\u001b[0m\u001b[0m\n\u001b[1;32m      5\u001b[0m \u001b[0mplt\u001b[0m\u001b[0;34m.\u001b[0m\u001b[0mmargins\u001b[0m\u001b[0;34m(\u001b[0m\u001b[0my\u001b[0m\u001b[0;34m=\u001b[0m\u001b[0;36m0.02\u001b[0m\u001b[0;34m)\u001b[0m\u001b[0;34m\u001b[0m\u001b[0m\n",
      "\u001b[0;31mNameError\u001b[0m: name 'sns' is not defined"
     ]
    }
   ],
   "source": [
    "# Make strip plot\n",
    "sns.stripplot(x='genotype', y='mean_rest_bout_length', data=df, jitter=True)\n",
    "# Label axes \n",
    "plt.ylabel('mean rest bout length (min)')\n",
    "plt.margins(y=0.02)"
   ]
  },
  {
   "cell_type": "code",
   "execution_count": 23,
   "metadata": {
    "collapsed": true
   },
   "outputs": [],
   "source": [
    "#separate the two datasets in to wild type and mutant\n",
    "wt_fish=df[df[\"genotype\"]==\"wt\"]\n",
    "mut_fish=df[df[\"genotype\"]==\"mut\"]"
   ]
  },
  {
   "cell_type": "markdown",
   "metadata": {
    "collapsed": false
   },
   "source": [
    "Sample mean is the best estimate of $\\mu$. Unbiased estimator of variance is:\n",
    "\\begin{align}\n",
    "\\frac{n}{n-1}&s^2\n",
    "\\end{align}"
   ]
  },
  {
   "cell_type": "code",
   "execution_count": 9,
   "metadata": {
    "collapsed": false
   },
   "outputs": [
    {
     "name": "stdout",
     "output_type": "stream",
     "text": [
      "The best estimates for µ and σ are:\n",
      "            µ           σ\n",
      "         -----------------\n",
      "WT       2.2094     0.5229\n",
      "Mutant   1.7271     0.8051\n",
      "\n"
     ]
    }
   ],
   "source": [
    "#find means for wt and mut\n",
    "mu_wt = wt_fish.mean()\n",
    "mu_mut = mut_fish.mean()\n",
    "\n",
    "#find unbiased estimator of variance for wt and mut\n",
    "var_wt = wt_fish.var(ddof=1)\n",
    "var_mut = mut_fish.var(ddof=1)\n",
    "\n",
    "print(\"\"\"The best estimates for µ and σ are:\n",
    "            µ           σ\n",
    "         -----------------\n",
    "WT       {0:.4f}     {2:.4f}\n",
    "Mutant   {1:.4f}     {3:.4f}\n",
    "\"\"\".format(float(mu_wt), float(mu_mut), \n",
    "           float(np.sqrt(var_wt)), float(np.sqrt(var_mut))))"
   ]
  },
  {
   "cell_type": "markdown",
   "metadata": {},
   "source": [
    "# Part B"
   ]
  },
  {
   "cell_type": "markdown",
   "metadata": {},
   "source": [
    "Frequentist estimate of the difference of the means:\n",
    "\\begin{align}\n",
    "\\delta \\equiv \\mu_{wt} - \\mu_{mut}\n",
    "\\end{align}"
   ]
  },
  {
   "cell_type": "code",
   "execution_count": 10,
   "metadata": {
    "collapsed": true
   },
   "outputs": [],
   "source": [
    "def gaussian_draw(WTmu, WTsigma, MUTmu, MUTsigma, WTreps, MUTreps, trials):\n",
    "    \"\"\"\n",
    "    \n",
    "    \"\"\"\n",
    "    difference_mean_holder=np.empty(trials)\n",
    "    \n",
    "    for i in range(trials):\n",
    "        wt_rep_mean = np.random.normal(WTmu, WTsigma, WTreps).mean()\n",
    "        mut_rep_mean = np.random.normal(MUTmu, MUTsigma, MUTreps).mean()\n",
    "        difference_mean_holder[i]=wt_rep_mean - mut_rep_mean\n",
    "        \n",
    "    return difference_mean_holder\n"
   ]
  },
  {
   "cell_type": "code",
   "execution_count": 11,
   "metadata": {
    "collapsed": false
   },
   "outputs": [],
   "source": [
    "difference_out = gaussian_draw(mu_wt, np.sqrt(var_wt),mu_mut, \n",
    "                               np.sqrt(var_mut), len(wt_fish), \n",
    "                               len(mut_fish), 10000)"
   ]
  },
  {
   "cell_type": "code",
   "execution_count": 12,
   "metadata": {
    "collapsed": false
   },
   "outputs": [
    {
     "data": {
      "text/plain": [
       "<matplotlib.text.Text at 0x10ed62278>"
      ]
     },
     "execution_count": 12,
     "metadata": {},
     "output_type": "execute_result"
    }
   ],
   "source": [
    "plt.hist(difference_out, histtype=\"step\", bins=100, color=\"blue\", lw=2)\n",
    "conf_interval = np.percentile(difference_out, (2.5,97.5))\n",
    "plt.xlabel(\"δ\")\n",
    "plt.ylabel(\"P(δ)\")\n",
    "plt.title(\"δ = μ(wt)−μ(mut)\")"
   ]
  },
  {
   "cell_type": "code",
   "execution_count": 13,
   "metadata": {
    "collapsed": false
   },
   "outputs": [
    {
     "name": "stdout",
     "output_type": "stream",
     "text": [
      "The 95% confidence interval is [ 0.06717094  0.89611682] minutes\n",
      "The final result is:\n",
      "      µ(wt)-µ(mut) = 0.4823 ± 0.4153 minutes\n"
     ]
    }
   ],
   "source": [
    "print (\"The 95% confidence interval is\", conf_interval, \"minutes\")\n",
    "print(\"\"\"The final result is:\n",
    "      µ(wt)-µ(mut) = {0:.4f} ± {1:.4f}\"\"\"\n",
    "      .format(float(mu_wt-mu_mut), float(1.96*np.std(difference_out))), \"minutes\")"
   ]
  },
  {
   "cell_type": "markdown",
   "metadata": {},
   "source": [
    "# Part C"
   ]
  },
  {
   "cell_type": "code",
   "execution_count": 14,
   "metadata": {
    "collapsed": false
   },
   "outputs": [
    {
     "name": "stdout",
     "output_type": "stream",
     "text": [
      "The bayesian estimate of the difference of the mean is 0.482335452396 ± 0.397809846791\n"
     ]
    }
   ],
   "source": [
    "#this code has been modified from previous HW solutions.\n",
    "\n",
    "# Define log of the posterior\n",
    "def log_post(p, x_wt, x_mut):\n",
    "    \"\"\"\n",
    "    Returns the log of the posterior consisting of the product of Gaussians.\n",
    "    p[0] = mu_wt\n",
    "    p[1] = mu_mut\n",
    "    p[2] = sigma_wt\n",
    "    p[3] = sigma_mut\n",
    "    \"\"\"\n",
    "    # Unpack parameters\n",
    "    mu_wt, mu_mut, sigma_wt, sigma_mut = p\n",
    "    \n",
    "    # Make sure we have everything in the right range\n",
    "    if (sigma_wt < 0) or (sigma_mut < 0):\n",
    "        return -np.inf\n",
    "\n",
    "    # Compute separate parts of posterior from each sample\n",
    "    log_post_wt = st.norm.logpdf(x_wt, mu_wt, sigma_wt).sum() - np.log(sigma_wt)\n",
    "    \n",
    "    log_post_mut = st.norm.logpdf(x_mut, mu_mut, sigma_mut).sum() - np.log(sigma_mut)\n",
    "\n",
    "    # Add them up to return\n",
    "    return log_post_wt + log_post_mut\n",
    "\n",
    "def negative_log_post(p, x_wt,x_mut):\n",
    "    return -log_post(p,x_wt,x_mut)\n",
    "\n",
    "#MAP\n",
    "wt=wt_fish[(\"mean_rest_bout_length\")]\n",
    "mut=mut_fish[(\"mean_rest_bout_length\")]\n",
    "args = (wt,mut)\n",
    "\n",
    "p0 = np.array([ 2, 1.5, 0.5, 0.8])\n",
    "\n",
    "hes_fun = ndt.Hessian(log_post)\n",
    "res = scipy.optimize.minimize(negative_log_post, p0, args=args)\n",
    "hes = hes_fun(res.x,wt,mut)\n",
    "cov1 = -np.linalg.inv(hes)\n",
    "\n",
    "bayesian_estimate_diff = res.x[0]-res.x[1]\n",
    "credible_interval = 1.96 * np.sqrt(np.sqrt(cov1[0,0])**2 + np.sqrt(cov1[1,1])**2)\n",
    "\n",
    "print(\"The bayesian estimate of the difference of the mean is\", \n",
    "      bayesian_estimate_diff, \"±\", credible_interval)"
   ]
  },
  {
   "cell_type": "markdown",
   "metadata": {
    "collapsed": true
   },
   "source": [
    "# Part D"
   ]
  },
  {
   "cell_type": "code",
   "execution_count": 15,
   "metadata": {
    "collapsed": false
   },
   "outputs": [],
   "source": [
    "# we want to make an array of the mean rest bout lengths\n",
    "wt = wt_fish['mean_rest_bout_length'].values\n",
    "\n",
    "mut = mut_fish['mean_rest_bout_length'].values"
   ]
  },
  {
   "cell_type": "code",
   "execution_count": 16,
   "metadata": {
    "collapsed": false
   },
   "outputs": [
    {
     "name": "stdout",
     "output_type": "stream",
     "text": [
      "Welch's t test p value = 0.02204\n"
     ]
    }
   ],
   "source": [
    "# our null hypothesis is that the mutant and the wild type are drawn from the same\n",
    "# Gaussian distribution in other words we want to test if the mutant mean is the same\n",
    "# as the wt mean\n",
    "\n",
    "# We first combine all of the measurements and then distrbute them to a set of 17 and \n",
    "# a set of 22\n",
    "\n",
    "def final_p_value(w, m, trials, greater_or_less='greater', return_abs=False):\n",
    "    \n",
    "    def distribute_samples(w, m, some_func, trials, args=()):\n",
    "        '''\n",
    "        combine our measurements for rest bout and redistribute them to two groups\n",
    "        '''\n",
    "    \n",
    "        # first we create an empty array to store our samples\n",
    "        samples = np.empty(trials)\n",
    "    \n",
    "        # concatenate all the measurements\n",
    "        measurements = np.concatenate((w, m))\n",
    "    \n",
    "        # create sets for all trials \n",
    "        for i in range(trials):\n",
    "            measurements = np.random.permutation(measurements)\n",
    "            samples[i] = some_func(measurements[:len(w)], measurements[len(w):], *args)\n",
    "     \n",
    "        return samples\n",
    "\n",
    "\n",
    "    # now I want to define the p-value\n",
    "    def p_value(samples, actual, greater_or_less='greater'):\n",
    "        '''\n",
    "        compute the p value (the probability our measurement is \n",
    "        greather than or less than the actual value\n",
    "        '''\n",
    "    \n",
    "        if greater_or_less == 'greater':\n",
    "            return np.sum(samples >= actual) / len(samples)\n",
    "        else:\n",
    "            return np.sum(samples <= actual) / len(samples)\n",
    "\n",
    "    # now we can run our test and see if we will get the actual difference in our means\n",
    "    # this will be my some_func in my distribute_samples function\n",
    "    # now we can run our a Welch's t-test\n",
    "    # The T statistic is written out in tutorial 6b\n",
    "    def T_stat(w, m, return_abs=False):\n",
    "        '''\n",
    "        Calculate the absolute difference of the means\n",
    "        '''\n",
    "        w_s = w.var(ddof=1)\n",
    "        m_s = m.var(ddof=1)\n",
    "    \n",
    "        sd = ((len(w)-1) * w_s**2 + (len(m) - 1) * m_s**2) / (len(w) + len(m) - 2)\n",
    "    \n",
    "        diff = w.mean() - m.mean() - np.sqrt(w.var()) + np.sqrt(m.var()) \n",
    "        pool_variance = sd * np.sqrt(1/(len(w)) + 1/(len(m)))\n",
    "            \n",
    "        if return_abs:\n",
    "            return np.abs(diff) / pool_variance   \n",
    "        return diff / pool_variance\n",
    "\n",
    "\n",
    "    # let's retrieve all our random sample sets of two\n",
    "    samples = distribute_samples(w, m, T_stat, trials, args = (True,))\n",
    "\n",
    "    # calculate p value\n",
    "    p_value_student_t = p_value(samples, T_stat(w, m))\n",
    "\n",
    "    return p_value_student_t\n",
    "\n",
    "p_value = final_p_value(wt, mut, 100000)\n",
    "print(\"Welch's t test p value =\", p_value)"
   ]
  },
  {
   "cell_type": "markdown",
   "metadata": {},
   "source": [
    "# Part E"
   ]
  },
  {
   "cell_type": "code",
   "execution_count": 18,
   "metadata": {
    "collapsed": false
   },
   "outputs": [],
   "source": [
    "# Define log of the posterior for H_0 \n",
    "def log_post_H0(p, x):\n",
    "    \"\"\"\n",
    "    Returns the log of the posterior for a Gaussian.\n",
    "    p[0] = mu\n",
    "    p[1] = sigma\n",
    "    \"\"\"\n",
    "    # Unpack parameters\n",
    "    mu, sigma = p\n",
    "    \n",
    "    # Make sure we have everything in the right range\n",
    "    if (sigma < 0):\n",
    "        return -np.inf\n",
    "\n",
    "    # Add them up to return\n",
    "    return st.norm.logpdf(x, mu, sigma).sum() - np.log(sigma)"
   ]
  },
  {
   "cell_type": "code",
   "execution_count": 19,
   "metadata": {
    "collapsed": false
   },
   "outputs": [],
   "source": [
    "# Instantiate Hessian for log posterior for H_0\n",
    "hes_fun = ndt.Hessian(log_post_H0)\n",
    "\n",
    "# Compute Hessian at MAP for H_0\n",
    "hes = hes_fun(np.asarray([df['mean_rest_bout_length'].mean(), \n",
    "                          df['mean_rest_bout_length'].std()]), df['mean_rest_bout_length'])\n",
    "\n",
    "# Calculate covariance matrix for H_0\n",
    "cov0 = -np.linalg.inv(hes)"
   ]
  },
  {
   "cell_type": "code",
   "execution_count": 20,
   "metadata": {
    "collapsed": false
   },
   "outputs": [
    {
     "name": "stdout",
     "output_type": "stream",
     "text": [
      "Odds ratio = 0.0830\n"
     ]
    }
   ],
   "source": [
    "# Calculate the log of the good fit ratio\n",
    "log_good_fit_ratio = \\\n",
    "st.norm.logpdf(df['mean_rest_bout_length'], df['mean_rest_bout_length'].mean(), df['mean_rest_bout_length'].std()).sum() \\\n",
    "- st.norm.logpdf(wt, res.x[0], res.x[2]).sum() \\\n",
    "- st.norm.logpdf(mut, res.x[1], res.x[3]).sum()\n",
    "\n",
    "# Caclulate the log of the Occam factor\n",
    "log_occam = np.log(res.x[2]) + np.log(res.x[3]) + np.log(2 * np.pi) + np.log(np.linalg.det(cov0))/2 \\\n",
    "- np.log(df['mean_rest_bout_length'].std()) - 2 * np.log(2 * np.pi) - np.log(np.linalg.det(cov1))/2\n",
    "\n",
    "# Calculate and print the odds ratio\n",
    "print(\"\"\"Odds ratio = {0:.4f}\"\"\".format(np.exp(log_good_fit_ratio + log_occam)))"
   ]
  },
  {
   "cell_type": "markdown",
   "metadata": {
    "collapsed": true
   },
   "source": [
    "# Part F"
   ]
  },
  {
   "cell_type": "code",
   "execution_count": 33,
   "metadata": {
    "collapsed": true
   },
   "outputs": [],
   "source": [
    "def new_gaussian_draw(mu, std, s):\n",
    "    \"\"\"\n",
    "    draw a sample of size s from a Gaussian distribution with mu = mu and \n",
    "    sigma = std\n",
    "    \"\"\"\n",
    "    return np.random.normal(mu, std, s)"
   ]
  },
  {
   "cell_type": "code",
   "execution_count": 35,
   "metadata": {
    "collapsed": false
   },
   "outputs": [
    {
     "data": {
      "text/html": [
       "<div>\n",
       "<table border=\"1\" class=\"dataframe\">\n",
       "  <thead>\n",
       "    <tr style=\"text-align: right;\">\n",
       "      <th></th>\n",
       "      <th>fish</th>\n",
       "      <th>genotype</th>\n",
       "      <th>mean_rest_bout_length</th>\n",
       "    </tr>\n",
       "  </thead>\n",
       "  <tbody>\n",
       "    <tr>\n",
       "      <th>5</th>\n",
       "      <td>FISH14</td>\n",
       "      <td>wt</td>\n",
       "      <td>2.206640</td>\n",
       "    </tr>\n",
       "    <tr>\n",
       "      <th>7</th>\n",
       "      <td>FISH18</td>\n",
       "      <td>wt</td>\n",
       "      <td>2.806504</td>\n",
       "    </tr>\n",
       "    <tr>\n",
       "      <th>9</th>\n",
       "      <td>FISH2</td>\n",
       "      <td>wt</td>\n",
       "      <td>2.904366</td>\n",
       "    </tr>\n",
       "    <tr>\n",
       "      <th>14</th>\n",
       "      <td>FISH24</td>\n",
       "      <td>wt</td>\n",
       "      <td>2.850288</td>\n",
       "    </tr>\n",
       "    <tr>\n",
       "      <th>16</th>\n",
       "      <td>FISH28</td>\n",
       "      <td>wt</td>\n",
       "      <td>1.839201</td>\n",
       "    </tr>\n",
       "    <tr>\n",
       "      <th>17</th>\n",
       "      <td>FISH29</td>\n",
       "      <td>wt</td>\n",
       "      <td>2.518240</td>\n",
       "    </tr>\n",
       "    <tr>\n",
       "      <th>19</th>\n",
       "      <td>FISH30</td>\n",
       "      <td>wt</td>\n",
       "      <td>1.656300</td>\n",
       "    </tr>\n",
       "    <tr>\n",
       "      <th>36</th>\n",
       "      <td>FISH54</td>\n",
       "      <td>wt</td>\n",
       "      <td>1.353064</td>\n",
       "    </tr>\n",
       "    <tr>\n",
       "      <th>40</th>\n",
       "      <td>FISH58</td>\n",
       "      <td>wt</td>\n",
       "      <td>3.221044</td>\n",
       "    </tr>\n",
       "    <tr>\n",
       "      <th>44</th>\n",
       "      <td>FISH61</td>\n",
       "      <td>wt</td>\n",
       "      <td>3.202543</td>\n",
       "    </tr>\n",
       "    <tr>\n",
       "      <th>50</th>\n",
       "      <td>FISH68</td>\n",
       "      <td>wt</td>\n",
       "      <td>2.020851</td>\n",
       "    </tr>\n",
       "    <tr>\n",
       "      <th>56</th>\n",
       "      <td>FISH75</td>\n",
       "      <td>wt</td>\n",
       "      <td>2.565610</td>\n",
       "    </tr>\n",
       "    <tr>\n",
       "      <th>57</th>\n",
       "      <td>FISH76</td>\n",
       "      <td>wt</td>\n",
       "      <td>2.343036</td>\n",
       "    </tr>\n",
       "    <tr>\n",
       "      <th>59</th>\n",
       "      <td>FISH78</td>\n",
       "      <td>wt</td>\n",
       "      <td>2.767330</td>\n",
       "    </tr>\n",
       "    <tr>\n",
       "      <th>62</th>\n",
       "      <td>FISH80</td>\n",
       "      <td>wt</td>\n",
       "      <td>2.002223</td>\n",
       "    </tr>\n",
       "    <tr>\n",
       "      <th>64</th>\n",
       "      <td>FISH86</td>\n",
       "      <td>wt</td>\n",
       "      <td>2.437197</td>\n",
       "    </tr>\n",
       "    <tr>\n",
       "      <th>72</th>\n",
       "      <td>FISH96</td>\n",
       "      <td>wt</td>\n",
       "      <td>3.428288</td>\n",
       "    </tr>\n",
       "    <tr>\n",
       "      <th>2</th>\n",
       "      <td>FISH11</td>\n",
       "      <td>mut</td>\n",
       "      <td>2.399789</td>\n",
       "    </tr>\n",
       "    <tr>\n",
       "      <th>3</th>\n",
       "      <td>FISH12</td>\n",
       "      <td>mut</td>\n",
       "      <td>1.399894</td>\n",
       "    </tr>\n",
       "    <tr>\n",
       "      <th>4</th>\n",
       "      <td>FISH13</td>\n",
       "      <td>mut</td>\n",
       "      <td>0.619015</td>\n",
       "    </tr>\n",
       "    <tr>\n",
       "      <th>10</th>\n",
       "      <td>FISH20</td>\n",
       "      <td>mut</td>\n",
       "      <td>2.516771</td>\n",
       "    </tr>\n",
       "    <tr>\n",
       "      <th>11</th>\n",
       "      <td>FISH21</td>\n",
       "      <td>mut</td>\n",
       "      <td>2.634499</td>\n",
       "    </tr>\n",
       "    <tr>\n",
       "      <th>13</th>\n",
       "      <td>FISH23</td>\n",
       "      <td>mut</td>\n",
       "      <td>1.892032</td>\n",
       "    </tr>\n",
       "    <tr>\n",
       "      <th>15</th>\n",
       "      <td>FISH27</td>\n",
       "      <td>mut</td>\n",
       "      <td>2.126966</td>\n",
       "    </tr>\n",
       "    <tr>\n",
       "      <th>21</th>\n",
       "      <td>FISH35</td>\n",
       "      <td>mut</td>\n",
       "      <td>2.191054</td>\n",
       "    </tr>\n",
       "    <tr>\n",
       "      <th>24</th>\n",
       "      <td>FISH39</td>\n",
       "      <td>mut</td>\n",
       "      <td>0.604773</td>\n",
       "    </tr>\n",
       "    <tr>\n",
       "      <th>25</th>\n",
       "      <td>FISH4</td>\n",
       "      <td>mut</td>\n",
       "      <td>3.167941</td>\n",
       "    </tr>\n",
       "    <tr>\n",
       "      <th>29</th>\n",
       "      <td>FISH46</td>\n",
       "      <td>mut</td>\n",
       "      <td>1.889505</td>\n",
       "    </tr>\n",
       "    <tr>\n",
       "      <th>38</th>\n",
       "      <td>FISH56</td>\n",
       "      <td>mut</td>\n",
       "      <td>0.753763</td>\n",
       "    </tr>\n",
       "    <tr>\n",
       "      <th>43</th>\n",
       "      <td>FISH60</td>\n",
       "      <td>mut</td>\n",
       "      <td>1.588822</td>\n",
       "    </tr>\n",
       "    <tr>\n",
       "      <th>46</th>\n",
       "      <td>FISH64</td>\n",
       "      <td>mut</td>\n",
       "      <td>2.127988</td>\n",
       "    </tr>\n",
       "    <tr>\n",
       "      <th>48</th>\n",
       "      <td>FISH66</td>\n",
       "      <td>mut</td>\n",
       "      <td>1.786023</td>\n",
       "    </tr>\n",
       "    <tr>\n",
       "      <th>49</th>\n",
       "      <td>FISH67</td>\n",
       "      <td>mut</td>\n",
       "      <td>2.870781</td>\n",
       "    </tr>\n",
       "    <tr>\n",
       "      <th>51</th>\n",
       "      <td>FISH69</td>\n",
       "      <td>mut</td>\n",
       "      <td>0.875166</td>\n",
       "    </tr>\n",
       "    <tr>\n",
       "      <th>60</th>\n",
       "      <td>FISH79</td>\n",
       "      <td>mut</td>\n",
       "      <td>2.258484</td>\n",
       "    </tr>\n",
       "    <tr>\n",
       "      <th>63</th>\n",
       "      <td>FISH81</td>\n",
       "      <td>mut</td>\n",
       "      <td>1.081728</td>\n",
       "    </tr>\n",
       "    <tr>\n",
       "      <th>65</th>\n",
       "      <td>FISH87</td>\n",
       "      <td>mut</td>\n",
       "      <td>0.895314</td>\n",
       "    </tr>\n",
       "    <tr>\n",
       "      <th>67</th>\n",
       "      <td>FISH89</td>\n",
       "      <td>mut</td>\n",
       "      <td>3.682878</td>\n",
       "    </tr>\n",
       "    <tr>\n",
       "      <th>69</th>\n",
       "      <td>FISH92</td>\n",
       "      <td>mut</td>\n",
       "      <td>0.098254</td>\n",
       "    </tr>\n",
       "  </tbody>\n",
       "</table>\n",
       "</div>"
      ],
      "text/plain": [
       "      fish genotype  mean_rest_bout_length\n",
       "5   FISH14       wt               2.206640\n",
       "7   FISH18       wt               2.806504\n",
       "9    FISH2       wt               2.904366\n",
       "14  FISH24       wt               2.850288\n",
       "16  FISH28       wt               1.839201\n",
       "17  FISH29       wt               2.518240\n",
       "19  FISH30       wt               1.656300\n",
       "36  FISH54       wt               1.353064\n",
       "40  FISH58       wt               3.221044\n",
       "44  FISH61       wt               3.202543\n",
       "50  FISH68       wt               2.020851\n",
       "56  FISH75       wt               2.565610\n",
       "57  FISH76       wt               2.343036\n",
       "59  FISH78       wt               2.767330\n",
       "62  FISH80       wt               2.002223\n",
       "64  FISH86       wt               2.437197\n",
       "72  FISH96       wt               3.428288\n",
       "2   FISH11      mut               2.399789\n",
       "3   FISH12      mut               1.399894\n",
       "4   FISH13      mut               0.619015\n",
       "10  FISH20      mut               2.516771\n",
       "11  FISH21      mut               2.634499\n",
       "13  FISH23      mut               1.892032\n",
       "15  FISH27      mut               2.126966\n",
       "21  FISH35      mut               2.191054\n",
       "24  FISH39      mut               0.604773\n",
       "25   FISH4      mut               3.167941\n",
       "29  FISH46      mut               1.889505\n",
       "38  FISH56      mut               0.753763\n",
       "43  FISH60      mut               1.588822\n",
       "46  FISH64      mut               2.127988\n",
       "48  FISH66      mut               1.786023\n",
       "49  FISH67      mut               2.870781\n",
       "51  FISH69      mut               0.875166\n",
       "60  FISH79      mut               2.258484\n",
       "63  FISH81      mut               1.081728\n",
       "65  FISH87      mut               0.895314\n",
       "67  FISH89      mut               3.682878\n",
       "69  FISH92      mut               0.098254"
      ]
     },
     "execution_count": 35,
     "metadata": {},
     "output_type": "execute_result"
    }
   ],
   "source": [
    "new_wt_fish = wt_fish.drop('mean_rest_bout_length', axis=1)\n",
    "new_wt_fish['mean_rest_bout_length'] = new_gaussian_draw(muWT, sigmaWT, 17)\n",
    "new_mut_fish = mut_fish.drop('mean_rest_bout_length', axis=1)\n",
    "new_mut_fish['mean_rest_bout_length'] = new_gaussian_draw(muMUT, sigmaMUT, 22)\n",
    "new_fish = pd.concat((new_wt_fish, new_mut_fish), axis=0)"
   ]
  },
  {
   "cell_type": "code",
   "execution_count": null,
   "metadata": {
    "collapsed": true
   },
   "outputs": [],
   "source": []
  }
 ],
 "metadata": {
  "kernelspec": {
   "display_name": "Python 3",
   "language": "python",
   "name": "python3"
  },
  "language_info": {
   "codemirror_mode": {
    "name": "ipython",
    "version": 3
   },
   "file_extension": ".py",
   "mimetype": "text/x-python",
   "name": "python",
   "nbconvert_exporter": "python",
   "pygments_lexer": "ipython3",
   "version": "3.4.3"
  }
 },
 "nbformat": 4,
 "nbformat_minor": 0
}
