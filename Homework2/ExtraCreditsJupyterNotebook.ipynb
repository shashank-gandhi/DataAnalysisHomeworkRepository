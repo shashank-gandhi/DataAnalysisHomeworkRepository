{
 "cells": [
  {
   "cell_type": "markdown",
   "metadata": {
    "collapsed": true
   },
   "source": [
    "**Problem 2.2: Extra Credit**\n",
    "\n",
    "Attributions: Elena did parts (a) and (b). Shashank tried part (c) but failed miserably."
   ]
  },
  {
   "cell_type": "code",
   "execution_count": 3,
   "metadata": {
    "collapsed": true
   },
   "outputs": [],
   "source": [
    "# Our numerical workhorses\n",
    "import numpy as np\n",
    "import pandas as pd\n",
    "\n",
    "# Import pyplot for plotting\n",
    "import matplotlib.pyplot as plt\n",
    "\n",
    "# Seaborn, useful for graphics\n",
    "import seaborn as sns\n",
    "\n",
    "# Magic function to make matplotlib inline; other style specs must come AFTER\n",
    "%matplotlib inline\n",
    "\n",
    "# This enables high res graphics inline \n",
    "%config InlineBackend.figure_formats = {'png', 'retina'}\n",
    "\n",
    "# JB's favorite Seaborn settings for notebooks\n",
    "rc = {'lines.linewidth': 2, \n",
    "      'axes.labelsize': 18, \n",
    "      'axes.titlesize': 18, \n",
    "      'axes.facecolor': 'DFDFE5'}\n",
    "sns.set_context('notebook', rc=rc)\n",
    "sns.set_style('darkgrid', rc=rc)\n"
   ]
  },
  {
   "cell_type": "markdown",
   "metadata": {},
   "source": [
    "**a)** First, we are asked to generate an array (in our case, a `DataFrame`) containing the total number of sleep minutes during the third night of the experiment of each wild type fish. We define a function, `rest_total`, which is similar to the function we wrote in 2.1 for sleep latency, except that here we find the number of minutes that are `True` for rest, rather than the index of the first rest minute. After restricting our `DataFrame` to wild-type fish on the third night, we group by `'fish'` and apply the `rest_total` function to generate the `DataFrame` we will work with in subsequent sections."
   ]
  },
  {
   "cell_type": "code",
   "execution_count": 4,
   "metadata": {
    "collapsed": false
   },
   "outputs": [
    {
     "data": {
      "text/html": [
       "<div>\n",
       "<table border=\"1\" class=\"dataframe\">\n",
       "  <thead>\n",
       "    <tr style=\"text-align: right;\">\n",
       "      <th></th>\n",
       "      <th>fish</th>\n",
       "      <th>total rest</th>\n",
       "    </tr>\n",
       "  </thead>\n",
       "  <tbody>\n",
       "    <tr>\n",
       "      <th>0</th>\n",
       "      <td>FISH14</td>\n",
       "      <td>200</td>\n",
       "    </tr>\n",
       "    <tr>\n",
       "      <th>1</th>\n",
       "      <td>FISH18</td>\n",
       "      <td>190</td>\n",
       "    </tr>\n",
       "    <tr>\n",
       "      <th>2</th>\n",
       "      <td>FISH2</td>\n",
       "      <td>200</td>\n",
       "    </tr>\n",
       "    <tr>\n",
       "      <th>3</th>\n",
       "      <td>FISH24</td>\n",
       "      <td>249</td>\n",
       "    </tr>\n",
       "    <tr>\n",
       "      <th>4</th>\n",
       "      <td>FISH28</td>\n",
       "      <td>232</td>\n",
       "    </tr>\n",
       "    <tr>\n",
       "      <th>5</th>\n",
       "      <td>FISH29</td>\n",
       "      <td>319</td>\n",
       "    </tr>\n",
       "    <tr>\n",
       "      <th>6</th>\n",
       "      <td>FISH30</td>\n",
       "      <td>104</td>\n",
       "    </tr>\n",
       "    <tr>\n",
       "      <th>7</th>\n",
       "      <td>FISH54</td>\n",
       "      <td>93</td>\n",
       "    </tr>\n",
       "    <tr>\n",
       "      <th>8</th>\n",
       "      <td>FISH58</td>\n",
       "      <td>233</td>\n",
       "    </tr>\n",
       "    <tr>\n",
       "      <th>9</th>\n",
       "      <td>FISH61</td>\n",
       "      <td>287</td>\n",
       "    </tr>\n",
       "    <tr>\n",
       "      <th>10</th>\n",
       "      <td>FISH68</td>\n",
       "      <td>49</td>\n",
       "    </tr>\n",
       "    <tr>\n",
       "      <th>11</th>\n",
       "      <td>FISH75</td>\n",
       "      <td>311</td>\n",
       "    </tr>\n",
       "    <tr>\n",
       "      <th>12</th>\n",
       "      <td>FISH76</td>\n",
       "      <td>225</td>\n",
       "    </tr>\n",
       "    <tr>\n",
       "      <th>13</th>\n",
       "      <td>FISH78</td>\n",
       "      <td>243</td>\n",
       "    </tr>\n",
       "    <tr>\n",
       "      <th>14</th>\n",
       "      <td>FISH80</td>\n",
       "      <td>113</td>\n",
       "    </tr>\n",
       "    <tr>\n",
       "      <th>15</th>\n",
       "      <td>FISH86</td>\n",
       "      <td>133</td>\n",
       "    </tr>\n",
       "    <tr>\n",
       "      <th>16</th>\n",
       "      <td>FISH96</td>\n",
       "      <td>179</td>\n",
       "    </tr>\n",
       "  </tbody>\n",
       "</table>\n",
       "</div>"
      ],
      "text/plain": [
       "      fish  total rest\n",
       "0   FISH14         200\n",
       "1   FISH18         190\n",
       "2    FISH2         200\n",
       "3   FISH24         249\n",
       "4   FISH28         232\n",
       "5   FISH29         319\n",
       "6   FISH30         104\n",
       "7   FISH54          93\n",
       "8   FISH58         233\n",
       "9   FISH61         287\n",
       "10  FISH68          49\n",
       "11  FISH75         311\n",
       "12  FISH76         225\n",
       "13  FISH78         243\n",
       "14  FISH80         113\n",
       "15  FISH86         133\n",
       "16  FISH96         179"
      ]
     },
     "execution_count": 4,
     "metadata": {},
     "output_type": "execute_result"
    }
   ],
   "source": [
    "# Load the DataFrame from Tutorial 2a.\n",
    "df = pd.read_csv('130315_1_minute_intervals.csv')\n",
    "\n",
    "def rest_total (s, wake_threshold):\n",
    "    \"\"\"\n",
    "    Given activity series s, returns the total number of rest minutes.\n",
    "    \"\"\"\n",
    "    # Get Boolean for rest\n",
    "    rest = (s < wake_threshold)\n",
    "    \n",
    "    # Convert to NumPy array if a Pandas Series\n",
    "    if type(rest) is pd.core.series.Series:\n",
    "        rest = rest.values\n",
    "    \n",
    "    # Find the index of the first minute with no detectable activity\n",
    "    rest_tot = np.sum(rest)\n",
    "        \n",
    "    return rest_tot\n",
    "\n",
    "# Get indices for wild type fish on third night\n",
    "inds = (~df.light) & (df.day==2) & (df.genotype=='wt')\n",
    "\n",
    "# Group the DataFrame by fish\n",
    "df_gb = df[inds].groupby('fish')['activity']\n",
    "\n",
    "# Calculate the total rest minutes for each fish\n",
    "df_rest_tot = df_gb.apply(rest_total, wake_threshold=1e-5).reset_index()\n",
    "df_rest_tot = df_rest_tot.rename(columns={'activity':'total rest'})\n",
    "df_rest_tot"
   ]
  },
  {
   "cell_type": "markdown",
   "metadata": {},
   "source": [
    "**b)** In order to compute and plot the posterior probability $P(\\mu,\\sigma \\mid D,I)$, we first load the functions provided in the homework assignment."
   ]
  },
  {
   "cell_type": "code",
   "execution_count": 5,
   "metadata": {
    "collapsed": true
   },
   "outputs": [],
   "source": [
    "def log_prior(mu, sigma, mu_range):\n",
    "    \"\"\"\n",
    "    Log of the unnormalized prior for a single mu and sigma with\n",
    "    a Jeffreys prior for sigma and uniform prior on mu_range for mu.\n",
    "    \"\"\"\n",
    "    if sigma < 0.0 or mu < mu_range[0] or mu > mu_range[1]:\n",
    "        return -np.inf\n",
    "    else:\n",
    "        return -np.log(sigma)\n",
    "\n",
    "\n",
    "def log_likelihood(data, mu, sigma):\n",
    "    \"\"\"\n",
    "    Log of the unnormalized likelihood for a single mu and sigma \n",
    "    for Gaussian distributed data.\n",
    "    \"\"\"\n",
    "    return -((data - mu)**2).sum() / (2 * sigma**2) - n * np.log(sigma)\n",
    "\n",
    "\n",
    "def log_posterior(log_likelihood_fun, log_prior_fun, data, mu, sigma, \n",
    "                  mu_range):\n",
    "    \"\"\"\n",
    "    Compute the log of the posterior, given an array of data, plus\n",
    "    arrays of mu and sigma.  The functions defining the likelihood\n",
    "    and prior are given by log_likelihood_fun and log_prior_fun, \n",
    "    respectively.\n",
    "    \n",
    "    Returns a 2D array of the posterior where entry i,j corresponds to\n",
    "    mu[j], sigma[i].\n",
    "    \n",
    "    There are faster ways to calculate this, but we're doing it this way\n",
    "    because we will use similar definitions when we do MCMC.\n",
    "    \"\"\"\n",
    "    log_post = np.empty((len(sigma), len(mu)))\n",
    "    for i, sig in enumerate(sigma):\n",
    "        for j, m in enumerate(mu):\n",
    "            log_post[i, j] = log_likelihood_fun(data, m, sig) \\\n",
    "                                + log_prior_fun(m, sig, mu_range)\n",
    "\n",
    "    # Add a constant to log_post to get it close to unity so well-behaved\n",
    "    # when we exponentiate it.  We don't care about normalization.\n",
    "    log_post -= log_post.max()\n",
    "\n",
    "    return log_post"
   ]
  },
  {
   "cell_type": "markdown",
   "metadata": {},
   "source": [
    "To get an idea of what ranges to sample for $\\mu$ and $\\sigma$, we calculated the mean and standard deviation of the number of rest minutes using `Pandas`. "
   ]
  },
  {
   "cell_type": "code",
   "execution_count": 6,
   "metadata": {
    "collapsed": false
   },
   "outputs": [
    {
     "name": "stdout",
     "output_type": "stream",
     "text": [
      "mean = 197.647058824\n",
      "std = 77.8660237013\n"
     ]
    }
   ],
   "source": [
    "df_mean = df_rest_tot.mean()\n",
    "df_std = df_rest_tot.std()\n",
    "\n",
    "print('mean = ' + str(df_mean['total rest']))\n",
    "print('std = ' + str(df_std['total rest']))"
   ]
  },
  {
   "cell_type": "markdown",
   "metadata": {},
   "source": [
    "We then played around with a few ranges for $\\mu$ and $\\sigma$ centered around the values calculated above, until we found ranges that gave a reasonable-looking posterior probability plot. "
   ]
  },
  {
   "cell_type": "code",
   "execution_count": 7,
   "metadata": {
    "collapsed": false
   },
   "outputs": [
    {
     "data": {
      "text/plain": [
       "<matplotlib.text.Text at 0x10c6de8d0>"
      ]
     },
     "execution_count": 7,
     "metadata": {},
     "output_type": "execute_result"
    },
    {
     "data": {
      "image/png": "[encoded data removed]",
      "text/plain": [
       "<matplotlib.figure.Figure at 0x10c6a8160>"
      ]
     },
     "metadata": {
      "image/png": {
       "height": 378,
       "width": 504
      }
     },
     "output_type": "display_data"
    }
   ],
   "source": [
    "data = np.array(df_rest_tot['total rest'])\n",
    "\n",
    "# Number of data points, for convenience\n",
    "n = len(data)\n",
    "\n",
    "# Ranges to sample parameters\n",
    "mu = np.linspace(150.0, 250.0, 500)\n",
    "sigma = np.linspace(0.1, 150.0, 500)\n",
    "\n",
    "# Assume mu uniform on 100 < mu < 250\n",
    "mu_range = (100, 250)\n",
    "\n",
    "# Compute the posterior\n",
    "log_post = log_posterior(log_likelihood, log_prior, data, mu, sigma, mu_range)\n",
    "\n",
    "# Use contourf with Blues colormap.\n",
    "plt.contourf(mu, sigma, np.exp(log_post), cmap=plt.cm.Blues, alpha=0.75)\n",
    "plt.xlabel(r'$\\mu$')\n",
    "plt.ylabel(r'$\\sigma$')\n",
    "plt.title(r'$P(\\mu,\\sigma|D,I)$')"
   ]
  },
  {
   "cell_type": "markdown",
   "metadata": {},
   "source": [
    "Finally, we used the rough calculation method given in the assignment to compute the most probable values of $\\mu$ and $\\sigma$."
   ]
  },
  {
   "cell_type": "code",
   "execution_count": 8,
   "metadata": {
    "collapsed": false
   },
   "outputs": [
    {
     "name": "stdout",
     "output_type": "stream",
     "text": [
      "most probable mu    = 197.695\n",
      "most probable sigma = 73.398\n"
     ]
    }
   ],
   "source": [
    "# Approximate most probable value of mu and sigma\n",
    "most_prob_inds = np.unravel_index(log_post.argmax(), log_post.shape)\n",
    "mu_most_prob = mu[most_prob_inds[1]]\n",
    "sigma_most_prob = sigma[most_prob_inds[0]]\n",
    "\n",
    "print('most probable mu    = {0:.3f}'.format(mu_most_prob))\n",
    "print('most probable sigma = {0:.3f}'.format(sigma_most_prob))"
   ]
  },
  {
   "cell_type": "markdown",
   "metadata": {
    "collapsed": true
   },
   "source": [
    "**c)** Lets try to solve the third part. May the force be with us."
   ]
  },
  {
   "cell_type": "code",
   "execution_count": 40,
   "metadata": {
    "collapsed": true
   },
   "outputs": [],
   "source": [
    "def log_prior(mu, sigma, sigma_range,mu_range):\n",
    "    \"\"\"\n",
    "    Log of the unnormalized prior for a single mu and sigma with\n",
    "    a Jeffreys prior for sigma and uniform prior on mu_range for mu.\n",
    "    \"\"\"\n",
    "    #if sigma < 0.0 or mu < mu_range[0] or mu > mu_range[1]:\n",
    "    #    return -np.inf\n",
    "    #else:\n",
    "    #    return -np.log(sigma)\n",
    "    if np.allclose(sigma < sigma_range[0] , sigma > sigma_range[1] , mu < mu_range[0] , mu > mu_range[1]):\n",
    "        return -np.inf\n",
    "    else:\n",
    "        return -np.log(sigma_range[1]-sigma_range[0])\n",
    "\n",
    "def log_likelihood(data, mu, sigma):\n",
    "    \"\"\"\n",
    "    Log of the unnormalized likelihood for a single mu and sigma \n",
    "    for Gaussian distributed data.\n",
    "    \"\"\"\n",
    "    return -((data - mu)**2).sum() / (2 * sigma**2) - n * np.log(sigma)\n",
    "\n",
    "\n",
    "def log_posterior(log_likelihood_fun, log_prior_fun, data, mu, sigma, \n",
    "                  mu_range,sigma_range):\n",
    "    \"\"\"\n",
    "    Compute the log of the posterior, given an array of data, plus\n",
    "    arrays of mu and sigma.  The functions defining the likelihood\n",
    "    and prior are given by log_likelihood_fun and log_prior_fun, \n",
    "    respectively.\n",
    "    \n",
    "    Returns a 2D array of the posterior where entry i,j corresponds to\n",
    "    mu[j], sigma[i].\n",
    "    \n",
    "    There are faster ways to calculate this, but we're doing it this way\n",
    "    because we will use similar definitions when we do MCMC.\n",
    "    \"\"\"\n",
    "    log_post = np.empty((len(sigma), len(mu)))\n",
    "    for i, sig in enumerate(sigma):\n",
    "        for j, m in enumerate(mu):\n",
    "            log_post[i, j] = log_likelihood_fun(data, m, sig) \\\n",
    "                                + log_prior_fun(m, sig, mu_range,sigma_range)\n",
    "\n",
    "    # Add a constant to log_post to get it close to unity so well-behaved\n",
    "    # when we exponentiate it.  We don't care about normalization.\n",
    "    log_post -= log_post.max()\n",
    "\n",
    "    return log_post"
   ]
  },
  {
   "cell_type": "code",
   "execution_count": 42,
   "metadata": {
    "collapsed": false
   },
   "outputs": [
    {
     "name": "stdout",
     "output_type": "stream",
     "text": [
      "17\n"
     ]
    },
    {
     "data": {
      "text/plain": [
       "<matplotlib.text.Text at 0x115a9a7f0>"
      ]
     },
     "execution_count": 42,
     "metadata": {},
     "output_type": "execute_result"
    },
    {
     "data": {
      "image/png": "[encoded data removed]",
      "text/plain": [
       "<matplotlib.figure.Figure at 0x1168c6be0>"
      ]
     },
     "metadata": {
      "image/png": {
       "height": 378,
       "width": 504
      }
     },
     "output_type": "display_data"
    }
   ],
   "source": [
    "data = np.array(df_rest_tot['total rest'])\n",
    "\n",
    "# Number of data points, for convenience\n",
    "n = len(data)\n",
    "print (n) # n is 17\n",
    "\n",
    "# Ranges to sample parameters\n",
    "mu = np.linspace(150.0, 250.0, 500)\n",
    "#print (mu)\n",
    "sigma = np.linspace(0.1, 150.0, 500)\n",
    "#print (sigma)\n",
    "# Assume mu uniform on 100 < mu < 250\n",
    "mu_range = (100, 250)\n",
    "sigma_range = (0,140) #assume this is the range where sigma is uniformly distributed.\n",
    "\n",
    "# Compute the posterior\n",
    "log_post = log_posterior(log_likelihood, log_prior, data, mu, sigma, mu_range,sigma_range)\n",
    "\n",
    "\n",
    "# Use contourf with Blues colormap.\n",
    "plt.contourf(mu, sigma, np.exp(log_post), cmap=plt.cm.Blues, alpha=0.75)\n",
    "plt.xlabel(r'$\\mu$')\n",
    "plt.ylabel(r'$\\sigma$')\n",
    "plt.title(r'$P(\\mu,\\sigma|D,I)$')"
   ]
  },
  {
   "cell_type": "markdown",
   "metadata": {},
   "source": [
    "**d)**"
   ]
  },
  {
   "cell_type": "code",
   "execution_count": 43,
   "metadata": {
    "collapsed": true
   },
   "outputs": [],
   "source": [
    "def log_prior(mu, sigma, mu_range):\n",
    "    \"\"\"\n",
    "    Log of the unnormalized prior for a single mu and sigma with\n",
    "    a Jeffreys prior for sigma and uniform prior on mu_range for mu.\n",
    "    \"\"\"\n",
    "    if sigma < 0.0 or mu < mu_range[0] or mu > mu_range[1]:\n",
    "        return -np.inf\n",
    "    else:\n",
    "        return -np.log(sigma)\n",
    "\n",
    "\n",
    "def log_likelihood(data, mu, sigma):\n",
    "    \"\"\"\n",
    "    Log of the unnormalized likelihood for a single mu and sigma \n",
    "    for Gaussian distributed data.\n",
    "    \"\"\"\n",
    "    return -((data - mu)**2).sum() / (2 * sigma**2) - n * np.log(sigma)\n",
    "\n",
    "\n",
    "def log_posterior(log_likelihood_fun, log_prior_fun, data, mu, sigma, \n",
    "                  mu_range):\n",
    "    \"\"\"\n",
    "    Compute the log of the posterior, given an array of data, plus\n",
    "    arrays of mu and sigma.  The functions defining the likelihood\n",
    "    and prior are given by log_likelihood_fun and log_prior_fun, \n",
    "    respectively.\n",
    "    \n",
    "    Returns a 2D array of the posterior where entry i,j corresponds to\n",
    "    mu[j], sigma[i].\n",
    "    \n",
    "    There are faster ways to calculate this, but we're doing it this way\n",
    "    because we will use similar definitions when we do MCMC.\n",
    "    \"\"\"\n",
    "    log_post = np.empty((len(sigma), len(mu)))\n",
    "    for i, sig in enumerate(sigma):\n",
    "        for j, m in enumerate(mu):\n",
    "            log_post[i, j] = log_likelihood_fun(data, m, sig) \\\n",
    "                                + log_prior_fun(m, sig, mu_range)\n",
    "\n",
    "    # Add a constant to log_post to get it close to unity so well-behaved\n",
    "    # when we exponentiate it.  We don't care about normalization.\n",
    "    log_post -= log_post.max()\n",
    "\n",
    "    return log_post"
   ]
  },
  {
   "cell_type": "code",
   "execution_count": null,
   "metadata": {
    "collapsed": true
   },
   "outputs": [],
   "source": []
  }
 ],
 "metadata": {
  "kernelspec": {
   "display_name": "Python 3",
   "language": "python",
   "name": "python3"
  },
  "language_info": {
   "codemirror_mode": {
    "name": "ipython",
    "version": 3
   },
   "file_extension": ".py",
   "mimetype": "text/x-python",
   "name": "python",
   "nbconvert_exporter": "python",
   "pygments_lexer": "ipython3",
   "version": "3.4.3"
  }
 },
 "nbformat": 4,
 "nbformat_minor": 0
}
