{
 "cells": [
  {
   "cell_type": "markdown",
   "metadata": {},
   "source": [
    "**Percent time spent in inactive, low activity, and high activity states**\n",
    "\n",
    "Another way to parameterize sleeping versus wakeful states is to compare the percentages of time the zebrafish spends in inactive, low activity, and high activity states. There are multiple ways we can compare these percentages. For example, we can compare these percentages across genotypes, across fish, and between daytime and nighttime. "
   ]
  },
  {
   "cell_type": "code",
   "execution_count": 9,
   "metadata": {
    "collapsed": false
   },
   "outputs": [],
   "source": [
    "import numpy as np\n",
    "import pandas as pd\n",
    "import matplotlib.pyplot as plt\n",
    "import seaborn as sns\n",
    "\n",
    "%matplotlib inline\n",
    "\n",
    "\n",
    "# JB's favorite Seaborn settings for notebooks\n",
    "rc = {'lines.linewidth': 2,\n",
    "      'axes.labelsize': 18,\n",
    "      'axes.titlesize': 18,\n",
    "      'axes.facecolor': 'DFDFE5'}\n",
    "sns.set_context('notebook', rc=rc) \n",
    "sns.set_style('darkgrid', rc=rc)"
   ]
  },
  {
   "cell_type": "markdown",
   "metadata": {},
   "source": [
    "Now we read in the tidy one minute interval data set from tutorial 2b."
   ]
  },
  {
   "cell_type": "code",
   "execution_count": 10,
   "metadata": {
    "collapsed": false
   },
   "outputs": [],
   "source": [
    "df = pd.read_csv('./data/130315_1_minute_intervals.csv', comment = '#')"
   ]
  },
  {
   "cell_type": "markdown",
   "metadata": {},
   "source": [
    "We grouped this `DataFrame` by genotype because we are first going to compare the percentage time the fish spend in each state based on their genotype. We would expect the mutant fish to have spend a smaller percent of their time in the inactive state than the wild type fish since they cannot produce melatonin, a hormone that is associated with sleep. We expect to see the mutant fish to spend more time in both the high activity and low activity states than the wildtype.\n",
    "\n",
    "Note that we could have grouped the `DataFrame` by fish as well as by genotype, thus calculating the percentage of time that each fish spends in each state. However, we chose to pool the data from all fish within each genotype because this enables a cleaner, more efficient graphical representation of the data later on when we make plots. (Further explanation below, before the first plots.) "
   ]
  },
  {
   "cell_type": "code",
   "execution_count": 11,
   "metadata": {
    "collapsed": true
   },
   "outputs": [],
   "source": [
    "df_grouped = df.groupby('genotype')"
   ]
  },
  {
   "cell_type": "markdown",
   "metadata": {},
   "source": [
    "Defining the inactive state as zero seconds of activity in a one minute period is obvious: no movement means inactive, movement means active. Defining the low activity and high activity states is not as obvious. The paper defines low activity as less than 1 second of activity in a one minute interval and high activity as 1 second or more of activity in a one minute interval. We argue that 1 second is too short. We don't consider a fish that is active for one 60th of our time bin to be highly active. We defined low activity as less than 2 seconds of activity in a one minute interval and high activity as 2 seconds or more of activity in a one minute interval; we consider the fish to be highly active if it is active more than one 30th of our time bin."
   ]
  },
  {
   "cell_type": "code",
   "execution_count": 12,
   "metadata": {
    "collapsed": false
   },
   "outputs": [],
   "source": [
    "inactive = df[df['activity'] == 0]\n",
    "low_activity = df[df['activity'] <= 2]\n",
    "high_activity = df[df['activity'] > 2]"
   ]
  },
  {
   "cell_type": "markdown",
   "metadata": {},
   "source": [
    "Now we group the `DataFrame` of each state by genotype."
   ]
  },
  {
   "cell_type": "code",
   "execution_count": 23,
   "metadata": {
    "collapsed": true
   },
   "outputs": [],
   "source": [
    "inactive = inactive.groupby('genotype')\n",
    "\n",
    "low_activity = low_activity.groupby('genotype')\n",
    "\n",
    "high_activity = high_activity.groupby('genotype')"
   ]
  },
  {
   "cell_type": "markdown",
   "metadata": {},
   "source": [
    "To find out the percentage of time spent in each state we must count the number of intervals spent in each state and count the total number of intervals and then divide the first by the latter."
   ]
  },
  {
   "cell_type": "code",
   "execution_count": 24,
   "metadata": {
    "collapsed": false
   },
   "outputs": [
    {
     "name": "stdout",
     "output_type": "stream",
     "text": [
      "genotype\n",
      "het    0.248500\n",
      "mut    0.189506\n",
      "wt     0.248906\n",
      "Name: activity, dtype: float64\n",
      "genotype\n",
      "het    0.539930\n",
      "mut    0.470005\n",
      "wt     0.516480\n",
      "Name: activity, dtype: float64\n",
      "genotype\n",
      "het    0.460070\n",
      "mut    0.529995\n",
      "wt     0.483520\n",
      "Name: activity, dtype: float64\n"
     ]
    }
   ],
   "source": [
    "# Calculating the total number of intervals in the experiment\n",
    "intervals = df_grouped['activity'].count()\n",
    "\n",
    "# Tally of number of intervals in each state\n",
    "inactive_int = inactive['activity'].count()\n",
    "low_activity_int = low_activity['activity'].count()\n",
    "high_activty_int = high_activity['activity'].count()\n",
    "\n",
    "# Calculate percentages\n",
    "inactive_per = inactive_int/intervals\n",
    "low_activity_per = low_activity_int/intervals\n",
    "high_activity_per = high_activty_int/intervals\n",
    "\n",
    "# To see these values we will print the percentages\n",
    "print(inactive_per)\n",
    "print(low_activity_per)\n",
    "print(high_activity_per)"
   ]
  },
  {
   "cell_type": "markdown",
   "metadata": {},
   "source": [
    "Now we can plot our percentages. We chose a bar graph. If we had calculated the percentages of time that each fish spends in each state, we could have used box plots or beeswarm plots. However, we preferred the bar graph representation of our pooled data. We felt that the bar graph is best because we can easily show all states with all genotypes on one plot; we can't do this as easily on a beeswarm plot (e.g., we could show all three genotypes, but we feel that doing so for more than one state per plot would start to look cluttered and difficult to understand at first glance). In our opinion, the conciseness of a bar graph outweighs the trade-off that pooling of the data obcures information about the variability within each genotype. \n",
    "\n",
    "To make the plots, we take the 'wt', 'het', and 'mut' percentages we calculated separately for each state and put them together in a list of values."
   ]
  },
  {
   "cell_type": "code",
   "execution_count": 25,
   "metadata": {
    "collapsed": false
   },
   "outputs": [],
   "source": [
    "wt_per = [inactive_per.wt, low_activity_per.wt, high_activity_per.wt]\n",
    "het_per = [inactive_per.het, low_activity_per.het, high_activity_per.het]\n",
    "mut_per = [inactive_per.mut, low_activity_per.mut, high_activity_per.mut]"
   ]
  },
  {
   "cell_type": "markdown",
   "metadata": {},
   "source": [
    "We can now plot our percentages."
   ]
  },
  {
   "cell_type": "code",
   "execution_count": 27,
   "metadata": {
    "collapsed": false
   },
   "outputs": [
    {
     "data": {
      "text/plain": [
       "<matplotlib.legend.Legend at 0x1112a1da0>"
      ]
     },
     "execution_count": 27,
     "metadata": {},
     "output_type": "execute_result"
    },
    {
     "data": {
      "image/png": "[encoded data removed]",
      "text/plain": [
       "<matplotlib.figure.Figure at 0x10c870198>"
      ]
     },
     "metadata": {},
     "output_type": "display_data"
    }
   ],
   "source": [
    "fig = plt.figure()\n",
    "ax = plt.subplot(111)\n",
    "x = np.arange(3)\n",
    "wt = ax.bar(x, wt_per, width = 0.30, color='Green')\n",
    "het = ax.bar(x + 0.30, het_per, width = 0.30, color='red')\n",
    "mut = ax.bar(x + 0.60, mut_per, width = 0.30, color='blue')\n",
    "\n",
    "ax.set_ylim(0,1)\n",
    "ax.set_ylabel('Percentages')\n",
    "ax.set_xticks(x+0.3)\n",
    "ax.set_xticklabels(['inactive', 'low activity', 'high activity'])\n",
    "plt.title ('Genotypes')\n",
    "plt.legend(('wt', 'het', 'mut'), loc='upper right')"
   ]
  },
  {
   "cell_type": "markdown",
   "metadata": {},
   "source": [
    "From the bar graph we can see that our hyptohesis that the mutant fish would have a smaller inactive percentage than the wild type is true, but by only four percent. Overall, the genotypes spend a similar percentage of time in each state, and it is hard to make firm conclusions without further statistical analysis.\n",
    "\n",
    "While comparing the percent of the time the fish spend in each state by genotype gives us some insight on the effects of melatonin on activity and sleep behavior, it doesn't tell us much about how light and dark affect activity. (Let us pretend that we have no prior knowledge of whether zebrafish are diurnal or nocturnal.)\n",
    "\n",
    "We can use our parameters to compare the total percentage of time spent in each state and compare it across days and nights. We can do this for each fish individually. As an example, we will calculate the percentage a particular fish, in this case FISH1, spends in each state during the day and night."
   ]
  },
  {
   "cell_type": "code",
   "execution_count": 30,
   "metadata": {
    "collapsed": false
   },
   "outputs": [
    {
     "data": {
      "text/plain": [
       "<matplotlib.legend.Legend at 0x109c3e8d0>"
      ]
     },
     "execution_count": 30,
     "metadata": {},
     "output_type": "execute_result"
    },
    {
     "data": {
      "image/png": "[encoded data removed]",
      "text/plain": [
       "<matplotlib.figure.Figure at 0x1112b2588>"
      ]
     },
     "metadata": {},
     "output_type": "display_data"
    }
   ],
   "source": [
    "# Now we want to look at them per fish and compare day with night\n",
    "# First we'll create a pie chart for the day and night time\n",
    "df_day = df[df['light'] == True].groupby('fish')\n",
    "df_night = df[df['light'] == False].groupby('fish')\n",
    "\n",
    "# Now we want to identify the times a fish has zero activity in a one minute interval\n",
    "inactive_day = df[(df['activity'] == 0) & (df['light'] == True)]\n",
    "inactive_night = df[(df['activity'] == 0) & (df['light'] == False)]\n",
    "\n",
    "# Now we want to idenitfy the times a fish has low activity\n",
    "low_activity_day = df[(df['activity'] <= 2) & (df['light'] == True)]\n",
    "low_activity_night = df[(df['activity'] <= 2) & (df['light'] == False)]\n",
    "\n",
    "# Now we want to idenitfy the time a fish has high activity\n",
    "high_activity_day = df[(df['activity'] > 2) & (df['light'] == True)]\n",
    "high_activity_night = df[(df['activity'] > 2) & (df['light'] == False)]\n",
    "\n",
    "# We want to group these state DataFrames by fish so we use groupby\n",
    "df_inactive_day = inactive_day.groupby('fish')\n",
    "df_low_activity_day = low_activity_day.groupby('fish')\n",
    "df_high_activity_day = high_activity_day.groupby('fish')\n",
    "\n",
    "df_inactive_night = inactive_night.groupby('fish')\n",
    "df_low_activity_night = low_activity_night.groupby('fish')\n",
    "df_high_activity_night = high_activity_night.groupby('fish')\n",
    "\n",
    "# To find the percentage of time spent in each state we divide the number of intervals\n",
    "# spent in each state by the total number of intervals during the day and night respectivitly\n",
    "inactive_per_day = df_inactive_day['activity'].count()/df_day['activity'].count()\n",
    "low_activity_per_day = df_low_activity_day['activity'].count()/df_day['activity'].count()\n",
    "high_activity_per_day = df_high_activity_day['activity'].count()/df_day['activity'].count()\n",
    "\n",
    "inactive_per_night = df_inactive_night['activity'].count()/df_night['activity'].count()\n",
    "low_activity_per_night = df_low_activity_night['activity'].count()/df_night['activity'].count()\n",
    "high_activity_per_night = df_high_activity_night['activity'].count()/df_night['activity'].count()\n",
    "\n",
    "# We plot the differences\n",
    "fish1_day = [inactive_per_day.FISH1, low_activity_per_day.FISH1, high_activity_per_day.FISH1]\n",
    "fish1_night = [inactive_per_night.FISH1, low_activity_per_night.FISH1, high_activity_per_night.FISH1]\n",
    "fig = plt.figure()\n",
    "ax = plt.subplot(111)\n",
    "x = np.arange(3)\n",
    "day = ax.bar(x, fish1_day, width = 0.30, color='blue')\n",
    "night = ax.bar(x + 0.3, fish1_night, width = 0.30, color='red')\n",
    "\n",
    "ax.set_ylim(0,1)\n",
    "ax.set_ylabel('Percentages')\n",
    "ax.set_xticks(x+0.3)\n",
    "ax.set_xticklabels(['inactive', 'low activity', 'high activity'])\n",
    "plt.title ('Fish 1')\n",
    "plt.legend(('day', 'night'), loc='upper right')"
   ]
  },
  {
   "cell_type": "markdown",
   "metadata": {},
   "source": [
    "If we continue to do this for all 96 fish we would end up with 96 bar graphs (or a graph with 196 bars). This would not fit in a paper, nor would looking at 96 different graphs or a massive number of bars on a chart give anyone an easy feel for the what the data was telling them. A concise way to look at and present this data, although we may be losing some information about variability, would be to create a bar graph of the pooled percentage time spent in each state by all the fish.\n",
    "\n",
    "We don't need to change our previous code much. We first need to separate our data into two `DataFrames`: one for the day and another for the night. Because we decided to pool the data, we do not group our `DataFrames` by fish, only by day and night. "
   ]
  },
  {
   "cell_type": "code",
   "execution_count": 29,
   "metadata": {
    "collapsed": false
   },
   "outputs": [],
   "source": [
    "# Here is where the BIG difference is, we only splice the data by day and night, we do not group it by fish\n",
    "df_day = df[df['light']==True]\n",
    "df_night = df[df['light']==False]\n",
    "\n",
    "#everything else we do is the same\n",
    "\n",
    "# Here we define our states\n",
    "# Now we want to identify the times a fish has zero activity in a one minute interval\n",
    "inactive_day = df[(df['activity'] == 0) & (df['light'] == True)]\n",
    "\n",
    "# Now we want to idenitfy the times a fish has low activity\n",
    "low_activity_day = df[(df['activity'] <= 2) & (df['light'] == True)]\n",
    "\n",
    "# Now we want to idenitfy the time a fish has high activity\n",
    "high_activity_day = df[(df['activity'] > 2) & (df['light'] == True)]\n",
    "\n",
    "# Now we want to identify the times a fish has zero activity in a one minute interval\n",
    "inactive_night = df[(df['activity'] == 0) & (df['light'] == False)]\n",
    "\n",
    "# Now we want to idenitfy the times a fish has low activity\n",
    "low_activity_night = df[(df['activity'] <= 2) & (df['light'] == False)]\n",
    "\n",
    "# Now we want to idenitfy the time a fish has high activity\n",
    "high_activity_night = df[(df['activity'] > 2) & (df['light'] == False)]"
   ]
  },
  {
   "cell_type": "markdown",
   "metadata": {},
   "source": [
    "Now all we need to do is take the number of intervals in each state by all fish and divide it by the total number of one minute intervals. This gives us the pooled percent time spent in each state."
   ]
  },
  {
   "cell_type": "code",
   "execution_count": 31,
   "metadata": {
    "collapsed": false
   },
   "outputs": [
    {
     "data": {
      "text/plain": [
       "<matplotlib.legend.Legend at 0x1110c6400>"
      ]
     },
     "execution_count": 31,
     "metadata": {},
     "output_type": "execute_result"
    },
    {
     "data": {
      "image/png": "[encoded data removed]",
      "text/plain": [
       "<matplotlib.figure.Figure at 0x1112b2c18>"
      ]
     },
     "metadata": {},
     "output_type": "display_data"
    }
   ],
   "source": [
    "# To find the percentage of time spent in each state we divide the number of intervals\n",
    "# spent in each state by the total number of intervals during the night\n",
    "inactive_per_day = inactive_day['activity'].count()/df_day['activity'].count()\n",
    "low_activity_per_day = low_activity_day['activity'].count()/df_day['activity'].count()\n",
    "high_activity_per_day = high_activity_day['activity'].count()/df_day['activity'].count()\n",
    "\n",
    "inactive_per_night = inactive_night['activity'].count()/df_night['activity'].count()\n",
    "low_activity_per_night = low_activity_night['activity'].count()/df_night['activity'].count()\n",
    "high_activity_per_night = high_activity_night['activity'].count()/df_night['activity'].count()\n",
    "\n",
    "# Plot our data\n",
    "fish1 = [inactive_per_day, low_activity_per_day, high_activity_per_day]\n",
    "fish1 = [inactive_per_night, low_activity_per_night, high_activity_per_night]\n",
    "fig = plt.figure()\n",
    "ax = plt.subplot(111)\n",
    "x = np.arange(3)\n",
    "day = ax.bar(x, fish1_day, width = 0.30, color='blue')\n",
    "night = ax.bar(x + 0.3, fish1_night, width = 0.30, color='red')\n",
    "\n",
    "ax.set_ylim(0,1)\n",
    "ax.set_ylabel('Percentages')\n",
    "ax.set_xticks(x+0.3)\n",
    "ax.set_xticklabels(['inactive', 'low activity', 'high activity'])\n",
    "plt.title ('Fish (Day vs. Night)')\n",
    "plt.legend(('day', 'night'), loc='upper right')"
   ]
  },
  {
   "cell_type": "markdown",
   "metadata": {},
   "source": [
    "With this comparison of day vs. night, we can use our parameter of percent time spent in each activity state to determine when the fish are more likely to be sleeping. We can see clearly that at night the fish spend a greater percentage of time in an inactive state and in a low activity state than they do during the day. This lets us infer that the fish tend to sleep at night rather than during the day; in other words, zebrafish are diurnal organisms.  "
   ]
  },
  {
   "cell_type": "markdown",
   "metadata": {
    "collapsed": true
   },
   "source": [
    "<u>Strengths and weaknesses of this parameter</u>\n",
    "\n",
    "In the end, we came to the conclusion that this parameter (percent time spent in different activity states, and in particular the pooled percentages) does not have many strengths as a sleep metric. In fact, the only strength we could think of is that with the bar plots, it is fairly easy to understand at a glance - although it is not necessarily easier to understand than the other two parameters we tried. Much more prominent than the strengths are the weaknesses of this parameter. By categorizing the activity into three discrete states, we lose some of the detail that was contained in the original continuous quantitative data. We also felt that having to display three activity states on the same plot made it difficult to compare the genotypes with beeswarm plots or box plots, which quickly start to look cluttered; this is one reason why we settled for pooling the data and using bar plots, which are usually less than ideal. Another important weakness is that by pooling the data across the fish, we lose information about the variability within genotypes or the presence of any outliers that may skew the results. "
   ]
  },
  {
   "cell_type": "code",
   "execution_count": null,
   "metadata": {
    "collapsed": true
   },
   "outputs": [],
   "source": []
  }
 ],
 "metadata": {
  "kernelspec": {
   "display_name": "Python 3",
   "language": "python",
   "name": "python3"
  },
  "language_info": {
   "codemirror_mode": {
    "name": "ipython",
    "version": 3
   },
   "file_extension": ".py",
   "mimetype": "text/x-python",
   "name": "python",
   "nbconvert_exporter": "python",
   "pygments_lexer": "ipython3",
   "version": "3.4.3"
  }
 },
 "nbformat": 4,
 "nbformat_minor": 0
}
