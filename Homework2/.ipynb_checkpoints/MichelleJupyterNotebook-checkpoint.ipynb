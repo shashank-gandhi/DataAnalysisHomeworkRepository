{
 "cells": [
  {
   "cell_type": "markdown",
   "metadata": {},
   "source": [
    "One way to parameterize sleeping versus wakeful states is to compare the percentage of time the zebra fish spends in an inactive, low active, and high active state. There are mutliple ways we can compare these percentages. We can look compare these percentages across genotypes, across fish, and we can even compare them between during the light and dark. \n",
    "First we want to import `pandas`, `numpy`, `matplotlib` and `seaborn`."
   ]
  },
  {
   "cell_type": "code",
   "execution_count": 113,
   "metadata": {
    "collapsed": false
   },
   "outputs": [],
   "source": [
    "import numpy as np\n",
    "import pandas as pd\n",
    "import matplotlib.pyplot as plt\n",
    "import seaborn as sns\n",
    "\n",
    "%matplotlib inline\n",
    "\n",
    "\n",
    "# JB's favorite Seaborn settings for notebooks\n",
    "rc = {'lines.linewidth': 2,\n",
    "      'axes.labelsize': 18,\n",
    "      'axes.titlesize': 18,\n",
    "      'axes.facecolor': 'DFDFE5'}\n",
    "sns.set_context('notebook', rc=rc) \n",
    "sns.set_style('darkgrid', rc=rc)\n",
    "\n",
    "plt.close('all')\n"
   ]
  },
  {
   "cell_type": "markdown",
   "metadata": {},
   "source": [
    "Now we read in the tidy one minute interval data set from tutorial 2b"
   ]
  },
  {
   "cell_type": "code",
   "execution_count": 3,
   "metadata": {
    "collapsed": false
   },
   "outputs": [],
   "source": [
    "df = pd.read_csv('130315_1_minute_intervals.csv', comment = '#')"
   ]
  },
  {
   "cell_type": "markdown",
   "metadata": {},
   "source": [
    "We grouped this `DataFrame` by genotype because we are first going to compare the percentage the fish spend in each state based on their genotype. We would expect the mutant fish to have spend a smaller percent of their time in the inactive state than the wild type fish since they cannot produce melatonin, a hormone that associated with sleep. We expect to see the mutant fish to spend more time active (both highly and lowly) than the wildtype."
   ]
  },
  {
   "cell_type": "code",
   "execution_count": 4,
   "metadata": {
    "collapsed": true
   },
   "outputs": [],
   "source": [
    "df_grouped = df.groupby('genotype')"
   ]
  },
  {
   "cell_type": "markdown",
   "metadata": {},
   "source": [
    "Defining the inactive state be defined as zero seconds of activity in a one minute period is obvious; no movement means inactive, movement means active. Defining the low activity and high activity state are not as obvious. The paper defines low activity as less than 1 second of activity in a one minute interval and high activity as 1 second or more of activity in a one minute interval. We argue that a one minute time interval is too short. We don't consider a fish that is active for one sixty-ith of our time frame to be highly active. We defined low activity as less than 2 seconds of activity in a one minute interval and high activity as 2 seconds or more of activity in a one minute interval; we consider the fish to be highly active if there it is active more than one-thirty-ith of our time frame."
   ]
  },
  {
   "cell_type": "code",
   "execution_count": 5,
   "metadata": {
    "collapsed": false
   },
   "outputs": [],
   "source": [
    "inactive = df[df['activity'] == 0]\n",
    "low_activity = df[df['activity'] <= 2]\n",
    "high_activity = df[df['activity'] > 2]"
   ]
  },
  {
   "cell_type": "markdown",
   "metadata": {},
   "source": [
    "Now we group the `DataFrame` of each state by genotype."
   ]
  },
  {
   "cell_type": "code",
   "execution_count": 6,
   "metadata": {
    "collapsed": true
   },
   "outputs": [],
   "source": [
    "inactive = inactive.groupby('genotype')\n",
    "\n",
    "low_activity = low_activity.groupby('genotype')\n",
    "\n",
    "high_activity = high_activity.groupby('genotype')"
   ]
  },
  {
   "cell_type": "markdown",
   "metadata": {},
   "source": [
    "To find out the percentage of time spent in each state we must count the number of intervals spent in each state and count the total number of intervals and then divide the first by the latter."
   ]
  },
  {
   "cell_type": "code",
   "execution_count": 7,
   "metadata": {
    "collapsed": false
   },
   "outputs": [
    {
     "name": "stdout",
     "output_type": "stream",
     "text": [
      "genotype\n",
      "het    0.248500\n",
      "mut    0.189506\n",
      "wt     0.248906\n",
      "Name: activity, dtype: float64\n",
      "genotype\n",
      "het    0.539930\n",
      "mut    0.470005\n",
      "wt     0.516480\n",
      "Name: activity, dtype: float64\n",
      "genotype\n",
      "het    0.460070\n",
      "mut    0.529995\n",
      "wt     0.483520\n",
      "Name: activity, dtype: float64\n"
     ]
    }
   ],
   "source": [
    "# Calculating the total number of intervals in the experiment\n",
    "intervals = df_grouped['activity'].count()\n",
    "\n",
    "# Tally of number of intervals in each state\n",
    "inactive_int = inactive['activity'].count()\n",
    "low_activity_int = low_activity['activity'].count()\n",
    "high_activty_int = high_activity['activity'].count()\n",
    "\n",
    "# Calculate percentages\n",
    "inactive_per = inactive_int/intervals\n",
    "low_activity_per = low_activity_int/intervals\n",
    "high_activity_per = high_activty_int/intervals\n",
    "\n",
    "# To see these values we will print the percentages\n",
    "print(inactive_per)\n",
    "print(low_activity_per)\n",
    "print(high_activity_per)"
   ]
  },
  {
   "cell_type": "markdown",
   "metadata": {},
   "source": [
    "Now we can plot our percentages. We chose a pie graph because it's the best way to plot percentages. Because we are plotting the percentage each genotype spends in each state we need to organize our data. We can take the 'wt' percentage we calculated seperately in each state and put them together in a list of values."
   ]
  },
  {
   "cell_type": "code",
   "execution_count": 8,
   "metadata": {
    "collapsed": false
   },
   "outputs": [
    {
     "data": {
      "text/plain": [
       "[0.24890590209606125, 0.51648002105932811, 0.48351997894067195]"
      ]
     },
     "execution_count": 8,
     "metadata": {},
     "output_type": "execute_result"
    }
   ],
   "source": [
    "wt_per = [inactive_per.wt, low_activity_per.wt, high_activity_per.wt]\n",
    "het_per = [inactive_per.het, low_activity_per.het, high_activity_per.het]\n",
    "mut_per = [inactive_per.mut, low_activity_per.mut, high_activity_per.mut]\n",
    "wt_per"
   ]
  },
  {
   "cell_type": "markdown",
   "metadata": {},
   "source": [
    "We can now plot our percentages."
   ]
  },
  {
   "cell_type": "code",
   "execution_count": 112,
   "metadata": {
    "collapsed": false
   },
   "outputs": [
    {
     "data": {
      "text/plain": [
       "<matplotlib.legend.Legend at 0x10ec52d30>"
      ]
     },
     "execution_count": 112,
     "metadata": {},
     "output_type": "execute_result"
    },
    {
     "data": {
      "image/png": "[encoded data removed]",
      "text/plain": [
       "<matplotlib.figure.Figure at 0x117034ba8>"
      ]
     },
     "metadata": {},
     "output_type": "display_data"
    }
   ],
   "source": [
    "fig = plt.figure()\n",
    "ax = plt.subplot(111)\n",
    "x = np.arange(3)\n",
    "wt = ax.bar(x, wt_per, width = 0.30, color='Green')\n",
    "het = ax.bar(x + 0.30, het_per, width = 0.30, color='red')\n",
    "mut = ax.bar(x + 0.60, mut_per, width = 0.30, color='blue')\n",
    "\n",
    "ax.set_ylim(0,1)\n",
    "ax.set_ylabel('Percentages')\n",
    "ax.set_xticks(ind+0.3)\n",
    "ax.set_xticklabels(['inactive', 'low activity', 'high activity'])\n",
    "plt.setp(xtickNames, rotation=45, fontsize=12)\n",
    "plt.title ('Genotypes')\n",
    "plt.legend(('wt', 'het', 'mut'), loc='upper right')"
   ]
  },
  {
   "cell_type": "markdown",
   "metadata": {},
   "source": [
    "From the bar graph we can see that our hyptohesis that the mutant fish would have a smaller inactive percentage than the wild type is true, but by only four percent. Something that surpises me is that the percentage of time the mutant fist spend in the high activity state is less than that of the het. Over all the genotypes have spend a similar percent of time in each state except for the inactive state.\n",
    "\n",
    "Comparing the percent of the time the fish spend in each state by genotype gives us some insight on the effects of melatonin on sleep, doesn't tell us much about how light and dark affect sleep.\n",
    "\n",
    "We can use our parameters to compare the total percentage of time spent in each state and compare it across days and nights. We can do this for each fish individually if we wanted, it would be just a simple variation of what we did above. We can calculate the percentage a particular fish, in this case FISH1, spends in each state during the day and night."
   ]
  },
  {
   "cell_type": "code",
   "execution_count": 111,
   "metadata": {
    "collapsed": false
   },
   "outputs": [
    {
     "data": {
      "text/plain": [
       "<matplotlib.legend.Legend at 0x10f6abc18>"
      ]
     },
     "execution_count": 111,
     "metadata": {},
     "output_type": "execute_result"
    },
    {
     "data": {
      "image/png": "[encoded data removed]",
      "text/plain": [
       "<matplotlib.figure.Figure at 0x113193438>"
      ]
     },
     "metadata": {},
     "output_type": "display_data"
    }
   ],
   "source": [
    "# Now I want to look at them per fish and compare day with night\n",
    "# First I'll create a pie chart for the day and night time\n",
    "df_day = df[df['light'] == True].groupby('fish')\n",
    "df_night = df[df['light'] == False].groupby('fish')\n",
    "\n",
    "# Now we want to identify the times a fish has zero activity in a one minute interval\n",
    "inactive_day = df[(df['activity'] == 0) & (df['light'] == True)]\n",
    "inactive_night = df[(df['activity'] == 0) & (df['light'] == False)]\n",
    "\n",
    "# Now we want to idenitfy the times a fish has low activity\n",
    "low_activity_day = df[(df['activity'] <= 2) & (df['light'] == True)]\n",
    "low_activity_night = df[(df['activity'] <= 2) & (df['light'] == False)]\n",
    "\n",
    "# Now we want to idenitfy the time a fish has high activity\n",
    "high_activity_day = df[(df['activity'] > 2) & (df['light'] == True)]\n",
    "high_activity_night = df[(df['activity'] > 2) & (df['light'] == False)]\n",
    "\n",
    "# We want to group these state DataFrames by fish so we use groupby\n",
    "df_inactive_day = inactive_day.groupby('fish')\n",
    "df_low_activity_day = low_activity_day.groupby('fish')\n",
    "df_high_activity_day = high_activity_day.groupby('fish')\n",
    "\n",
    "df_inactive_night = inactive_night.groupby('fish')\n",
    "df_low_activity_night = low_activity_night.groupby('fish')\n",
    "df_high_activity_night = high_activity_night.groupby('fish')\n",
    "\n",
    "# To find the percentage of time spent in each state we divide the number of intervals\n",
    "# spent in each state by the total number of intervals during the day and night respectivitly\n",
    "inactive_per_day = df_inactive_day['activity'].count()/df_day['activity'].count()\n",
    "low_activity_per_day = df_low_activity_day['activity'].count()/df_day['activity'].count()\n",
    "high_activity_per_day = df_high_activity_day['activity'].count()/df_day['activity'].count()\n",
    "\n",
    "inactive_per_night = df_inactive_night['activity'].count()/df_night['activity'].count()\n",
    "low_activity_per_night = df_low_activity_night['activity'].count()/df_night['activity'].count()\n",
    "high_activity_per_night = df_high_activity_night['activity'].count()/df_night['activity'].count()\n",
    "\n",
    "# We plot the differences\n",
    "fish1_day = [inactive_per_day.FISH1, low_activity_per_day.FISH1, high_activity_per_day.FISH1]\n",
    "fish1_night = [inactive_per_night.FISH1, low_activity_per_night.FISH1, high_activity_per_night.FISH1]\n",
    "fig = plt.figure()\n",
    "ax = plt.subplot(111)\n",
    "x = np.arange(3)\n",
    "day = ax.bar(x, fish1_day, width = 0.30, color='blue')\n",
    "night = ax.bar(x + 0.3, fish1_night, width = 0.30, color='red')\n",
    "\n",
    "ax.set_ylim(0,1)\n",
    "ax.set_ylabel('Percentages')\n",
    "ax.set_xticks(ind+0.3)\n",
    "ax.set_xticklabels(['inactive', 'low activity', 'high activity'])\n",
    "plt.setp(xtickNames, rotation=45, fontsize=12)\n",
    "plt.title ('Fish 1')\n",
    "plt.legend(('day', 'night'), loc='upper right')"
   ]
  },
  {
   "cell_type": "markdown",
   "metadata": {},
   "source": [
    "If we contiue to do this for all 96 fish we will end up with 96 bar graphs (we could put them on the same graph but then we would hace 192 bars in our graph); all we would have to do is when we create the bar graph with this line: `fish1 = [inactive_per_day.FISH1, low_activity_per_day.FISH1, high_activity_per_day.FISH1, inactive_per_night.FISH1, low_activity_per_night.FISH1, high_activity_per_night.FISH1]` and just replace the `.FISH1` with `FISH2-FISH96`. It would be difficult to show 96 different graphs in a paper. This is annoying and looking at 96 different graphs or a massive number of bars on a chart wouldn't give anyone an easy feel about the what the data was telling them. A concise way to look at and present this data, although we may be losing some observations, is to create a bar graph of the mean percentage spent in each state by all the fish. Although it's great to see all the data so that one can detect any outliers, it's also good too see averages.\n",
    "\n",
    "We don't need to change our previous code much. We first need to seperate our data into two `DataFrames`; one for the day and another for the night. In order to have the average calculated for us in our code instead of writing a line to take the mean of all the fish (we don't want to do more work than we need too), we do not group our `DataFrames` by fish, only by day and night. "
   ]
  },
  {
   "cell_type": "code",
   "execution_count": 14,
   "metadata": {
    "collapsed": false
   },
   "outputs": [],
   "source": [
    "# Here is where the BIG difference is, we only splice the data by day and night, we do not group it by fish\n",
    "df_day = df[df['light']==True]\n",
    "df_night = df[df['light']==False]\n",
    "\n",
    "#everything else we do is the same\n",
    "\n",
    "# Here we define our states\n",
    "# Now we want to identify the times a fish has zero activity in a one minute interval\n",
    "inactive_day = df[(df['activity'] == 0) & (df['light'] == True)]\n",
    "\n",
    "# Now we want to idenitfy the times a fish has low activity\n",
    "low_activity_day = df[(df['activity'] <= 2) & (df['light'] == True)]\n",
    "\n",
    "# Now we want to idenitfy the time a fish has high activity\n",
    "high_activity_day = df[(df['activity'] > 2) & (df['light'] == True)]\n",
    "\n",
    "# Now we want to identify the times a fish has zero activity in a one minute interval\n",
    "inactive_night = df[(df['activity'] == 0) & (df['light'] == False)]\n",
    "\n",
    "# Now we want to idenitfy the times a fish has low activity\n",
    "low_activity_night = df[(df['activity'] <= 2) & (df['light'] == False)]\n",
    "\n",
    "# Now we want to idenitfy the time a fish has high activity\n",
    "high_activity_night = df[(df['activity'] > 2) & (df['light'] == False)]"
   ]
  },
  {
   "cell_type": "markdown",
   "metadata": {},
   "source": [
    "Here we leave out the part where we grouped our states by fish, we don't need to do this because we want the average percentage spent in each state by all fish. We can do this because  Now all we need to do is divide the number of intervals in each state by all fish by the total number of one minute intervals and this gives us the average percent spent in each state."
   ]
  },
  {
   "cell_type": "code",
   "execution_count": 110,
   "metadata": {
    "collapsed": false
   },
   "outputs": [
    {
     "data": {
      "text/plain": [
       "<matplotlib.legend.Legend at 0x10f706c88>"
      ]
     },
     "execution_count": 110,
     "metadata": {},
     "output_type": "execute_result"
    },
    {
     "data": {
      "image/png": "[encoded data removed]",
      "text/plain": [
       "<matplotlib.figure.Figure at 0x10ef17978>"
      ]
     },
     "metadata": {},
     "output_type": "display_data"
    }
   ],
   "source": [
    "# The other BIG difference is that we leave out the part where we group our percentage dataframes by fish, we don't\n",
    "# need that since we want the mean over all fish\n",
    "\n",
    "# To find the percentage of time spent in each state we divide the number of intervals\n",
    "# spent in each state by the total number of intervals during the night\n",
    "inactive_per_day = inactive_day['activity'].count()/df_day['activity'].count()\n",
    "low_activity_per_day = low_activity_day['activity'].count()/df_day['activity'].count()\n",
    "high_activity_per_day = high_activity_day['activity'].count()/df_day['activity'].count()\n",
    "\n",
    "inactive_per_night = inactive_night['activity'].count()/df_night['activity'].count()\n",
    "low_activity_per_night = low_activity_night['activity'].count()/df_night['activity'].count()\n",
    "high_activity_per_night = high_activity_night['activity'].count()/df_night['activity'].count()\n",
    "\n",
    "# Plot our data\n",
    "fish1 = [inactive_per_day, low_activity_per_day, high_activity_per_day]\n",
    "fish1 = [inactive_per_night, low_activity_per_night, high_activity_per_night]\n",
    "fig = plt.figure()\n",
    "ax = plt.subplot(111)\n",
    "x = np.arange(3)\n",
    "day = ax.bar(x, fish1_day, width = 0.30, color='blue')\n",
    "night = ax.bar(x + 0.3, fish1_night, width = 0.30, color='red')\n",
    "\n",
    "ax.set_ylim(0,1)\n",
    "ax.set_ylabel('Percentages')\n",
    "ax.set_xticks(ind+0.3)\n",
    "ax.set_xticklabels(['inactive', 'low activity', 'high activity'])\n",
    "plt.setp(xtickNames, rotation=45, fontsize=12)\n",
    "plt.title ('Fish (Day vs. Night)')\n",
    "plt.legend(('day', 'night'), loc='upper right')"
   ]
  },
  {
   "cell_type": "markdown",
   "metadata": {},
   "source": [
    "Now we can make an observation to help us diffrentiate sleep from wakeful states. We can see clearly that at night the fish spend a greater percentage of time in an inactive state and in a low activity state than they do during the day. This let's us infer that during sleep, fish are less active and during a wakeful state they are more active."
   ]
  },
  {
   "cell_type": "code",
   "execution_count": null,
   "metadata": {
    "collapsed": true
   },
   "outputs": [],
   "source": []
  }
 ],
 "metadata": {
  "kernelspec": {
   "display_name": "Python 3",
   "language": "python",
   "name": "python3"
  },
  "language_info": {
   "codemirror_mode": {
    "name": "ipython",
    "version": 3
   },
   "file_extension": ".py",
   "mimetype": "text/x-python",
   "name": "python",
   "nbconvert_exporter": "python",
   "pygments_lexer": "ipython3",
   "version": "3.4.3"
  }
 },
 "nbformat": 4,
 "nbformat_minor": 0
}
