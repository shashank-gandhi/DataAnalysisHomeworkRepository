{
 "cells": [
  {
   "cell_type": "markdown",
   "metadata": {},
   "source": [
    "First we want to import `pandas`, `numpy`, `matplotlib` and `seaborn`."
   ]
  },
  {
   "cell_type": "code",
   "execution_count": 29,
   "metadata": {
    "collapsed": true
   },
   "outputs": [],
   "source": [
    "import numpy as np\n",
    "import pandas as pd\n",
    "import matplotlib.pyplot as plt\n",
    "import seaborn as sns\n",
    "\n",
    "%matplotlib inline\n",
    "\n",
    "%config InlineBackend.figure_formats = {'png', 'retina'}\n",
    "\n",
    "# JB's favorite Seaborn settings for notebooks\n",
    "rc = {'lines.linewidth': 2,\n",
    "      'axes.labelsize': 18,\n",
    "      'axes.titlesize': 18,\n",
    "      'axes.facecolor': 'DFDFE5'}\n",
    "sns.set_context('notebook', rc=rc) \n",
    "sns.set_style('darkgrid', rc=rc)\n",
    "\n",
    "plt.close('all')\n"
   ]
  },
  {
   "cell_type": "markdown",
   "metadata": {},
   "source": [
    "Now we read in the tidy one minute interval data set from tutorial 2b"
   ]
  },
  {
   "cell_type": "code",
   "execution_count": 30,
   "metadata": {
    "collapsed": true
   },
   "outputs": [],
   "source": [
    "df = pd.read_csv('130315_1_minute_intervals.csv', comment = '#')"
   ]
  },
  {
   "cell_type": "markdown",
   "metadata": {},
   "source": [
    "We also grouped this `DataFrame` by genotype"
   ]
  },
  {
   "cell_type": "code",
   "execution_count": 31,
   "metadata": {
    "collapsed": true
   },
   "outputs": [],
   "source": [
    "df_grouped = df.groupby('genotype')"
   ]
  },
  {
   "cell_type": "markdown",
   "metadata": {},
   "source": [
    "Defining the inactive state be defined as zero seconds of activity in a one minute period is obvious; no movement means inactive, movement means active. Defining the low activity and high activity state are not as obvious. The paper defines low activity as less than 1 second of activity in a one minute interval and high activity as 1 second or more of activity in a one minute interval. We argue that a one minute time interval is too short. We don't consider a fish that is active for one sixty-ith of our time frame to be highly active. We defined low activity as less than 3 seconds of activity in a one minute interval and high activity as 3 seconds or more of activity in a one minute interval; we consider the fish to be highly active if there it is active more than one-twenty-ith of our time frame."
   ]
  },
  {
   "cell_type": "code",
   "execution_count": 32,
   "metadata": {
    "collapsed": true
   },
   "outputs": [],
   "source": [
    "inactive = df[df['activity'] == 0]\n",
    "low_activity = df[df['activity'] <= 3]\n",
    "high_activity = df[df['activity'] > 3]"
   ]
  },
  {
   "cell_type": "markdown",
   "metadata": {},
   "source": [
    "Now we group the `DataFrame` of each state by genotype."
   ]
  },
  {
   "cell_type": "code",
   "execution_count": 33,
   "metadata": {
    "collapsed": true
   },
   "outputs": [],
   "source": [
    "inactive = inactive.groupby('genotype')\n",
    "\n",
    "low_activity = low_activity.groupby('genotype')\n",
    "\n",
    "high_activity = high_activity.groupby('genotype')"
   ]
  },
  {
   "cell_type": "markdown",
   "metadata": {},
   "source": [
    "To find out the percentage of time spent in each state we must count the number of intervals spent in each state and count the total number of intervals and then divide the first by the latter."
   ]
  },
  {
   "cell_type": "code",
   "execution_count": 34,
   "metadata": {
    "collapsed": false
   },
   "outputs": [
    {
     "name": "stdout",
     "output_type": "stream",
     "text": [
      "genotype\n",
      "het    0.248500\n",
      "mut    0.189506\n",
      "wt     0.248906\n",
      "Name: activity, dtype: float64\n",
      "genotype\n",
      "het    0.613611\n",
      "mut    0.559973\n",
      "wt     0.585076\n",
      "Name: activity, dtype: float64\n",
      "genotype\n",
      "het    0.386389\n",
      "mut    0.440027\n",
      "wt     0.414924\n",
      "Name: activity, dtype: float64\n"
     ]
    }
   ],
   "source": [
    "# Calculating the total number of intervals in the experiment\n",
    "intervals = df_grouped['activity'].count()\n",
    "\n",
    "# Tally of number of intervals in each state\n",
    "inactive_int = inactive['activity'].count()\n",
    "low_activity_int = low_activity['activity'].count()\n",
    "high_activty_int = high_activity['activity'].count()\n",
    "\n",
    "# Calculate percentages\n",
    "inactive_per = inactive_int/intervals\n",
    "low_activity_per = low_activity_int/intervals\n",
    "high_activity_per = high_activty_int/intervals\n",
    "\n",
    "# To see these values we will print the percentages\n",
    "print(inactive_per)\n",
    "print(low_activity_per)\n",
    "print(high_activity_per)"
   ]
  },
  {
   "cell_type": "markdown",
   "metadata": {},
   "source": [
    "Now we can plot our percentages. We chose a pie graph because it's the best way to plot percentages. Because we are plotting the percentage each genotype spends in each state we need to organize our data. We can take the 'wt' percentage we calculated seperately in each state and put them together in a list of values."
   ]
  },
  {
   "cell_type": "code",
   "execution_count": 35,
   "metadata": {
    "collapsed": false
   },
   "outputs": [],
   "source": [
    "wt_per = [inactive_per.wt, low_activity_per.wt, high_acitivty_per.wt]\n",
    "het_per = [inactive_per.het, low_activity_per.het, high_acitivty_per.het]\n",
    "mut_per = [inactive_per.mut, low_activity_per.mut, high_acitivty_per.mut]"
   ]
  },
  {
   "cell_type": "markdown",
   "metadata": {},
   "source": [
    "We can now plot our wild type pie chart."
   ]
  },
  {
   "cell_type": "code",
   "execution_count": 37,
   "metadata": {
    "collapsed": false
   },
   "outputs": [
    {
     "data": {
      "text/plain": [
       "([<matplotlib.patches.Wedge at 0x10c5181d0>,\n",
       "  <matplotlib.patches.Wedge at 0x10c518dd8>,\n",
       "  <matplotlib.patches.Wedge at 0x10c51fa58>],\n",
       " [<matplotlib.text.Text at 0x10c518940>,\n",
       "  <matplotlib.text.Text at 0x10c51f5c0>,\n",
       "  <matplotlib.text.Text at 0x109f71240>])"
      ]
     },
     "execution_count": 37,
     "metadata": {},
     "output_type": "execute_result"
    },
    {
     "data": {
      "image/png": "[encoded data removed]",
      "text/plain": [
       "<matplotlib.figure.Figure at 0x10c3f9128>"
      ]
     },
     "metadata": {
      "image/png": {
       "height": 321,
       "width": 507
      }
     },
     "output_type": "display_data"
    }
   ],
   "source": [
    "plt.pie(wt_per, labels = ['inactive', 'low activity', 'high activity'])"
   ]
  },
  {
   "cell_type": "code",
   "execution_count": null,
   "metadata": {
    "collapsed": true
   },
   "outputs": [],
   "source": [
    "plt.pie(het_per, labels = ['inactive', 'low activity', 'high activity'], colors = ['red','green', 'blue'])\n",
    "plt.pie(mut_per, labels = ['inactive', 'low activity', 'high activity'], colors = ['red','green', 'blue'])"
   ]
  }
 ],
 "metadata": {
  "kernelspec": {
   "display_name": "Python 3",
   "language": "python",
   "name": "python3"
  },
  "language_info": {
   "codemirror_mode": {
    "name": "ipython",
    "version": 3
   },
   "file_extension": ".py",
   "mimetype": "text/x-python",
   "name": "python",
   "nbconvert_exporter": "python",
   "pygments_lexer": "ipython3",
   "version": "3.4.3"
  }
 },
 "nbformat": 4,
 "nbformat_minor": 0
}
