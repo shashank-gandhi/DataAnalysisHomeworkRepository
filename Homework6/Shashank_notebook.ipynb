{
 "cells": [
  {
   "cell_type": "code",
   "execution_count": 1,
   "metadata": {
    "collapsed": true
   },
   "outputs": [],
   "source": [
    "import itertools\n",
    "import warnings\n",
    "\n",
    "# Our numerical workhorses\n",
    "import numpy as np\n",
    "import pandas as pd\n",
    "import scipy.stats as st\n",
    "import scipy.special\n",
    "\n",
    "# The MCMC Hammer\n",
    "import emcee\n",
    "\n",
    "import numba\n",
    "\n",
    "# BE/Bi 103 utilities\n",
    "import bebi103\n",
    "\n",
    "# Import plotting tools\n",
    "import matplotlib.pyplot as plt\n",
    "import seaborn as sns\n",
    "import corner\n",
    "\n",
    "# Magic function to make matplotlib inline; other style specs must come AFTER\n",
    "%matplotlib inline\n",
    "\n",
    "# This enables high res graphics inline (only use with static plots (non-Bokeh))\n",
    "# SVG is preferred, but there is a bug in Jupyter with vertical lines\n",
    "%config InlineBackend.figure_formats = {'png', 'retina'}\n",
    "\n",
    "# JB's favorite Seaborn settings for notebooks\n",
    "rc = {'lines.linewidth': 2, \n",
    "      'axes.labelsize': 18, \n",
    "      'axes.titlesize': 18, \n",
    "      'axes.facecolor': 'DFDFE5'}\n",
    "sns.set_context('notebook', rc=rc)\n",
    "sns.set_style('darkgrid', rc=rc)\n",
    "\n",
    "# Suppress future warnings\n",
    "warnings.simplefilter(action='ignore', category=FutureWarning)"
   ]
  },
  {
   "cell_type": "code",
   "execution_count": 2,
   "metadata": {
    "collapsed": true
   },
   "outputs": [],
   "source": [
    "df = pd.read_csv(\"./data/gardner_hw6/gardner_mt_catastrophe_only_tubulin.csv\", comment = \"#\")"
   ]
  },
  {
   "cell_type": "code",
   "execution_count": 3,
   "metadata": {
    "collapsed": false
   },
   "outputs": [
    {
     "data": {
      "text/html": [
       "<div>\n",
       "<table border=\"1\" class=\"dataframe\">\n",
       "  <thead>\n",
       "    <tr style=\"text-align: right;\">\n",
       "      <th></th>\n",
       "      <th>12 uM</th>\n",
       "      <th>7 uM</th>\n",
       "      <th>9 uM</th>\n",
       "      <th>10 uM</th>\n",
       "      <th>14 uM</th>\n",
       "    </tr>\n",
       "  </thead>\n",
       "  <tbody>\n",
       "    <tr>\n",
       "      <th>0</th>\n",
       "      <td>25.000</td>\n",
       "      <td>35</td>\n",
       "      <td>25</td>\n",
       "      <td>50</td>\n",
       "      <td>60</td>\n",
       "    </tr>\n",
       "    <tr>\n",
       "      <th>1</th>\n",
       "      <td>40.000</td>\n",
       "      <td>45</td>\n",
       "      <td>40</td>\n",
       "      <td>60</td>\n",
       "      <td>75</td>\n",
       "    </tr>\n",
       "    <tr>\n",
       "      <th>2</th>\n",
       "      <td>40.000</td>\n",
       "      <td>50</td>\n",
       "      <td>40</td>\n",
       "      <td>60</td>\n",
       "      <td>75</td>\n",
       "    </tr>\n",
       "    <tr>\n",
       "      <th>3</th>\n",
       "      <td>45.429</td>\n",
       "      <td>50</td>\n",
       "      <td>45</td>\n",
       "      <td>75</td>\n",
       "      <td>85</td>\n",
       "    </tr>\n",
       "    <tr>\n",
       "      <th>4</th>\n",
       "      <td>50.000</td>\n",
       "      <td>55</td>\n",
       "      <td>50</td>\n",
       "      <td>75</td>\n",
       "      <td>115</td>\n",
       "    </tr>\n",
       "  </tbody>\n",
       "</table>\n",
       "</div>"
      ],
      "text/plain": [
       "    12 uM  7 uM  9 uM  10 uM  14 uM\n",
       "0  25.000    35    25     50     60\n",
       "1  40.000    45    40     60     75\n",
       "2  40.000    50    40     60     75\n",
       "3  45.429    50    45     75     85\n",
       "4  50.000    55    50     75    115"
      ]
     },
     "execution_count": 3,
     "metadata": {},
     "output_type": "execute_result"
    }
   ],
   "source": [
    "df.head()"
   ]
  },
  {
   "cell_type": "code",
   "execution_count": 20,
   "metadata": {
    "collapsed": false
   },
   "outputs": [],
   "source": [
    "tau = np.array([15,10,17])\n",
    "t=100\n",
    "\n",
    "#m=0\n",
    "for i in range(2):\n",
    "    if not tau[i]<tau[i+1]:\n",
    "        sum_z = -np.inf\n",
    "        break\n",
    "        \n",
    "    else:\n",
    "        x=[] #d\n",
    "        y=[] #num\n",
    "        z=[] #function output\n",
    "        x_array_product=[] #den\n",
    "\n",
    "        for j in range(3):\n",
    "            y.append( (tau[j]*np.exp(-t/tau[j]) ))\n",
    "\n",
    "            for k in range(3):\n",
    "                if k != j:\n",
    "                    x.append(tau[j] - tau[k])\n",
    "            x_array=np.array(x)\n",
    "            x_array_product.append(np.prod(x_array))\n",
    "\n",
    "            z.append(y[j]/x_array_product[j])\n",
    "            x=[]\n",
    "            #m+=1\n",
    "        z_array=np.array(z)\n",
    "        if np.sum(z)>0:\n",
    "            sum_z = np.log(np.sum(z))\n",
    "        else:\n",
    "            RaiseError(\"WTF man!?\")\n",
    "    break\n",
    "            "
   ]
  },
  {
   "cell_type": "code",
   "execution_count": 57,
   "metadata": {
    "collapsed": false
   },
   "outputs": [],
   "source": [
    "def log_likelihood(tau, time, m):\n",
    "    \"\"\"\n",
    "    Takes in tau (should be an array), \n",
    "    data, various values for m. We are very proud of this function.\n",
    "    \"\"\"\n",
    "    tau = np.sort(tau)\n",
    "    \n",
    "    num_handler = [] #numerator\n",
    "    den_handler = [] #denominator\n",
    "    den_elements = [] #elements necessary to take products in den\n",
    "    func_handler = [] #output log posterior\n",
    "    \n",
    "    for i in range(m-1):\n",
    "\n",
    "        if not tau[i]<tau[i+1]:\n",
    "\n",
    "            return -np.inf\n",
    "            \n",
    "        for j in range(m):\n",
    "            num_handler.append(tau[j]**(m-2) * np.exp(-time/tau[j]))\n",
    "\n",
    "            for k in range(m):\n",
    "                if k != j:\n",
    "                    den_elements.append(tau[j] - tau[k])\n",
    "\n",
    "            #den_elements_array = np.array(den_elements)\n",
    "\n",
    "            den_handler.append(np.prod(den_elements))\n",
    "\n",
    "            func_handler.append(num_handler[j]/den_handler[j])\n",
    "\n",
    "            den_elements = []\n",
    "\n",
    "        #func_handler_array = np.array(func_handler)\n",
    "\n",
    "        if np.sum(func_handler)>0:\n",
    "            return np.log(np.sum(func_handler))\n",
    "\n",
    "        else:\n",
    "            RaiseError(\"WTF Man.\")\n",
    "\n",
    "def log_prior(tau, m):\n",
    "    \"\"\"\n",
    "    Log prior for model defined above. Takes in m and tau, \n",
    "    returns log prior.\n",
    "    \"\"\"\n",
    "    tau = np.sort(tau)\n",
    "    \n",
    "    for i in range(m-1):\n",
    "\n",
    "        if not tau[i]<tau[i+1]:\n",
    "\n",
    "            return -np.inf\n",
    "    \n",
    "    if not np.all(tau> 0):\n",
    "        return -np.inf\n",
    "    \n",
    "    return -np.log(np.prod(tau))\n",
    "        \n",
    "test_run = log_likelihood(tau, t, 3)\n",
    "\n",
    "def tau_start(m, n_walkers, n_temps):\n",
    "    p = np.empty((n_temps, n_walkers, m))\n",
    "    \n",
    "    for i in range(m):\n",
    "        p[:,:,i]=np.random.exponential(0.1, (n_temps,n_walkers))\n",
    "    return p\n"
   ]
  },
  {
   "cell_type": "code",
   "execution_count": 59,
   "metadata": {
    "collapsed": false
   },
   "outputs": [
    {
     "data": {
      "text/plain": [
       "0    25.000\n",
       "1    40.000\n",
       "2    40.000\n",
       "3    45.429\n",
       "4    50.000\n",
       "Name: 12 uM, dtype: float64"
      ]
     },
     "execution_count": 59,
     "metadata": {},
     "output_type": "execute_result"
    }
   ],
   "source": [
    "df[\"12 uM\"].head()"
   ]
  },
  {
   "cell_type": "code",
   "execution_count": 56,
   "metadata": {
    "collapsed": false
   },
   "outputs": [
    {
     "data": {
      "text/plain": [
       "array([[[  2.84690086e-01,   1.68073325e-02,   4.06292718e-02],\n",
       "        [  5.33791043e-03,   1.25977050e-01,   3.87506352e-01],\n",
       "        [  1.32440541e-02,   6.64423842e-02,   3.58689335e-01],\n",
       "        [  1.16472755e-01,   6.66558534e-02,   2.08422572e-02],\n",
       "        [  1.18888917e-02,   1.91170412e-02,   5.90565622e-03],\n",
       "        [  7.74030947e-02,   2.51351044e-01,   2.80007336e-02],\n",
       "        [  1.92030726e-01,   9.59816776e-02,   5.24402936e-02],\n",
       "        [  1.75324931e-01,   7.74048892e-02,   7.40586603e-02],\n",
       "        [  9.55384685e-02,   1.17473158e-01,   2.36379126e-01],\n",
       "        [  3.62132509e-02,   1.71765589e-01,   2.41947459e-01]],\n",
       "\n",
       "       [[  5.14147612e-03,   8.52354715e-02,   1.20027534e-01],\n",
       "        [  3.63533569e-02,   3.39876845e-02,   1.50698303e-03],\n",
       "        [  4.17073903e-02,   1.15943326e-01,   5.38388871e-03],\n",
       "        [  2.50867882e-04,   3.30802930e-01,   2.45009984e-02],\n",
       "        [  2.20849789e-01,   1.31438575e-02,   3.53019236e-02],\n",
       "        [  2.79977348e-01,   3.26578497e-01,   1.02468736e-01],\n",
       "        [  6.91635126e-02,   2.89245786e-02,   1.21218912e-01],\n",
       "        [  8.46622631e-02,   2.70151363e-02,   4.38269891e-02],\n",
       "        [  8.26152689e-02,   5.45026369e-02,   7.44176864e-02],\n",
       "        [  9.92331710e-02,   4.76402400e-02,   3.47912144e-02]]])"
      ]
     },
     "execution_count": 56,
     "metadata": {},
     "output_type": "execute_result"
    }
   ],
   "source": [
    "n_burn=100\n",
    "n_steps=1000\n",
    "n_temps=20\n",
    "p0=tau_start(3,50,20)\n",
    "loglargs = (df[\"12 uM\"], 3)\n",
    "logpargs = (3,)\n",
    "columns = "
   ]
  },
  {
   "cell_type": "code",
   "execution_count": 49,
   "metadata": {
    "collapsed": false
   },
   "outputs": [
    {
     "data": {
      "text/plain": [
       "array([-2,  1,  3])"
      ]
     },
     "execution_count": 49,
     "metadata": {},
     "output_type": "execute_result"
    }
   ],
   "source": [
    "np.sort(a)"
   ]
  },
  {
   "cell_type": "code",
   "execution_count": null,
   "metadata": {
    "collapsed": false
   },
   "outputs": [],
   "source": [
    "x=1\n",
    "print(-x)"
   ]
  },
  {
   "cell_type": "code",
   "execution_count": null,
   "metadata": {
    "collapsed": false
   },
   "outputs": [],
   "source": [
    "x=[1,2,3]\n",
    "np.prod(x)"
   ]
  },
  {
   "cell_type": "code",
   "execution_count": null,
   "metadata": {
    "collapsed": true
   },
   "outputs": [],
   "source": []
  }
 ],
 "metadata": {
  "kernelspec": {
   "display_name": "Python 3",
   "language": "python",
   "name": "python3"
  },
  "language_info": {
   "codemirror_mode": {
    "name": "ipython",
    "version": 3
   },
   "file_extension": ".py",
   "mimetype": "text/x-python",
   "name": "python",
   "nbconvert_exporter": "python",
   "pygments_lexer": "ipython3",
   "version": "3.4.3"
  }
 },
 "nbformat": 4,
 "nbformat_minor": 0
}
