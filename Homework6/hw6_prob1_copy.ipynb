{
 "cells": [
  {
   "cell_type": "code",
   "execution_count": 1,
   "metadata": {
    "collapsed": false
   },
   "outputs": [],
   "source": [
    "import itertools\n",
    "import warnings\n",
    "\n",
    "# Our numerical workhorses\n",
    "import numpy as np\n",
    "import pandas as pd\n",
    "import scipy.stats as st\n",
    "import scipy.special\n",
    "\n",
    "# The MCMC Hammer\n",
    "import emcee\n",
    "\n",
    "# BE/Bi 103 utilities\n",
    "import bebi103\n",
    "\n",
    "# Import plotting tools\n",
    "import matplotlib.pyplot as plt\n",
    "import seaborn as sns\n",
    "import corner\n",
    "\n",
    "# Magic function to make matplotlib inline; other style specs must come AFTER\n",
    "%matplotlib inline\n",
    "\n",
    "# This enables high res graphics inline (only use with static plots (non-Bokeh))\n",
    "# SVG is preferred, but there is a bug in Jupyter with vertical lines\n",
    "%config InlineBackend.figure_formats = {'png', 'retina'}\n",
    "\n",
    "# JB's favorite Seaborn settings for notebooks\n",
    "rc = {'lines.linewidth': 2, \n",
    "      'axes.labelsize': 18, \n",
    "      'axes.titlesize': 18, \n",
    "      'axes.facecolor': 'DFDFE5'}\n",
    "sns.set_context('notebook', rc=rc)\n",
    "sns.set_style('darkgrid', rc=rc)\n",
    "\n",
    "# Suppress future warnings\n",
    "warnings.simplefilter(action='ignore', category=FutureWarning)"
   ]
  },
  {
   "cell_type": "code",
   "execution_count": 2,
   "metadata": {
    "collapsed": true
   },
   "outputs": [],
   "source": [
    "df = pd.read_csv(\"./data/gardner_hw6/gardner_mt_catastrophe_only_tubulin.csv\", comment = \"#\")"
   ]
  },
  {
   "cell_type": "code",
   "execution_count": 3,
   "metadata": {
    "collapsed": false
   },
   "outputs": [
    {
     "data": {
      "text/html": [
       "<div>\n",
       "<table border=\"1\" class=\"dataframe\">\n",
       "  <thead>\n",
       "    <tr style=\"text-align: right;\">\n",
       "      <th></th>\n",
       "      <th>12 uM</th>\n",
       "      <th>7 uM</th>\n",
       "      <th>9 uM</th>\n",
       "      <th>10 uM</th>\n",
       "      <th>14 uM</th>\n",
       "    </tr>\n",
       "  </thead>\n",
       "  <tbody>\n",
       "    <tr>\n",
       "      <th>0</th>\n",
       "      <td>25.000</td>\n",
       "      <td>35</td>\n",
       "      <td>25</td>\n",
       "      <td>50</td>\n",
       "      <td>60</td>\n",
       "    </tr>\n",
       "    <tr>\n",
       "      <th>1</th>\n",
       "      <td>40.000</td>\n",
       "      <td>45</td>\n",
       "      <td>40</td>\n",
       "      <td>60</td>\n",
       "      <td>75</td>\n",
       "    </tr>\n",
       "    <tr>\n",
       "      <th>2</th>\n",
       "      <td>40.000</td>\n",
       "      <td>50</td>\n",
       "      <td>40</td>\n",
       "      <td>60</td>\n",
       "      <td>75</td>\n",
       "    </tr>\n",
       "    <tr>\n",
       "      <th>3</th>\n",
       "      <td>45.429</td>\n",
       "      <td>50</td>\n",
       "      <td>45</td>\n",
       "      <td>75</td>\n",
       "      <td>85</td>\n",
       "    </tr>\n",
       "    <tr>\n",
       "      <th>4</th>\n",
       "      <td>50.000</td>\n",
       "      <td>55</td>\n",
       "      <td>50</td>\n",
       "      <td>75</td>\n",
       "      <td>115</td>\n",
       "    </tr>\n",
       "  </tbody>\n",
       "</table>\n",
       "</div>"
      ],
      "text/plain": [
       "    12 uM  7 uM  9 uM  10 uM  14 uM\n",
       "0  25.000    35    25     50     60\n",
       "1  40.000    45    40     60     75\n",
       "2  40.000    50    40     60     75\n",
       "3  45.429    50    45     75     85\n",
       "4  50.000    55    50     75    115"
      ]
     },
     "execution_count": 3,
     "metadata": {},
     "output_type": "execute_result"
    }
   ],
   "source": [
    "df.head()"
   ]
  },
  {
   "cell_type": "code",
   "execution_count": 45,
   "metadata": {
    "collapsed": false
   },
   "outputs": [],
   "source": [
    "def log_likelihood1(tau, t, m):\n",
    "    \"\"\"\n",
    "    Takes in tau (should be an array), \n",
    "    data, various values for m. We are very proud of this function.\n",
    "    \"\"\"\n",
    "    tau = np.sort(tau)\n",
    "    \n",
    "    num_handler = [] #numerator\n",
    "    den_handler = [] #denominator\n",
    "    den_elements = [] #elements necessary to take products in den\n",
    "    func_handler = [] #output log posterior\n",
    "    \n",
    "    for j in range(m):\n",
    "        num_handler.append(tau[j]**(m-2) * np.exp(-t/tau[j]))\n",
    "\n",
    "        for k in range(m):\n",
    "            if k != j:\n",
    "                den_elements.append(tau[j] - tau[k])\n",
    "\n",
    "        den_handler.append(np.prod(den_elements))\n",
    "\n",
    "        func_handler.append(num_handler[j]/den_handler[j])\n",
    "        den_elements = []\n",
    "    \n",
    "    #print(func_handler)\n",
    "\n",
    "    if np.sum(func_handler)>0:\n",
    "        return np.log(np.sum(func_handler))\n",
    "\n",
    "    else:\n",
    "        #raise RuntimeError(\"WTF Man.\")\n",
    "        return -np.inf\n",
    "\n",
    "def log_prior1(tau, m):\n",
    "    \"\"\"\n",
    "    Log prior for model defined above. Takes in m and tau, \n",
    "    returns log prior.\n",
    "    \"\"\"\n",
    "    tau = np.sort(tau)\n",
    "    \n",
    "    for i in range(m-1):\n",
    "\n",
    "        if not tau[i]<tau[i+1]:\n",
    "\n",
    "            return -np.inf\n",
    "    \n",
    "    if not np.all(tau> 0):\n",
    "        return -np.inf\n",
    "    \n",
    "    return -np.log(np.prod(tau))\n",
    "        \n",
    "#test_run = log_likelihood(tau, t, 3)\n",
    "\n",
    "def tau_start1(m, n_walkers, n_temps):\n",
    "    p = np.empty((n_temps, n_walkers, m))\n",
    "    \n",
    "    for i in range(m):\n",
    "        p[:,:,i]=np.random.exponential(1, (n_temps,n_walkers))\n",
    "    return p\n",
    "\n"
   ]
  },
  {
   "cell_type": "code",
   "execution_count": 64,
   "metadata": {
    "collapsed": false
   },
   "outputs": [],
   "source": [
    "def log_likelihood(tau, t, m):\n",
    "    \"\"\"\n",
    "    Takes in tau (should be an array), \n",
    "    data, various values for m. We are very proud of this function.\n",
    "    \"\"\"\n",
    "    tau = np.sort(tau)\n",
    "    logpost = np.empty(len(t))\n",
    "    t = t.values\n",
    "    i = np.arange(len(t))\n",
    "    \n",
    "        num_handler = np.empty((len(t), m)) #numerator\n",
    "        exp_handler = np.empty((len(t), m))\n",
    "        den_handler = np.empty((len(t), m)) #denominator\n",
    "        den_elements = [] #elements necessary to take products in den\n",
    "        func_handler = np.empty((len(t), m)) #output log posterior\n",
    "\n",
    "        for j in range(m):\n",
    "            num_handler[:,j] = tau[j]**(m-2)\n",
    "            exp_handler[:,j] = -t/tau[j]\n",
    "            for k in range(m):\n",
    "                if k != j:\n",
    "                    den_elements.append(tau[j] - tau[k])\n",
    "\n",
    "            den_handler[j] = np.prod(den_elements)\n",
    "            den_elements = []\n",
    "\n",
    "        scaling_factor = num_handler / den_handler\n",
    "        func_handler = scaling_factor * np.exp(exp_handler)   \n",
    "        #print(func_handler)\n",
    "\n",
    "        if np.sum(func_handler)>0:\n",
    "            logpost[i] = scipy.misc.logsumexp(exp_handler, b=scaling_factor)            \n",
    "        else:\n",
    "            return -np.inf\n",
    "    return np.sum(logpost)\n",
    "\n",
    "def log_prior(tau, m):\n",
    "    \"\"\"\n",
    "    Log prior for model defined above. Takes in m and tau, \n",
    "    returns log prior.\n",
    "    \"\"\"\n",
    "    tau = np.sort(tau)\n",
    "    \n",
    "    for i in range(m-1):\n",
    "\n",
    "        if not tau[i]<tau[i+1]:\n",
    "\n",
    "            return -np.inf\n",
    "    \n",
    "    if not np.all(tau> 0):\n",
    "        return -np.inf\n",
    "    \n",
    "    return -np.log(np.prod(tau))\n",
    "        \n",
    "#test_run = log_likelihood(tau, t, 3)\n",
    "\n",
    "def tau_start(m, n_walkers, n_temps):\n",
    "    p = np.empty((n_temps, n_walkers, m))\n",
    "    \n",
    "    for i in range(m):\n",
    "        p[:,:,i]=np.random.exponential(300, (n_temps,n_walkers))\n",
    "    return p\n"
   ]
  },
  {
   "cell_type": "code",
   "execution_count": 52,
   "metadata": {
    "collapsed": false
   },
   "outputs": [],
   "source": [
    "tau = [15, 10, 17, 1, 4, 6, 20, 8, 9, 11]\n",
    "t = 25\n",
    "m = 10\n",
    "\n",
    "test1 = log_likelihood1(tau, t, m)\n",
    "test2 = log_likelihood(tau, t, m)"
   ]
  },
  {
   "cell_type": "code",
   "execution_count": 67,
   "metadata": {
    "collapsed": false
   },
   "outputs": [
    {
     "data": {
      "text/plain": [
       "array([   25.   ,    40.   ,    40.   ,    45.429,    50.   ,    55.   ,\n",
       "          56.386,    60.   ,    60.   ,    60.   ,    60.   ,    64.075,\n",
       "          65.   ,    65.   ,    65.   ,    65.   ,    70.   ,    71.764,\n",
       "          75.   ,    75.   ,    78.903,    80.   ,    80.   ,    80.   ,\n",
       "          85.   ,    85.   ,    85.   ,    85.   ,    85.   ,    90.   ,\n",
       "          90.   ,    90.   ,    92.268,    94.831,    95.   ,    95.   ,\n",
       "         100.   ,   105.   ,   105.   ,   105.   ,   110.   ,   110.   ,\n",
       "         112.772,   115.   ,   115.   ,   115.   ,   115.   ,   117.159,\n",
       "         117.159,   117.898,   120.   ,   120.   ,   125.   ,   125.   ,\n",
       "         125.   ,   125.   ,   125.   ,   125.587,   130.   ,   130.   ,\n",
       "         130.   ,   130.   ,   130.   ,   130.   ,   130.   ,   130.   ,\n",
       "         130.   ,   131.505,   133.276,   135.   ,   135.   ,   135.   ,\n",
       "         135.   ,   135.   ,   138.402,   140.   ,   140.   ,   140.   ,\n",
       "         140.   ,   140.965,   143.528,   145.   ,   145.   ,   145.   ,\n",
       "         145.   ,   145.851,   150.   ,   150.633,   153.78 ,   155.   ,\n",
       "         155.   ,   155.415,   160.   ,   160.   ,   160.   ,   160.   ,\n",
       "         160.   ,   160.   ,   164.979,   164.979,   165.   ,   165.   ,\n",
       "         165.   ,   165.   ,   165.   ,   165.   ,   166.595,   170.   ,\n",
       "         170.   ,   170.   ,   170.   ,   170.   ,   170.   ,   170.   ,\n",
       "         174.284,   175.   ,   175.   ,   175.   ,   175.   ,   175.   ,\n",
       "         175.   ,   175.   ,   176.847,   179.325,   180.   ,   180.   ,\n",
       "         180.   ,   181.716,   181.973,   181.973,   181.973,   184.536,\n",
       "         184.536,   185.   ,   185.   ,   186.498,   189.662,   189.662,\n",
       "         190.   ,   190.   ,   190.   ,   190.   ,   190.   ,   190.   ,\n",
       "         192.225,   194.788,   195.   ,   195.   ,   195.   ,   195.   ,\n",
       "         195.   ,   195.   ,   197.351,   197.351,   199.914,   199.914,\n",
       "         199.914,   200.   ,   200.   ,   200.844,   205.   ,   205.   ,\n",
       "         205.   ,   205.   ,   205.04 ,   207.603,   210.   ,   212.729,\n",
       "         212.729,   215.   ,   215.   ,   215.292,   217.581,   220.   ,\n",
       "         220.   ,   220.   ,   220.   ,   220.418,   220.418,   220.418,\n",
       "         222.981,   225.   ,   225.544,   229.536,   230.   ,   233.233,\n",
       "         233.233,   233.233,   234.318,   235.   ,   235.796,   238.359,\n",
       "         238.359,   239.1  ,   240.   ,   240.   ,   240.   ,   245.   ,\n",
       "         245.   ,   245.   ,   245.   ,   245.   ,   246.048,   250.   ,\n",
       "         251.174,   255.   ,   255.   ,   255.   ,   255.   ,   255.   ,\n",
       "         256.3  ,   256.3  ,   258.228,   260.   ,   260.   ,   260.   ,\n",
       "         260.   ,   260.   ,   261.426,   261.426,   261.426,   265.   ,\n",
       "         265.   ,   265.   ,   265.   ,   265.   ,   266.552,   266.552,\n",
       "         269.115,   269.115,   270.   ,   270.   ,   270.   ,   270.   ,\n",
       "         270.   ,   270.   ,   270.   ,   271.678,   274.241,   275.   ,\n",
       "         275.   ,   275.   ,   275.   ,   275.   ,   276.804,   279.367,\n",
       "         280.   ,   280.   ,   280.   ,   280.   ,   280.   ,   280.   ,\n",
       "         280.   ,   280.   ,   285.   ,   285.   ,   285.   ,   285.   ,\n",
       "         287.056,   289.619,   290.   ,   292.182,   292.182,   292.182,\n",
       "         292.182,   294.745,   295.   ,   299.871,   300.   ,   300.   ,\n",
       "         300.   ,   300.   ,   300.   ,   300.   ,   300.   ,   302.434,\n",
       "         305.   ,   305.   ,   305.   ,   305.   ,   307.56 ,   310.   ,\n",
       "         310.   ,   310.   ,   310.   ,   310.   ,   310.   ,   312.686,\n",
       "         315.   ,   315.   ,   315.249,   315.249,   315.249,   315.249,\n",
       "         317.812,   318.003,   320.   ,   320.   ,   320.   ,   320.   ,\n",
       "         320.   ,   320.   ,   320.   ,   320.   ,   320.   ,   320.   ,\n",
       "         320.375,   320.394,   322.938,   329.958,   330.   ,   330.   ,\n",
       "         330.   ,   330.   ,   330.   ,   330.   ,   330.   ,   332.349,\n",
       "         333.19 ,   333.19 ,   335.   ,   335.   ,   335.   ,   335.   ,\n",
       "         335.753,   338.316,   338.316,   340.   ,   340.   ,   340.   ,\n",
       "         340.   ,   340.   ,   340.879,   340.879,   345.   ,   345.   ,\n",
       "         345.   ,   345.   ,   345.   ,   345.   ,   345.   ,   345.   ,\n",
       "         346.005,   348.568,   348.568,   348.568,   348.568,   349.086,\n",
       "         350.   ,   350.   ,   350.   ,   350.   ,   351.131,   351.131,\n",
       "         351.131,   353.694,   355.   ,   355.   ,   355.   ,   355.   ,\n",
       "         355.   ,   355.   ,   355.   ,   355.   ,   356.259,   358.65 ,\n",
       "         358.82 ,   360.   ,   360.   ,   360.   ,   360.   ,   360.   ,\n",
       "         360.   ,   363.432,   365.   ,   365.   ,   365.   ,   365.   ,\n",
       "         365.   ,   365.   ,   365.   ,   365.   ,   365.823,   366.509,\n",
       "         366.509,   369.072,   369.072,   370.   ,   370.   ,   370.   ,\n",
       "         370.   ,   370.   ,   370.605,   370.605,   371.635,   374.198,\n",
       "         375.   ,   375.   ,   375.   ,   375.   ,   376.761,   376.761,\n",
       "         377.778,   380.   ,   380.   ,   380.   ,   380.   ,   380.169,\n",
       "         381.887,   384.45 ,   384.45 ,   385.   ,   385.   ,   385.   ,\n",
       "         385.   ,   390.   ,   390.   ,   390.   ,   390.   ,   390.   ,\n",
       "         392.124,   395.   ,   395.   ,   395.   ,   395.   ,   399.828,\n",
       "         399.828,   399.828,   400.   ,   402.391,   405.   ,   405.   ,\n",
       "         405.   ,   406.47 ,   406.47 ,   410.   ,   410.   ,   410.   ,\n",
       "         410.   ,   410.   ,   410.   ,   412.643,   415.   ,   415.206,\n",
       "         415.206,   415.206,   415.206,   416.034,   417.769,   420.   ,\n",
       "         420.   ,   420.   ,   420.332,   420.332,   422.895,   425.   ,\n",
       "         425.458,   425.458,   428.021,   428.021,   428.021,   430.   ,\n",
       "         430.   ,   430.   ,   433.147,   435.   ,   435.   ,   435.   ,\n",
       "         435.   ,   438.273,   440.   ,   440.   ,   440.   ,   440.   ,\n",
       "         440.   ,   440.   ,   440.   ,   440.   ,   440.836,   440.836,\n",
       "         443.399,   445.   ,   445.   ,   445.   ,   448.525,   448.525,\n",
       "         449.508,   450.   ,   450.   ,   450.   ,   451.088,   451.088,\n",
       "         453.651,   453.651,   455.   ,   456.214,   456.214,   460.   ,\n",
       "         460.   ,   461.463,   463.854,   463.854,   463.903,   465.   ,\n",
       "         465.   ,   466.466,   469.029,   470.   ,   471.592,   471.592,\n",
       "         475.   ,   478.2  ,   479.281,   480.   ,   480.   ,   480.   ,\n",
       "         480.   ,   481.844,   482.982,   485.   ,   485.   ,   486.97 ,\n",
       "         486.97 ,   486.97 ,   490.   ,   490.155,   494.659,   494.659,\n",
       "         495.   ,   497.222,   497.222,   500.   ,   500.   ,   500.   ,\n",
       "         504.911,   504.911,   505.   ,   505.   ,   505.   ,   505.   ,\n",
       "         506.892,   507.474,   510.   ,   510.   ,   511.674,   512.6  ,\n",
       "         515.   ,   515.   ,   515.163,   515.163,   515.163,   517.726,\n",
       "         520.   ,   520.   ,   520.   ,   525.415,   530.   ,   530.   ,\n",
       "         530.   ,   530.   ,   530.   ,   533.104,   535.   ,   535.   ,\n",
       "         535.667,   538.23 ,   543.356,   543.356,   545.   ,   545.   ,\n",
       "         545.   ,   545.   ,   548.482,   550.   ,   550.   ,   555.   ,\n",
       "         555.   ,   555.   ,   555.   ,   556.171,   556.171,   556.171,\n",
       "         558.734,   560.   ,   560.   ,   560.   ,   565.   ,   565.   ,\n",
       "         565.   ,   565.   ,   566.423,   570.   ,   571.549,   574.112,\n",
       "         574.112,   574.112,   575.   ,   575.   ,   580.   ,   585.   ,\n",
       "         588.186,   589.49 ,   590.   ,   594.616,   595.   ,   600.   ,\n",
       "         602.532,   605.   ,   605.   ,   605.   ,   610.   ,   610.   ,\n",
       "         615.   ,   615.   ,   615.12 ,   620.   ,   620.   ,   625.372,\n",
       "         628.833,   630.498,   633.061,   635.   ,   635.624,   640.   ,\n",
       "         640.   ,   643.313,   648.439,   650.   ,   650.352,   660.   ,\n",
       "         665.   ,   670.   ,   674.069,   675.   ,   675.   ,   684.321,\n",
       "         685.   ,   685.   ,   690.   ,   692.01 ,   699.699,   700.   ,\n",
       "         705.   ,   712.514,   725.329,   730.   ,   730.455,   730.455,\n",
       "         745.   ,   765.   ,   766.337,   770.   ,   780.   ,   780.   ,\n",
       "         785.   ,   785.   ,   805.   ,   805.   ,   810.   ,   820.   ,\n",
       "         835.   ,   855.   ,   865.   ,   875.   ,   875.   ,   885.   ,\n",
       "         885.   ,   910.   ,   940.   ,   945.   ,   950.   ,   950.   ,\n",
       "         950.   ,   955.   ,   960.   ,   960.   ,   965.   ,   965.   ,\n",
       "         980.   ,  1002.133,  1055.   ,  1095.   ,  1165.   ,  1230.   ,\n",
       "        1240.   ,  1285.   ,  1320.   ,  1335.   ,  1485.   ,  1505.   ,\n",
       "        1520.   ,  1785.   ])"
      ]
     },
     "execution_count": 67,
     "metadata": {},
     "output_type": "execute_result"
    }
   ],
   "source": []
  },
  {
   "cell_type": "code",
   "execution_count": 65,
   "metadata": {
    "collapsed": false
   },
   "outputs": [],
   "source": [
    "n_burn = 100\n",
    "n_steps = 500\n",
    "n_temps = 10\n",
    "n_walkers = 10\n",
    "m = 3\n",
    "p0=tau_start(m, n_walkers, n_temps)\n",
    "loglargs = (df[\"12 uM\"], m)\n",
    "logpargs = (m,)\n",
    "columns = [\"tau_1\", \"tau_2\", \"tau_3\"]"
   ]
  },
  {
   "cell_type": "code",
   "execution_count": 66,
   "metadata": {
    "collapsed": false
   },
   "outputs": [
    {
     "ename": "ValueError",
     "evalue": "setting an array element with a sequence.",
     "output_type": "error",
     "traceback": [
      "\u001b[0;31m---------------------------------------------------------------------------\u001b[0m",
      "\u001b[0;31mValueError\u001b[0m                                Traceback (most recent call last)",
      "\u001b[0;32m<ipython-input-66-0165a8130ec2>\u001b[0m in \u001b[0;36m<module>\u001b[0;34m()\u001b[0m\n\u001b[1;32m      5\u001b[0m                     \u001b[0mn_temps\u001b[0m\u001b[0;34m=\u001b[0m\u001b[0mn_temps\u001b[0m\u001b[0;34m,\u001b[0m \u001b[0mp0\u001b[0m\u001b[0;34m=\u001b[0m\u001b[0mp0\u001b[0m\u001b[0;34m,\u001b[0m \u001b[0mloglargs\u001b[0m\u001b[0;34m=\u001b[0m\u001b[0mloglargs\u001b[0m\u001b[0;34m,\u001b[0m\u001b[0;34m\u001b[0m\u001b[0m\n\u001b[1;32m      6\u001b[0m                     \u001b[0mlogpargs\u001b[0m\u001b[0;34m=\u001b[0m\u001b[0mlogpargs\u001b[0m\u001b[0;34m,\u001b[0m \u001b[0mthreads\u001b[0m\u001b[0;34m=\u001b[0m\u001b[0;32mNone\u001b[0m\u001b[0;34m,\u001b[0m \u001b[0mcolumns\u001b[0m\u001b[0;34m=\u001b[0m\u001b[0mcolumns\u001b[0m\u001b[0;34m,\u001b[0m\u001b[0;34m\u001b[0m\u001b[0m\n\u001b[0;32m----> 7\u001b[0;31m                     return_lnZ=True)\n\u001b[0m\u001b[1;32m      8\u001b[0m \u001b[0;34m\u001b[0m\u001b[0m\n\u001b[1;32m      9\u001b[0m \u001b[0mprint\u001b[0m\u001b[0;34m(\u001b[0m\u001b[0;34m'It took '\u001b[0m\u001b[0;34m,\u001b[0m \u001b[0mtime\u001b[0m\u001b[0;34m.\u001b[0m\u001b[0mtime\u001b[0m\u001b[0;34m(\u001b[0m\u001b[0;34m)\u001b[0m\u001b[0;34m-\u001b[0m\u001b[0mstart\u001b[0m\u001b[0;34m,\u001b[0m \u001b[0;34m' seconds.'\u001b[0m\u001b[0;34m)\u001b[0m\u001b[0;34m\u001b[0m\u001b[0m\n",
      "\u001b[0;32m/Users/elenaperry/Desktop/GitHub/DataAnalysisHomeworkRepository/Homework6/bebi103.py\u001b[0m in \u001b[0;36mrun_pt_emcee\u001b[0;34m(log_like, log_prior, n_burn, n_steps, n_temps, n_walkers, p_dict, p0, columns, loglargs, logpargs, threads, return_lnZ, return_sampler)\u001b[0m\n\u001b[1;32m    555\u001b[0m \u001b[0;34m\u001b[0m\u001b[0m\n\u001b[1;32m    556\u001b[0m     \u001b[0;31m# Do burn-in\u001b[0m\u001b[0;34m\u001b[0m\u001b[0;34m\u001b[0m\u001b[0m\n\u001b[0;32m--> 557\u001b[0;31m     \u001b[0mpos\u001b[0m\u001b[0;34m,\u001b[0m \u001b[0mprob\u001b[0m\u001b[0;34m,\u001b[0m \u001b[0mstate\u001b[0m \u001b[0;34m=\u001b[0m \u001b[0msampler\u001b[0m\u001b[0;34m.\u001b[0m\u001b[0mrun_mcmc\u001b[0m\u001b[0;34m(\u001b[0m\u001b[0mp0\u001b[0m\u001b[0;34m,\u001b[0m \u001b[0mn_burn\u001b[0m\u001b[0;34m,\u001b[0m \u001b[0mstorechain\u001b[0m\u001b[0;34m=\u001b[0m\u001b[0;32mFalse\u001b[0m\u001b[0;34m)\u001b[0m\u001b[0;34m\u001b[0m\u001b[0m\n\u001b[0m\u001b[1;32m    558\u001b[0m \u001b[0;34m\u001b[0m\u001b[0m\n\u001b[1;32m    559\u001b[0m     \u001b[0;31m# Sample again, starting from end burn-in state\u001b[0m\u001b[0;34m\u001b[0m\u001b[0;34m\u001b[0m\u001b[0m\n",
      "\u001b[0;32m//anaconda/lib/python3.5/site-packages/emcee/sampler.py\u001b[0m in \u001b[0;36mrun_mcmc\u001b[0;34m(self, pos0, N, rstate0, lnprob0, **kwargs)\u001b[0m\n\u001b[1;32m    155\u001b[0m         \"\"\"\n\u001b[1;32m    156\u001b[0m         for results in self.sample(pos0, lnprob0, rstate0, iterations=N,\n\u001b[0;32m--> 157\u001b[0;31m                                    **kwargs):\n\u001b[0m\u001b[1;32m    158\u001b[0m             \u001b[0;32mpass\u001b[0m\u001b[0;34m\u001b[0m\u001b[0m\n\u001b[1;32m    159\u001b[0m         \u001b[0;32mreturn\u001b[0m \u001b[0mresults\u001b[0m\u001b[0;34m\u001b[0m\u001b[0m\n",
      "\u001b[0;32m//anaconda/lib/python3.5/site-packages/emcee/ptsampler.py\u001b[0m in \u001b[0;36msample\u001b[0;34m(self, p0, lnprob0, lnlike0, iterations, thin, storechain)\u001b[0m\n\u001b[1;32m    255\u001b[0m                              self.logpargs, self.loglkwargs, self.logpkwargs)\n\u001b[1;32m    256\u001b[0m             \u001b[0;32mif\u001b[0m \u001b[0mself\u001b[0m\u001b[0;34m.\u001b[0m\u001b[0mpool\u001b[0m \u001b[0;32mis\u001b[0m \u001b[0;32mNone\u001b[0m\u001b[0;34m:\u001b[0m\u001b[0;34m\u001b[0m\u001b[0m\n\u001b[0;32m--> 257\u001b[0;31m                 \u001b[0mresults\u001b[0m \u001b[0;34m=\u001b[0m \u001b[0mlist\u001b[0m\u001b[0;34m(\u001b[0m\u001b[0mmap\u001b[0m\u001b[0;34m(\u001b[0m\u001b[0mfn\u001b[0m\u001b[0;34m,\u001b[0m \u001b[0mp\u001b[0m\u001b[0;34m.\u001b[0m\u001b[0mreshape\u001b[0m\u001b[0;34m(\u001b[0m\u001b[0;34m(\u001b[0m\u001b[0;34m-\u001b[0m\u001b[0;36m1\u001b[0m\u001b[0;34m,\u001b[0m \u001b[0mself\u001b[0m\u001b[0;34m.\u001b[0m\u001b[0mdim\u001b[0m\u001b[0;34m)\u001b[0m\u001b[0;34m)\u001b[0m\u001b[0;34m)\u001b[0m\u001b[0;34m)\u001b[0m\u001b[0;34m\u001b[0m\u001b[0m\n\u001b[0m\u001b[1;32m    258\u001b[0m             \u001b[0;32melse\u001b[0m\u001b[0;34m:\u001b[0m\u001b[0;34m\u001b[0m\u001b[0m\n\u001b[1;32m    259\u001b[0m                 \u001b[0mresults\u001b[0m \u001b[0;34m=\u001b[0m \u001b[0mlist\u001b[0m\u001b[0;34m(\u001b[0m\u001b[0mself\u001b[0m\u001b[0;34m.\u001b[0m\u001b[0mpool\u001b[0m\u001b[0;34m.\u001b[0m\u001b[0mmap\u001b[0m\u001b[0;34m(\u001b[0m\u001b[0mfn\u001b[0m\u001b[0;34m,\u001b[0m \u001b[0mp\u001b[0m\u001b[0;34m.\u001b[0m\u001b[0mreshape\u001b[0m\u001b[0;34m(\u001b[0m\u001b[0;34m(\u001b[0m\u001b[0;34m-\u001b[0m\u001b[0;36m1\u001b[0m\u001b[0;34m,\u001b[0m \u001b[0mself\u001b[0m\u001b[0;34m.\u001b[0m\u001b[0mdim\u001b[0m\u001b[0;34m)\u001b[0m\u001b[0;34m)\u001b[0m\u001b[0;34m)\u001b[0m\u001b[0;34m)\u001b[0m\u001b[0;34m\u001b[0m\u001b[0m\n",
      "\u001b[0;32m//anaconda/lib/python3.5/site-packages/emcee/ptsampler.py\u001b[0m in \u001b[0;36m__call__\u001b[0;34m(self, x)\u001b[0m\n\u001b[1;32m     94\u001b[0m             \u001b[0;32mreturn\u001b[0m \u001b[0mlp\u001b[0m\u001b[0;34m,\u001b[0m \u001b[0mlp\u001b[0m\u001b[0;34m\u001b[0m\u001b[0m\n\u001b[1;32m     95\u001b[0m \u001b[0;34m\u001b[0m\u001b[0m\n\u001b[0;32m---> 96\u001b[0;31m         \u001b[0;32mreturn\u001b[0m \u001b[0mself\u001b[0m\u001b[0;34m.\u001b[0m\u001b[0mlogl\u001b[0m\u001b[0;34m(\u001b[0m\u001b[0mx\u001b[0m\u001b[0;34m,\u001b[0m \u001b[0;34m*\u001b[0m\u001b[0mself\u001b[0m\u001b[0;34m.\u001b[0m\u001b[0mloglargs\u001b[0m\u001b[0;34m,\u001b[0m \u001b[0;34m**\u001b[0m\u001b[0mself\u001b[0m\u001b[0;34m.\u001b[0m\u001b[0mloglkwargs\u001b[0m\u001b[0;34m)\u001b[0m\u001b[0;34m,\u001b[0m \u001b[0mlp\u001b[0m\u001b[0;34m\u001b[0m\u001b[0m\n\u001b[0m\u001b[1;32m     97\u001b[0m \u001b[0;34m\u001b[0m\u001b[0m\n\u001b[1;32m     98\u001b[0m \u001b[0;34m\u001b[0m\u001b[0m\n",
      "\u001b[0;32m<ipython-input-64-cfd0136c19b0>\u001b[0m in \u001b[0;36mlog_likelihood\u001b[0;34m(tau, t, m)\u001b[0m\n\u001b[1;32m     14\u001b[0m     \u001b[0;32mfor\u001b[0m \u001b[0mj\u001b[0m \u001b[0;32min\u001b[0m \u001b[0mrange\u001b[0m\u001b[0;34m(\u001b[0m\u001b[0mm\u001b[0m\u001b[0;34m)\u001b[0m\u001b[0;34m:\u001b[0m\u001b[0;34m\u001b[0m\u001b[0m\n\u001b[1;32m     15\u001b[0m         \u001b[0mnum_handler\u001b[0m\u001b[0;34m[\u001b[0m\u001b[0mj\u001b[0m\u001b[0;34m]\u001b[0m \u001b[0;34m=\u001b[0m \u001b[0mtau\u001b[0m\u001b[0;34m[\u001b[0m\u001b[0mj\u001b[0m\u001b[0;34m]\u001b[0m\u001b[0;34m**\u001b[0m\u001b[0;34m(\u001b[0m\u001b[0mm\u001b[0m\u001b[0;34m-\u001b[0m\u001b[0;36m2\u001b[0m\u001b[0;34m)\u001b[0m\u001b[0;34m\u001b[0m\u001b[0m\n\u001b[0;32m---> 16\u001b[0;31m         \u001b[0mexp_handler\u001b[0m\u001b[0;34m[\u001b[0m\u001b[0mj\u001b[0m\u001b[0;34m]\u001b[0m \u001b[0;34m=\u001b[0m \u001b[0;34m-\u001b[0m\u001b[0mt\u001b[0m\u001b[0;34m/\u001b[0m\u001b[0mtau\u001b[0m\u001b[0;34m[\u001b[0m\u001b[0mj\u001b[0m\u001b[0;34m]\u001b[0m\u001b[0;34m\u001b[0m\u001b[0m\n\u001b[0m\u001b[1;32m     17\u001b[0m         \u001b[0;32mfor\u001b[0m \u001b[0mk\u001b[0m \u001b[0;32min\u001b[0m \u001b[0mrange\u001b[0m\u001b[0;34m(\u001b[0m\u001b[0mm\u001b[0m\u001b[0;34m)\u001b[0m\u001b[0;34m:\u001b[0m\u001b[0;34m\u001b[0m\u001b[0m\n\u001b[1;32m     18\u001b[0m             \u001b[0;32mif\u001b[0m \u001b[0mk\u001b[0m \u001b[0;34m!=\u001b[0m \u001b[0mj\u001b[0m\u001b[0;34m:\u001b[0m\u001b[0;34m\u001b[0m\u001b[0m\n",
      "\u001b[0;31mValueError\u001b[0m: setting an array element with a sequence."
     ]
    }
   ],
   "source": [
    "import time\n",
    "start = time.time()\n",
    "\n",
    "df_out, lnZ_out, dlnZ_out = bebi103.run_pt_emcee(log_likelihood, log_prior, n_burn, n_steps, \n",
    "                    n_temps=n_temps, p0=p0, loglargs=loglargs, \n",
    "                    logpargs=logpargs, threads=None, columns=columns,\n",
    "                    return_lnZ=True)\n",
    "\n",
    "print('It took ', time.time()-start, ' seconds.')"
   ]
  },
  {
   "cell_type": "code",
   "execution_count": 16,
   "metadata": {
    "collapsed": false
   },
   "outputs": [
    {
     "data": {
      "text/plain": [
       "-0.6623002766360413"
      ]
     },
     "execution_count": 16,
     "metadata": {},
     "output_type": "execute_result"
    }
   ],
   "source": [
    "lnZ_out"
   ]
  },
  {
   "cell_type": "code",
   "execution_count": null,
   "metadata": {
    "collapsed": false
   },
   "outputs": [],
   "source": [
    "df_out.to_csv('./ptmcmc_results_test1.csv')"
   ]
  },
  {
   "cell_type": "code",
   "execution_count": 13,
   "metadata": {
    "collapsed": true
   },
   "outputs": [],
   "source": [
    "a, b, c=5, 3, 2"
   ]
  },
  {
   "cell_type": "code",
   "execution_count": 14,
   "metadata": {
    "collapsed": false
   },
   "outputs": [
    {
     "data": {
      "text/plain": [
       "4.910569464803074"
      ]
     },
     "execution_count": 14,
     "metadata": {},
     "output_type": "execute_result"
    }
   ],
   "source": [
    "np.log(np.exp(a) - np.exp(b) + np.exp(c))"
   ]
  },
  {
   "cell_type": "code",
   "execution_count": 15,
   "metadata": {
    "collapsed": false
   },
   "outputs": [
    {
     "data": {
      "text/plain": [
       "4.910569464803074"
      ]
     },
     "execution_count": 15,
     "metadata": {},
     "output_type": "execute_result"
    }
   ],
   "source": [
    "a + np.log(1 - np.exp(b-a) + np.exp(c-a))"
   ]
  },
  {
   "cell_type": "code",
   "execution_count": 24,
   "metadata": {
    "collapsed": true
   },
   "outputs": [],
   "source": [
    "t = df[\"12 uM\"][0]"
   ]
  },
  {
   "cell_type": "code",
   "execution_count": 33,
   "metadata": {
    "collapsed": false
   },
   "outputs": [
    {
     "ename": "NameError",
     "evalue": "name 'df_out' is not defined",
     "output_type": "error",
     "traceback": [
      "\u001b[0;31m---------------------------------------------------------------------------\u001b[0m",
      "\u001b[0;31mNameError\u001b[0m                                 Traceback (most recent call last)",
      "\u001b[0;32m<ipython-input-33-d9a6ee12fe4a>\u001b[0m in \u001b[0;36m<module>\u001b[0;34m()\u001b[0m\n\u001b[0;32m----> 1\u001b[0;31m \u001b[0mdf_out\u001b[0m\u001b[0;34m\u001b[0m\u001b[0m\n\u001b[0m",
      "\u001b[0;31mNameError\u001b[0m: name 'df_out' is not defined"
     ]
    }
   ],
   "source": [
    "df_out"
   ]
  },
  {
   "cell_type": "code",
   "execution_count": 27,
   "metadata": {
    "collapsed": false
   },
   "outputs": [],
   "source": [
    "tau = np.array([0.06463911, 0.04257534, 0.11927362])\n",
    "z=log_likelihood(tau,t,3)"
   ]
  },
  {
   "cell_type": "code",
   "execution_count": 28,
   "metadata": {
    "collapsed": false
   },
   "outputs": [
    {
     "data": {
      "text/plain": [
       "-205.56031209255227"
      ]
     },
     "execution_count": 28,
     "metadata": {},
     "output_type": "execute_result"
    }
   ],
   "source": [
    "z"
   ]
  },
  {
   "cell_type": "code",
   "execution_count": null,
   "metadata": {
    "collapsed": true
   },
   "outputs": [],
   "source": []
  }
 ],
 "metadata": {
  "kernelspec": {
   "display_name": "Python 3",
   "language": "python",
   "name": "python3"
  },
  "language_info": {
   "codemirror_mode": {
    "name": "ipython",
    "version": 3
   },
   "file_extension": ".py",
   "mimetype": "text/x-python",
   "name": "python",
   "nbconvert_exporter": "python",
   "pygments_lexer": "ipython3",
   "version": "3.5.0"
  }
 },
 "nbformat": 4,
 "nbformat_minor": 0
}
