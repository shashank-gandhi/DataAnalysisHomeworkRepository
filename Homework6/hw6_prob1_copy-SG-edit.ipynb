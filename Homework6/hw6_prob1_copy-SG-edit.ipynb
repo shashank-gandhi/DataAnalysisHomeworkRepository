{
 "cells": [
  {
   "cell_type": "code",
   "execution_count": 1,
   "metadata": {
    "collapsed": false
   },
   "outputs": [],
   "source": [
    "import itertools\n",
    "import warnings\n",
    "\n",
    "# Our numerical workhorses\n",
    "import numpy as np\n",
    "import pandas as pd\n",
    "import scipy.stats as st\n",
    "import scipy.special\n",
    "\n",
    "# The MCMC Hammer\n",
    "import emcee\n",
    "\n",
    "# BE/Bi 103 utilities\n",
    "import bebi103\n",
    "\n",
    "# Import plotting tools\n",
    "import matplotlib.pyplot as plt\n",
    "import seaborn as sns\n",
    "import corner\n",
    "\n",
    "# Magic function to make matplotlib inline; other style specs must come AFTER\n",
    "%matplotlib inline\n",
    "\n",
    "# This enables high res graphics inline (only use with static plots (non-Bokeh))\n",
    "# SVG is preferred, but there is a bug in Jupyter with vertical lines\n",
    "%config InlineBackend.figure_formats = {'png', 'retina'}\n",
    "\n",
    "# JB's favorite Seaborn settings for notebooks\n",
    "rc = {'lines.linewidth': 2, \n",
    "      'axes.labelsize': 18, \n",
    "      'axes.titlesize': 18, \n",
    "      'axes.facecolor': 'DFDFE5'}\n",
    "sns.set_context('notebook', rc=rc)\n",
    "sns.set_style('darkgrid', rc=rc)\n",
    "\n",
    "# Suppress future warnings\n",
    "warnings.simplefilter(action='ignore', category=FutureWarning)"
   ]
  },
  {
   "cell_type": "code",
   "execution_count": 2,
   "metadata": {
    "collapsed": true
   },
   "outputs": [],
   "source": [
    "df = pd.read_csv(\"./data/gardner_hw6/gardner_mt_catastrophe_only_tubulin.csv\", comment = \"#\")"
   ]
  },
  {
   "cell_type": "code",
   "execution_count": 3,
   "metadata": {
    "collapsed": false
   },
   "outputs": [
    {
     "data": {
      "text/html": [
       "<div>\n",
       "<table border=\"1\" class=\"dataframe\">\n",
       "  <thead>\n",
       "    <tr style=\"text-align: right;\">\n",
       "      <th></th>\n",
       "      <th>12 uM</th>\n",
       "      <th>7 uM</th>\n",
       "      <th>9 uM</th>\n",
       "      <th>10 uM</th>\n",
       "      <th>14 uM</th>\n",
       "    </tr>\n",
       "  </thead>\n",
       "  <tbody>\n",
       "    <tr>\n",
       "      <th>0</th>\n",
       "      <td>25.000</td>\n",
       "      <td>35</td>\n",
       "      <td>25</td>\n",
       "      <td>50</td>\n",
       "      <td>60</td>\n",
       "    </tr>\n",
       "    <tr>\n",
       "      <th>1</th>\n",
       "      <td>40.000</td>\n",
       "      <td>45</td>\n",
       "      <td>40</td>\n",
       "      <td>60</td>\n",
       "      <td>75</td>\n",
       "    </tr>\n",
       "    <tr>\n",
       "      <th>2</th>\n",
       "      <td>40.000</td>\n",
       "      <td>50</td>\n",
       "      <td>40</td>\n",
       "      <td>60</td>\n",
       "      <td>75</td>\n",
       "    </tr>\n",
       "    <tr>\n",
       "      <th>3</th>\n",
       "      <td>45.429</td>\n",
       "      <td>50</td>\n",
       "      <td>45</td>\n",
       "      <td>75</td>\n",
       "      <td>85</td>\n",
       "    </tr>\n",
       "    <tr>\n",
       "      <th>4</th>\n",
       "      <td>50.000</td>\n",
       "      <td>55</td>\n",
       "      <td>50</td>\n",
       "      <td>75</td>\n",
       "      <td>115</td>\n",
       "    </tr>\n",
       "  </tbody>\n",
       "</table>\n",
       "</div>"
      ],
      "text/plain": [
       "    12 uM  7 uM  9 uM  10 uM  14 uM\n",
       "0  25.000    35    25     50     60\n",
       "1  40.000    45    40     60     75\n",
       "2  40.000    50    40     60     75\n",
       "3  45.429    50    45     75     85\n",
       "4  50.000    55    50     75    115"
      ]
     },
     "execution_count": 3,
     "metadata": {},
     "output_type": "execute_result"
    }
   ],
   "source": [
    "df.head()"
   ]
  },
  {
   "cell_type": "code",
   "execution_count": 16,
   "metadata": {
    "collapsed": false
   },
   "outputs": [],
   "source": [
    "def log_likelihood(tau, t, m):\n",
    "    \"\"\"\n",
    "    Takes in tau (should be an array), \n",
    "    data, various values for m. We are very proud of this function.\n",
    "    \"\"\"\n",
    "    tau = np.sort(tau)\n",
    "    logpost = np.empty(len(t))\n",
    "    t = t.values\n",
    "    i = np.arange(len(t))\n",
    "    \n",
    "    num_handler = np.empty((len(t), m)) #numerator\n",
    "    exp_handler = np.empty((len(t), m))\n",
    "    den_handler = np.empty((len(t), m)) #denominator\n",
    "    den_elements = [] #elements necessary to take products in den\n",
    "    func_handler = np.empty((len(t), m)) #output log posterior\n",
    "    den_iter = np.arange(0, m-1)\n",
    "    for j in range(m):\n",
    "        num_handler[:,j] = tau[j]**(m-2)\n",
    "        exp_handler[:,j] = -t/tau[j]\n",
    "        for k in range(m):\n",
    "            if k != j:\n",
    "                den_elements.append(tau[j] - tau[k])\n",
    "\n",
    "        den_handler[:,j] = np.prod(den_elements)\n",
    "        den_elements = []\n",
    "    \n",
    "    \n",
    "    scaling_factor = num_handler / den_handler\n",
    "    \n",
    "    func_handler = scaling_factor * np.exp(exp_handler)   \n",
    "    print(func_handler)\n",
    "\n",
    "    if np.sum(func_handler)>0:\n",
    "        logpost[i] = scipy.misc.logsumexp(exp_handler, b=scaling_factor)            \n",
    "    else:\n",
    "        return -np.inf\n",
    "    #print (logpost)\n",
    "    return np.sum(logpost)\n",
    "\n",
    "def log_prior(tau, m):\n",
    "    \"\"\"\n",
    "    Log prior for model defined above. Takes in m and tau, \n",
    "    returns log prior.\n",
    "    \"\"\"\n",
    "    tau = np.sort(tau)\n",
    "    \n",
    "    for i in range(m-1):\n",
    "\n",
    "        if not tau[i]<tau[i+1]:\n",
    "\n",
    "            return -np.inf\n",
    "    \n",
    "    if not np.all(tau> 0):\n",
    "        return -np.inf\n",
    "    \n",
    "    return -np.log(np.prod(tau))\n",
    "        \n",
    "#test_run = log_likelihood(tau, t, 3)\n",
    "\n",
    "def tau_start(m, n_walkers, n_temps):\n",
    "    p = np.empty((n_temps, n_walkers, m))\n",
    "    \n",
    "    for i in range(m):\n",
    "        p[:,:,i]=np.random.exponential(300, (n_temps,n_walkers))\n",
    "    return p\n"
   ]
  },
  {
   "cell_type": "code",
   "execution_count": 17,
   "metadata": {
    "collapsed": false
   },
   "outputs": [
    {
     "name": "stdout",
     "output_type": "stream",
     "text": [
      "[[ -4.31632898e-020   1.09711679e-005  -1.56568786e-002 ...,\n",
      "    4.15779832e+001  -3.86130367e+001   9.67080316e+000]\n",
      " [ -1.32037505e-026   2.58017139e-007  -1.28519486e-003 ...,\n",
      "    1.52956852e+001  -1.59783873e+001   4.56816395e+000]\n",
      " [ -1.32037505e-026   2.58017139e-007  -1.28519486e-003 ...,\n",
      "    1.52956852e+001  -1.59783873e+001   4.56816395e+000]\n",
      " ..., \n",
      " [ -0.00000000e+000   2.24540434e-166  -1.17147489e-109 ...,\n",
      "    5.86778967e-042  -5.99193782e-037   7.04159241e-032]\n",
      " [ -0.00000000e+000   5.28068486e-168  -9.61605144e-111 ...,\n",
      "    2.15863919e-042  -2.47951240e-037   3.32621273e-032]\n",
      " [ -0.00000000e+000   8.92649210e-197  -6.33369521e-130 ...,\n",
      "    4.58821975e-050  -4.21193552e-044   5.85528632e-038]]\n"
     ]
    }
   ],
   "source": [
    "tau = [15, 10, 17, 1, 4, 6, 20, 8, 9, 11]\n",
    "t = df['12 uM']\n",
    "m = 10\n",
    "\n",
    "#test1 = log_likelihood1(tau, t, m)\n",
    "test2 = log_likelihood(tau, t, m)"
   ]
  },
  {
   "cell_type": "code",
   "execution_count": 7,
   "metadata": {
    "collapsed": false
   },
   "outputs": [
    {
     "data": {
      "text/plain": [
       "-159.80282026688656"
      ]
     },
     "execution_count": 7,
     "metadata": {},
     "output_type": "execute_result"
    }
   ],
   "source": [
    "test2"
   ]
  },
  {
   "cell_type": "code",
   "execution_count": null,
   "metadata": {
    "collapsed": false
   },
   "outputs": [],
   "source": [
    "n_burn = 100\n",
    "n_steps = 500\n",
    "n_temps = 10\n",
    "n_walkers = 10\n",
    "m = 3\n",
    "p0=tau_start(m, n_walkers, n_temps)\n",
    "loglargs = (df[\"12 uM\"], m)\n",
    "logpargs = (m,)\n",
    "columns = [\"tau_1\", \"tau_2\", \"tau_3\"]"
   ]
  },
  {
   "cell_type": "code",
   "execution_count": null,
   "metadata": {
    "collapsed": false
   },
   "outputs": [],
   "source": [
    "import time\n",
    "start = time.time()\n",
    "\n",
    "df_out, lnZ_out, dlnZ_out = bebi103.run_pt_emcee(log_likelihood, log_prior, n_burn, n_steps, \n",
    "                    n_temps=n_temps, p0=p0, loglargs=loglargs, \n",
    "                    logpargs=logpargs, threads=None, columns=columns,\n",
    "                    return_lnZ=True)\n",
    "\n",
    "print('It took ', time.time()-start, ' seconds.')"
   ]
  },
  {
   "cell_type": "code",
   "execution_count": null,
   "metadata": {
    "collapsed": false
   },
   "outputs": [],
   "source": [
    "lnZ_out"
   ]
  },
  {
   "cell_type": "code",
   "execution_count": null,
   "metadata": {
    "collapsed": false
   },
   "outputs": [],
   "source": [
    "df_out.to_csv('./ptmcmc_results_test1.csv')"
   ]
  },
  {
   "cell_type": "code",
   "execution_count": null,
   "metadata": {
    "collapsed": true
   },
   "outputs": [],
   "source": [
    "a, b, c=5, 3, 2"
   ]
  },
  {
   "cell_type": "code",
   "execution_count": null,
   "metadata": {
    "collapsed": false
   },
   "outputs": [],
   "source": [
    "np.log(np.exp(a) - np.exp(b) + np.exp(c))"
   ]
  },
  {
   "cell_type": "code",
   "execution_count": null,
   "metadata": {
    "collapsed": false
   },
   "outputs": [],
   "source": [
    "a + np.log(1 - np.exp(b-a) + np.exp(c-a))"
   ]
  },
  {
   "cell_type": "code",
   "execution_count": null,
   "metadata": {
    "collapsed": true
   },
   "outputs": [],
   "source": [
    "t = df[\"12 uM\"][0]"
   ]
  },
  {
   "cell_type": "code",
   "execution_count": null,
   "metadata": {
    "collapsed": false
   },
   "outputs": [],
   "source": [
    "df_out"
   ]
  },
  {
   "cell_type": "code",
   "execution_count": null,
   "metadata": {
    "collapsed": false
   },
   "outputs": [],
   "source": [
    "tau = np.array([0.06463911, 0.04257534, 0.11927362])\n",
    "z=log_likelihood(tau,t,3)"
   ]
  },
  {
   "cell_type": "code",
   "execution_count": null,
   "metadata": {
    "collapsed": false
   },
   "outputs": [],
   "source": [
    "z"
   ]
  },
  {
   "cell_type": "code",
   "execution_count": null,
   "metadata": {
    "collapsed": true
   },
   "outputs": [],
   "source": [
    "import numba"
   ]
  },
  {
   "cell_type": "code",
   "execution_count": null,
   "metadata": {
    "collapsed": false
   },
   "outputs": [],
   "source": []
  },
  {
   "cell_type": "code",
   "execution_count": null,
   "metadata": {
    "collapsed": true
   },
   "outputs": [],
   "source": []
  },
  {
   "cell_type": "code",
   "execution_count": null,
   "metadata": {
    "collapsed": true
   },
   "outputs": [],
   "source": []
  }
 ],
 "metadata": {
  "kernelspec": {
   "display_name": "Python 3",
   "language": "python",
   "name": "python3"
  },
  "language_info": {
   "codemirror_mode": {
    "name": "ipython",
    "version": 3
   },
   "file_extension": ".py",
   "mimetype": "text/x-python",
   "name": "python",
   "nbconvert_exporter": "python",
   "pygments_lexer": "ipython3",
   "version": "3.4.3"
  }
 },
 "nbformat": 4,
 "nbformat_minor": 0
}
