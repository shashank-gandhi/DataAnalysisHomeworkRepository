{
 "cells": [
  {
   "cell_type": "markdown",
   "metadata": {},
   "source": [
    "# Part b"
   ]
  },
  {
   "cell_type": "markdown",
   "metadata": {},
   "source": [
    "We should specify $\\tau_1 < \\tau_2 < \\cdots < \\tau_m$ because if, for example, $m = 2$ and $\\tau_1 > \\tau_2$, the value of the probability distribution function for catastrophe times would be negative (for all times). Specifying $\\tau_1 < \\tau_2$ would ensure that the probability distribution function would take on positive values, which is necessary because probability cannot be negative. From there, we generalize that all $tau_j$ should be in increasing order."
   ]
  },
  {
   "cell_type": "code",
   "execution_count": null,
   "metadata": {
    "collapsed": true
   },
   "outputs": [],
   "source": []
  }
 ],
 "metadata": {
  "kernelspec": {
   "display_name": "Python 3",
   "language": "python",
   "name": "python3"
  },
  "language_info": {
   "codemirror_mode": {
    "name": "ipython",
    "version": 3
   },
   "file_extension": ".py",
   "mimetype": "text/x-python",
   "name": "python",
   "nbconvert_exporter": "python",
   "pygments_lexer": "ipython3",
   "version": "3.4.3"
  }
 },
 "nbformat": 4,
 "nbformat_minor": 0
}
