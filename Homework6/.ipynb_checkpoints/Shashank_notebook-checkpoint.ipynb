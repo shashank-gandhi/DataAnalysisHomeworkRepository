{
 "cells": [
  {
   "cell_type": "code",
   "execution_count": 3,
   "metadata": {
    "collapsed": false
   },
   "outputs": [],
   "source": [
    "import itertools\n",
    "import warnings\n",
    "\n",
    "# Our numerical workhorses\n",
    "import numpy as np\n",
    "import pandas as pd\n",
    "import scipy.stats as st\n",
    "import scipy.special\n",
    "\n",
    "# The MCMC Hammer\n",
    "import emcee\n",
    "\n",
    "#import numba\n",
    "\n",
    "# BE/Bi 103 utilities\n",
    "import bebi103\n",
    "\n",
    "# Import plotting tools\n",
    "import matplotlib.pyplot as plt\n",
    "import seaborn as sns\n",
    "import corner\n",
    "\n",
    "# Magic function to make matplotlib inline; other style specs must come AFTER\n",
    "%matplotlib inline\n",
    "\n",
    "# This enables high res graphics inline (only use with static plots (non-Bokeh))\n",
    "# SVG is preferred, but there is a bug in Jupyter with vertical lines\n",
    "%config InlineBackend.figure_formats = {'png', 'retina'}\n",
    "\n",
    "# JB's favorite Seaborn settings for notebooks\n",
    "rc = {'lines.linewidth': 2, \n",
    "      'axes.labelsize': 18, \n",
    "      'axes.titlesize': 18, \n",
    "      'axes.facecolor': 'DFDFE5'}\n",
    "sns.set_context('notebook', rc=rc)\n",
    "sns.set_style('darkgrid', rc=rc)\n",
    "\n",
    "# Suppress future warnings\n",
    "warnings.simplefilter(action='ignore', category=FutureWarning)"
   ]
  },
  {
   "cell_type": "code",
   "execution_count": 4,
   "metadata": {
    "collapsed": true
   },
   "outputs": [],
   "source": [
    "df = pd.read_csv(\"./data/gardner_hw6/gardner_mt_catastrophe_only_tubulin.csv\", comment = \"#\")"
   ]
  },
  {
   "cell_type": "code",
   "execution_count": 5,
   "metadata": {
    "collapsed": false
   },
   "outputs": [
    {
     "data": {
      "text/html": [
       "<div>\n",
       "<table border=\"1\" class=\"dataframe\">\n",
       "  <thead>\n",
       "    <tr style=\"text-align: right;\">\n",
       "      <th></th>\n",
       "      <th>12 uM</th>\n",
       "      <th>7 uM</th>\n",
       "      <th>9 uM</th>\n",
       "      <th>10 uM</th>\n",
       "      <th>14 uM</th>\n",
       "    </tr>\n",
       "  </thead>\n",
       "  <tbody>\n",
       "    <tr>\n",
       "      <th>0</th>\n",
       "      <td>25.000</td>\n",
       "      <td>35</td>\n",
       "      <td>25</td>\n",
       "      <td>50</td>\n",
       "      <td>60</td>\n",
       "    </tr>\n",
       "    <tr>\n",
       "      <th>1</th>\n",
       "      <td>40.000</td>\n",
       "      <td>45</td>\n",
       "      <td>40</td>\n",
       "      <td>60</td>\n",
       "      <td>75</td>\n",
       "    </tr>\n",
       "    <tr>\n",
       "      <th>2</th>\n",
       "      <td>40.000</td>\n",
       "      <td>50</td>\n",
       "      <td>40</td>\n",
       "      <td>60</td>\n",
       "      <td>75</td>\n",
       "    </tr>\n",
       "    <tr>\n",
       "      <th>3</th>\n",
       "      <td>45.429</td>\n",
       "      <td>50</td>\n",
       "      <td>45</td>\n",
       "      <td>75</td>\n",
       "      <td>85</td>\n",
       "    </tr>\n",
       "    <tr>\n",
       "      <th>4</th>\n",
       "      <td>50.000</td>\n",
       "      <td>55</td>\n",
       "      <td>50</td>\n",
       "      <td>75</td>\n",
       "      <td>115</td>\n",
       "    </tr>\n",
       "  </tbody>\n",
       "</table>\n",
       "</div>"
      ],
      "text/plain": [
       "    12 uM  7 uM  9 uM  10 uM  14 uM\n",
       "0  25.000    35    25     50     60\n",
       "1  40.000    45    40     60     75\n",
       "2  40.000    50    40     60     75\n",
       "3  45.429    50    45     75     85\n",
       "4  50.000    55    50     75    115"
      ]
     },
     "execution_count": 5,
     "metadata": {},
     "output_type": "execute_result"
    }
   ],
   "source": [
    "df.head()"
   ]
  },
  {
   "cell_type": "code",
   "execution_count": 4,
   "metadata": {
    "collapsed": false
   },
   "outputs": [],
   "source": [
    "tau = np.array([15,10,17])\n",
    "t=100\n",
    "\n",
    "#m=0\n",
    "for i in range(2):\n",
    "    if not tau[i]<tau[i+1]:\n",
    "        sum_z = -np.inf\n",
    "        break\n",
    "        \n",
    "    else:\n",
    "        x=[] #d\n",
    "        y=[] #num\n",
    "        z=[] #function output\n",
    "        x_array_product=[] #den\n",
    "\n",
    "        for j in range(3):\n",
    "            y.append( (tau[j]*np.exp(-t/tau[j]) ))\n",
    "\n",
    "            for k in range(3):\n",
    "                if k != j:\n",
    "                    x.append(tau[j] - tau[k])\n",
    "            x_array=np.array(x)\n",
    "            x_array_product.append(np.prod(x_array))\n",
    "\n",
    "            z.append(y[j]/x_array_product[j])\n",
    "            x=[]\n",
    "            #m+=1\n",
    "        z_array=np.array(z)\n",
    "        if np.sum(z)>0:\n",
    "            sum_z = np.log(np.sum(z))\n",
    "        else:\n",
    "            RaiseError(\"WTF man!?\")\n",
    "    break\n",
    "            "
   ]
  },
  {
   "cell_type": "code",
   "execution_count": 7,
   "metadata": {
    "collapsed": false
   },
   "outputs": [],
   "source": [
    "def log_likelihood(tau, t, m):\n",
    "    \"\"\"\n",
    "    Takes in tau (should be an array), \n",
    "    data, various values for m. We are very proud of this function.\n",
    "    \"\"\"\n",
    "    tau = np.sort(tau)\n",
    "    \n",
    "    num_handler = [] #numerator\n",
    "    den_handler = [] #denominator\n",
    "    den_elements = [] #elements necessary to take products in den\n",
    "    func_handler = [] #output log posterior\n",
    "    \n",
    "    for i in range(m-1):\n",
    "\n",
    "        if not tau[i]<tau[i+1]:\n",
    "\n",
    "            return -np.inf\n",
    "            \n",
    "        for j in range(m):\n",
    "            num_handler.append(tau[j]**(m-2) * np.exp(-t/tau[j]))\n",
    "\n",
    "            for k in range(m):\n",
    "                if k != j:\n",
    "                    den_elements.append(tau[j] - tau[k])\n",
    "\n",
    "            den_handler.append(np.prod(den_elements))\n",
    "\n",
    "            func_handler.append(num_handler[j]/den_handler[j])\n",
    "\n",
    "            den_elements = []\n",
    "\n",
    "    if np.sum(func_handler)>0:\n",
    "        return np.log(np.sum(func_handler))\n",
    "\n",
    "    else:\n",
    "        #raise RuntimeError(\"WTF Man.\")\n",
    "        return -np.inf\n",
    "\n",
    "def log_prior(tau, m):\n",
    "    \"\"\"\n",
    "    Log prior for model defined above. Takes in m and tau, \n",
    "    returns log prior.\n",
    "    \"\"\"\n",
    "    tau = np.sort(tau)\n",
    "    \n",
    "    for i in range(m-1):\n",
    "\n",
    "        if not tau[i]<tau[i+1]:\n",
    "\n",
    "            return -np.inf\n",
    "    \n",
    "    if not np.all(tau> 0):\n",
    "        return -np.inf\n",
    "    \n",
    "    return -np.log(np.prod(tau))\n",
    "        \n",
    "#test_run = log_likelihood(tau, t, 3)\n",
    "\n",
    "def tau_start(m, n_walkers, n_temps):\n",
    "    p = np.empty((n_temps, n_walkers, m))\n",
    "    \n",
    "    for i in range(m):\n",
    "        p[:,:,i]=np.random.exponential(1, (n_temps,n_walkers))\n",
    "    return p\n"
   ]
  },
  {
   "cell_type": "code",
   "execution_count": 8,
   "metadata": {
    "collapsed": false
   },
   "outputs": [
    {
     "data": {
      "text/plain": [
       "0    25.000\n",
       "1    40.000\n",
       "2    40.000\n",
       "3    45.429\n",
       "4    50.000\n",
       "Name: 12 uM, dtype: float64"
      ]
     },
     "execution_count": 8,
     "metadata": {},
     "output_type": "execute_result"
    }
   ],
   "source": [
    "df[\"12 uM\"].head()"
   ]
  },
  {
   "cell_type": "code",
   "execution_count": 32,
   "metadata": {
    "collapsed": false
   },
   "outputs": [],
   "source": [
    "n_burn = 500\n",
    "n_steps = 5000\n",
    "n_temps = 20\n",
    "n_walkers = 50\n",
    "m = 3\n",
    "p0=tau_start(m, n_walkers, n_temps)\n",
    "loglargs = (df[\"12 uM\"], m)\n",
    "logpargs = (m,)\n",
    "columns = [\"tau_1\", \"tau_2\", \"tau_3\"]"
   ]
  },
  {
   "cell_type": "code",
   "execution_count": 14,
   "metadata": {
    "collapsed": false
   },
   "outputs": [
    {
     "name": "stdout",
     "output_type": "stream",
     "text": [
      "It took  9055.81182718277  seconds.\n"
     ]
    }
   ],
   "source": [
    "import time\n",
    "start = time.time()\n",
    "\n",
    "df_out, lnZ_out, dlnZ_out = bebi103.run_pt_emcee(log_likelihood, log_prior, n_burn, n_steps, \n",
    "                    n_temps=n_temps, p0=p0, loglargs=loglargs, \n",
    "                    logpargs=logpargs, threads=None, columns=columns,\n",
    "                    return_lnZ=True)\n",
    "\n",
    "print('It took ', time.time()-start, ' seconds.')"
   ]
  },
  {
   "cell_type": "code",
   "execution_count": 31,
   "metadata": {
    "collapsed": false
   },
   "outputs": [
    {
     "data": {
      "text/plain": [
       "[<matplotlib.lines.Line2D at 0x10f90e4a8>]"
      ]
     },
     "execution_count": 31,
     "metadata": {},
     "output_type": "execute_result"
    },
    {
     "data": {
      "image/png": "[encoded data removed]",
      "text/plain": [
       "<matplotlib.figure.Figure at 0x109f396a0>"
      ]
     },
     "metadata": {
      "image/png": {
       "height": 348,
       "width": 491
      }
     },
     "output_type": "display_data"
    }
   ],
   "source": [
    "x=np.arange(len(df_out['tau_1']))\n",
    "y=np.array(df_out['tau_1'])\n",
    "plt.plot(x, y)"
   ]
  },
  {
   "cell_type": "code",
   "execution_count": 17,
   "metadata": {
    "collapsed": false
   },
   "outputs": [],
   "source": [
    "df_out.to_csv('./ptmcmc_results_test1.csv')"
   ]
  },
  {
   "cell_type": "code",
   "execution_count": 13,
   "metadata": {
    "collapsed": true
   },
   "outputs": [],
   "source": [
    "a, b, c=5, 3, 2"
   ]
  },
  {
   "cell_type": "code",
   "execution_count": 14,
   "metadata": {
    "collapsed": false
   },
   "outputs": [
    {
     "data": {
      "text/plain": [
       "4.910569464803074"
      ]
     },
     "execution_count": 14,
     "metadata": {},
     "output_type": "execute_result"
    }
   ],
   "source": [
    "np.log(np.exp(a) - np.exp(b) + np.exp(c))"
   ]
  },
  {
   "cell_type": "code",
   "execution_count": 15,
   "metadata": {
    "collapsed": false
   },
   "outputs": [
    {
     "data": {
      "text/plain": [
       "4.910569464803074"
      ]
     },
     "execution_count": 15,
     "metadata": {},
     "output_type": "execute_result"
    }
   ],
   "source": [
    "a + np.log(1 - np.exp(b-a) + np.exp(c-a))"
   ]
  },
  {
   "cell_type": "code",
   "execution_count": 24,
   "metadata": {
    "collapsed": true
   },
   "outputs": [],
   "source": [
    "t = df[\"12 uM\"][0]"
   ]
  },
  {
   "cell_type": "code",
   "execution_count": 33,
   "metadata": {
    "collapsed": false
   },
   "outputs": [
    {
     "ename": "NameError",
     "evalue": "name 'df_out' is not defined",
     "output_type": "error",
     "traceback": [
      "\u001b[0;31m---------------------------------------------------------------------------\u001b[0m",
      "\u001b[0;31mNameError\u001b[0m                                 Traceback (most recent call last)",
      "\u001b[0;32m<ipython-input-33-d9a6ee12fe4a>\u001b[0m in \u001b[0;36m<module>\u001b[0;34m()\u001b[0m\n\u001b[0;32m----> 1\u001b[0;31m \u001b[0mdf_out\u001b[0m\u001b[0;34m\u001b[0m\u001b[0m\n\u001b[0m",
      "\u001b[0;31mNameError\u001b[0m: name 'df_out' is not defined"
     ]
    }
   ],
   "source": [
    "df_out"
   ]
  },
  {
   "cell_type": "code",
   "execution_count": 27,
   "metadata": {
    "collapsed": false
   },
   "outputs": [],
   "source": [
    "tau = np.array([0.06463911, 0.04257534, 0.11927362])\n",
    "z=log_likelihood(tau,t,3)"
   ]
  },
  {
   "cell_type": "code",
   "execution_count": 28,
   "metadata": {
    "collapsed": false
   },
   "outputs": [
    {
     "data": {
      "text/plain": [
       "-205.56031209255227"
      ]
     },
     "execution_count": 28,
     "metadata": {},
     "output_type": "execute_result"
    }
   ],
   "source": [
    "z"
   ]
  },
  {
   "cell_type": "code",
   "execution_count": null,
   "metadata": {
    "collapsed": true
   },
   "outputs": [],
   "source": []
  }
 ],
 "metadata": {
  "kernelspec": {
   "display_name": "Python 3",
   "language": "python",
   "name": "python3"
  },
  "language_info": {
   "codemirror_mode": {
    "name": "ipython",
    "version": 3
   },
   "file_extension": ".py",
   "mimetype": "text/x-python",
   "name": "python",
   "nbconvert_exporter": "python",
   "pygments_lexer": "ipython3",
   "version": "3.5.0"
  }
 },
 "nbformat": 4,
 "nbformat_minor": 0
}
