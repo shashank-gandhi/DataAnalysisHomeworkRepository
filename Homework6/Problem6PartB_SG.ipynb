{
 "cells": [
  {
   "cell_type": "markdown",
   "metadata": {},
   "source": [
    "# Part B\n",
    "\n",
    "We generalized the expression for the probability distribution for catastrophe times for $m$ subprocesses and were left with:\n",
    "\\begin{align}\n",
    "\\\\\n",
    "P(t\\mid \\{\\tau_j\\}, m, I) = \\sum_{j=1}^m \\frac{\\tau_j^{m-2}\\,\\mathrm{e}^{-t/\\tau_j}}{\\prod_{k=1,k\\ne j}^m (\\tau_j - \\tau_k)}\n",
    "\\\\\n",
    "\\end{align}\n",
    "\n",
    "Using this expression, the probability distributions for $m=1$ and $m=2$ were found to be:\n",
    "\n",
    "\\begin{align}\n",
    "P(t\\mid \\tau_1, 1, I) &= \\frac{\\mathrm{e}^{-t/\\tau_1}}{\\tau_1} &&\\text{and},\\\\[1em]\n",
    "P(t\\mid \\tau_1, \\tau_2, 2, I) &=\n",
    "\\frac{\\mathrm{e}^{-t/\\tau_2} - \\mathrm{e}^{-t/\\tau_1}}{\\tau_2 - \\tau_1} \\\\[1em]\n",
    "\\end{align}\n",
    "\n",
    "Let's evaluate the probability distribution for $m=2$ for two arbitrary values of $\\tau_1$ = 2 and $\\tau_2$ = 5, satisfying the condition $\\tau_1$ < $\\tau_2$.\n",
    "\n",
    "\\begin{align}\n",
    "P(t\\mid \\tau_1 = 2, \\tau_2 = 5, 2, I) &=\n",
    "\\frac{\\mathrm{e}^{-t/2}}{2 - 5} + \\frac{\\mathrm{e}^{-t/5}}{5 - 2}\n",
    "= \\frac{\\mathrm{e}^{-t/5} - \\mathrm{e}^{-t/2}}{3} &&\\text{for all t}\\in D\\\\[1em]\n",
    "\\end{align}\n",
    "\n",
    "Now let's switch the values for $\\tau_1$ and $\\tau_2$ such that $\\tau_1$ = 5 and $\\tau_2$ = 2, satisfying the condition $\\tau_1$ > $\\tau_2$.\n",
    "\n",
    "\\begin{align}\n",
    "P(t\\mid \\tau_1 = 5, \\tau_2 = 2, 2, I) &=\n",
    "\\frac{\\mathrm{e}^{-t/5}}{5 - 2} + \\frac{\\mathrm{e}^{-t/2}}{2 - 5}\n",
    "= \\frac{\\mathrm{e}^{-t/5} - \\mathrm{e}^{-t/2}}{3} &&\\text{for all t}\\in D\\\\[1em]\n",
    "\\end{align}\n",
    "\n",
    "As can be seen above, the probability distribution function is unable to differentiate between the two set of values for $\\tau$. In order to avoid having this degeneracy, we will have to select one of the two conditions, either $\\tau_i$ < $\\tau_{i+1}$, or $\\tau_i$ > $\\tau_{i+1}$,  for $i \\in$ len(D). However, we should take note of the fact that even though the order of these rates ($\\tau$) might be important biologically (i.e. one process has to occur in order for the second one to start), the order does not matter from a mathematical point of view (Commutative propoerty of multiplication).\n",
    "Hence, we specify that $\\tau_1 < \\tau_2 < \\tau_3 \\dots \\tau_n$ before doing model selection and parameter estimation."
   ]
  },
  {
   "cell_type": "code",
   "execution_count": null,
   "metadata": {
    "collapsed": true
   },
   "outputs": [],
   "source": []
  }
 ],
 "metadata": {
  "kernelspec": {
   "display_name": "Python 3",
   "language": "python",
   "name": "python3"
  },
  "language_info": {
   "codemirror_mode": {
    "name": "ipython",
    "version": 3
   },
   "file_extension": ".py",
   "mimetype": "text/x-python",
   "name": "python",
   "nbconvert_exporter": "python",
   "pygments_lexer": "ipython3",
   "version": "3.4.3"
  }
 },
 "nbformat": 4,
 "nbformat_minor": 0
}
