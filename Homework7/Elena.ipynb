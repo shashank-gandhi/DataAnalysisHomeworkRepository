{
 "cells": [
  {
   "cell_type": "markdown",
   "metadata": {},
   "source": [
    "# Problem 7.1"
   ]
  },
  {
   "cell_type": "code",
   "execution_count": 3,
   "metadata": {
    "collapsed": false
   },
   "outputs": [],
   "source": [
    "import glob\n",
    "import os\n",
    "import warnings\n",
    "import time\n",
    "\n",
    "# Our numerical workhorses\n",
    "import numpy as np\n",
    "import pandas as pd\n",
    "import scipy.signal\n",
    "import scipy.stats as st\n",
    "\n",
    "# BE/Bi 103 utilities\n",
    "import bebi103\n",
    "\n",
    "# Image processing tools\n",
    "import skimage\n",
    "import skimage.io\n",
    "\n",
    "# Import plotting tools\n",
    "import matplotlib.pyplot as plt\n",
    "import seaborn as sns\n",
    "\n",
    "# Magic function to make matplotlib inline; other style specs must come AFTER\n",
    "%matplotlib inline\n",
    "\n",
    "# This enables high res graphics inline (only use with static plots (non-Bokeh))\n",
    "# SVG is preferred, but there is a bug in Jupyter with vertical lines\n",
    "%config InlineBackend.figure_formats = {'png', 'retina'}\n",
    "\n",
    "# JB's favorite Seaborn settings for notebooks\n",
    "rc = {'lines.linewidth': 2, \n",
    "      'axes.labelsize': 18, \n",
    "      'axes.titlesize': 18, \n",
    "      'axes.facecolor': 'DFDFE5'}\n",
    "sns.set_context('notebook', rc=rc)\n",
    "sns.set_style('darkgrid', rc=rc)\n",
    "\n",
    "# Suppress future warnings\n",
    "warnings.filterwarnings('ignore')"
   ]
  },
  {
   "cell_type": "code",
   "execution_count": 4,
   "metadata": {
    "collapsed": false
   },
   "outputs": [],
   "source": [
    "# The directory containing daytime data\n",
    "data_dir = '/Users/elenaperry/Dropbox/Caltech/bebi103/Cassiopea_Pulsation/day'\n",
    "\n",
    "# Glob string for images\n",
    "im_glob = os.path.join(data_dir, '*.TIF')"
   ]
  },
  {
   "cell_type": "code",
   "execution_count": 5,
   "metadata": {
    "collapsed": false
   },
   "outputs": [],
   "source": [
    "def squish_rgb(fname):\n",
    "    return skimage.io.imread(fname)[0,:,:]\n",
    "\n",
    "ic = skimage.io.ImageCollection(im_glob, conserve_memory=True, \n",
    "                                load_func=squish_rgb)"
   ]
  },
  {
   "cell_type": "code",
   "execution_count": 6,
   "metadata": {
    "collapsed": false
   },
   "outputs": [],
   "source": [
    "# We used plt.ginput(100) to select vertices for each jellyfish's ROI\n",
    "verts1 = np.array([(35.863636363636388, 107.22727272727269),\n",
    " (173.59090909090912, 111.31818181818176),\n",
    " (168.13636363636368, 223.13636363636363),\n",
    " (34.500000000000014, 216.31818181818181)])\n",
    " \n",
    "verts2 = np.array([(185.86363636363643, 100.40909090909088),\n",
    " (338.59090909090918, 111.31818181818176),\n",
    " (330.40909090909099, 232.68181818181813),\n",
    " (185.86363636363643, 224.5)])\n",
    " \n",
    "verts3 = np.array([(349.50000000000006, 99.045454545454504),\n",
    " (498.13636363636374, 100.40909090909088),\n",
    " (495.40909090909099, 236.77272727272725),\n",
    " (348.13636363636368, 238.13636363636363)])\n",
    " \n",
    "verts4 = np.array([(504.9545454545455, 90.863636363636317),\n",
    " (635.86363636363649, 97.68181818181813),\n",
    " (634.50000000000011, 244.95454545454544),\n",
    " (506.31818181818187, 239.5)])\n",
    "\n",
    "verts5 = np.array([(38.590909090909108, 232.68181818181813),\n",
    " (173.59090909090912, 239.5),\n",
    " (169.50000000000006, 379.95454545454544),\n",
    " (34.500000000000014, 363.59090909090907)])\n",
    "\n",
    "verts6 = np.array([(184.50000000000006, 250.40909090909088),\n",
    " (335.86363636363643, 253.13636363636363),\n",
    " (331.77272727272731, 392.22727272727275),\n",
    " (177.68181818181824, 386.77272727272725)])\n",
    "\n",
    "verts7 = np.array([(345.40909090909099, 249.0454545454545),\n",
    " (492.68181818181824, 250.40909090909088),\n",
    " (485.86363636363649, 393.59090909090907),\n",
    " (345.40909090909099, 389.5)])\n",
    "\n",
    "verts8 = np.array([(502.22727272727275, 250.40909090909088),\n",
    " (633.13636363636374, 255.86363636363632),\n",
    " (633.13636363636374, 393.59090909090907),\n",
    " (503.59090909090912, 393.59090909090907)])\n",
    "\n",
    "all_verts = np.array([verts1, verts2, verts3, verts4,\n",
    "                  verts5, verts6, verts7, verts8])"
   ]
  },
  {
   "cell_type": "code",
   "execution_count": 7,
   "metadata": {
    "collapsed": true
   },
   "outputs": [],
   "source": [
    "def local_min(x, y):\n",
    "    \"\"\"\n",
    "    Fit three points to quadratic and return location of maximum or minimum.\n",
    "    \"\"\"\n",
    "    a, b, c = np.polyfit(x, y, 2)\n",
    "    x_max = -b / 2 / a\n",
    "    return x_max, a*x_max**2 + b*x_max + c"
   ]
  },
  {
   "cell_type": "code",
   "execution_count": null,
   "metadata": {
    "collapsed": true
   },
   "outputs": [],
   "source": [
    "# Define load_func that only gives region bounding ROI\n",
    "    def load_roi(fname, roi_bbox=None):\n",
    "        if roi_bbox is None:\n",
    "            return skimage.io.imread(fname)[0,:,:]\n",
    "        else:\n",
    "            return skimage.io.imread(fname)[0,:,:][roi_bbox]\n",
    "\n",
    "    # Load image collection\n",
    "    ic = skimage.io.ImageCollection(im_glob, conserve_memory=True, \n",
    "                                    load_func=load_roi, roi_bbox=roi_bbox)"
   ]
  },
  {
   "cell_type": "code",
   "execution_count": 8,
   "metadata": {
    "collapsed": true
   },
   "outputs": [],
   "source": [
    "def intercontraction_times(verts, ic_shape):\n",
    "    \n",
    "    # Define ROI\n",
    "    roi, roi_bbox, roi_box = bebi103.verts_to_roi(verts, *ic_shape)\n",
    "    \n",
    "    # Generate timestamps for the images\n",
    "    fps = 15\n",
    "    t = np.arange(0, len(ic)) / fps\n",
    "\n",
    "    # Set up NumPy array to store total pixel intensity\n",
    "    total_int = np.empty(len(t))\n",
    "\n",
    "    # Look through and compute total intensity in the ROI\n",
    "    for i, im in enumerate(ic):\n",
    "        total_int[i] = ic[i][roi_box].sum()\n",
    "\n",
    "    # Subtract the mean and rescale the data to go from -1 to 1\n",
    "    total_int -= total_int.mean()\n",
    "    total_int = 1 + 2 / (total_int.max() - total_int.min()) \\\n",
    "                    * (total_int - total_int.max())\n",
    "\n",
    "    # Find up and down crossing indices\n",
    "    up_crossing_inds = np.where(\n",
    "        np.logical_and(total_int[:-1] < 0, total_int[1:] >= 0))[0]\n",
    "    down_crossing_inds = np.where(\n",
    "        np.logical_and(total_int[:-1] > 0, total_int[1:] <= 0))[0] + 1\n",
    "\n",
    "    # Make sure upcrossing are first\n",
    "    if down_crossing_inds[0] < up_crossing_inds[0]:\n",
    "        down_crossing_inds = down_crossing_inds[1:]\n",
    "\n",
    "    # Make sure downcrossing last\n",
    "    if up_crossing_inds[-1] > down_crossing_inds[-1]:\n",
    "        up_crossing_inds = up_crossing_inds[:-1]\n",
    "\n",
    "    # Find maxima\n",
    "    t_peaks = np.empty(len(up_crossing_inds))\n",
    "    peaks = np.empty_like(t_peaks)\n",
    "    for i, uc in enumerate(up_crossing_inds):\n",
    "        ind = uc + np.argmax(total_int[uc:down_crossing_inds[i]+1])\n",
    "        t_peaks[i], peaks[i] = local_min(t[ind-1:ind+2], total_int[ind-1:ind+2])\n",
    "\n",
    "    # Intercontractions times\n",
    "    t_int = np.diff(t_peaks)\n",
    "    \n",
    "    return t, total_int, t_peaks, peaks, t_int"
   ]
  },
  {
   "cell_type": "code",
   "execution_count": 9,
   "metadata": {
    "collapsed": true
   },
   "outputs": [],
   "source": [
    "def intercontraction_times2(verts, ic_shape):\n",
    "    \n",
    "    # Define ROI\n",
    "    roi, roi_bbox, roi_box = bebi103.verts_to_roi(verts, *ic_shape)\n",
    "\n",
    "    # Generate timestamps for the images\n",
    "    fps = 15\n",
    "    t = np.arange(0, len(ic)) / fps\n",
    "\n",
    "    # Set up NumPy array to store total pixel intensity\n",
    "    total_int = np.empty(len(t))\n",
    "\n",
    "    # Look through and compute total intensity in the ROI\n",
    "    for i, im in enumerate(ic):\n",
    "        total_int[i] = ic[i][roi].sum()\n",
    "\n",
    "    # Subtract the mean and rescale the data to go from -1 to 1\n",
    "    total_int -= total_int.mean()\n",
    "    total_int = 1 + 2 / (total_int.max() - total_int.min()) \\\n",
    "                    * (total_int - total_int.max())\n",
    "\n",
    "    # Find up and down crossing indices\n",
    "    up_crossing_inds = np.where(\n",
    "        np.logical_and(total_int[:-1] < 0, total_int[1:] >= 0))[0]\n",
    "    down_crossing_inds = np.where(\n",
    "        np.logical_and(total_int[:-1] > 0, total_int[1:] <= 0))[0] + 1\n",
    "\n",
    "    # Make sure upcrossing are first\n",
    "    if down_crossing_inds[0] < up_crossing_inds[0]:\n",
    "        down_crossing_inds = down_crossing_inds[1:]\n",
    "\n",
    "    # Make sure downcrossing last\n",
    "    if up_crossing_inds[-1] > down_crossing_inds[-1]:\n",
    "        up_crossing_inds = up_crossing_inds[:-1]\n",
    "\n",
    "    # Find maxima\n",
    "    t_peaks = np.empty(len(up_crossing_inds))\n",
    "    peaks = np.empty_like(t_peaks)\n",
    "    for i, uc in enumerate(up_crossing_inds):\n",
    "        ind = uc + np.argmax(total_int[uc:down_crossing_inds[i]+1])\n",
    "        t_peaks[i], peaks[i] = local_min(t[ind-1:ind+2], total_int[ind-1:ind+2])\n",
    "\n",
    "    # Intercontractions times\n",
    "    t_int = np.diff(t_peaks)\n",
    "    \n",
    "    return t, total_int, t_peaks, peaks, t_int"
   ]
  },
  {
   "cell_type": "code",
   "execution_count": null,
   "metadata": {
    "collapsed": false
   },
   "outputs": [],
   "source": [
    "start = time.time()\n",
    "t1, total_int1, t_peaks1, peaks1, t_int1 = intercontraction_times(all_verts[0], ic[0].shape)\n",
    "print('The first function took ' + str(time.time()-start) + ' seconds')\n"
   ]
  },
  {
   "cell_type": "code",
   "execution_count": null,
   "metadata": {
    "collapsed": true
   },
   "outputs": [],
   "source": [
    "start = time.time()\n",
    "t2, total_int2, t_peaks2, peaks2, t_int2 = intercontraction_times2(all_verts[0], ic[0].shape)\n",
    "print('The second function took ' + str(time.time()-start) + ' seconds')"
   ]
  }
 ],
 "metadata": {
  "kernelspec": {
   "display_name": "Python 3",
   "language": "python",
   "name": "python3"
  },
  "language_info": {
   "codemirror_mode": {
    "name": "ipython",
    "version": 3
   },
   "file_extension": ".py",
   "mimetype": "text/x-python",
   "name": "python",
   "nbconvert_exporter": "python",
   "pygments_lexer": "ipython3",
   "version": "3.5.0"
  }
 },
 "nbformat": 4,
 "nbformat_minor": 0
}
