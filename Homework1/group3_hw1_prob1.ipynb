{
 "cells": [
  {
   "cell_type": "markdown",
   "metadata": {},
   "source": [
    "**Problem 1.1: Goals for the class**\n",
    "\n",
    "Elena: My primary goals are to gain more/better intuition for the types of analyses that are most appropriate and informative for various types of data, as well to learn about alternative ways to graphically display data (vs. the usual bar graphs, etc... before the first class, I don't think I had heard of beeswarm plots before). Along the way, I hope to become more fluent in Python and refresh some of my knowledge of statistics. "
   ]
  },
  {
   "cell_type": "code",
   "execution_count": null,
   "metadata": {
    "collapsed": true
   },
   "outputs": [],
   "source": []
  }
 ],
 "metadata": {
  "kernelspec": {
   "display_name": "Python 3",
   "language": "python",
   "name": "python3"
  },
  "language_info": {
   "codemirror_mode": {
    "name": "ipython",
    "version": 3
   },
   "file_extension": ".py",
   "mimetype": "text/x-python",
   "name": "python",
   "nbconvert_exporter": "python",
   "pygments_lexer": "ipython3",
   "version": "3.4.3"
  }
 },
 "nbformat": 4,
 "nbformat_minor": 0
}
