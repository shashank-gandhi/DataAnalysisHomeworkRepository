{
 "cells": [
  {
   "cell_type": "markdown",
   "metadata": {},
   "source": [
    "** Problem 4.2 ** \n",
    "First we load in our work horses and our data."
   ]
  },
  {
   "cell_type": "code",
   "execution_count": 1,
   "metadata": {
    "collapsed": false
   },
   "outputs": [],
   "source": [
    "import collections\n",
    "import itertools\n",
    "\n",
    "# Our numerical workhorses\n",
    "import numpy as np\n",
    "import pandas as pd\n",
    "import scipy.optimize\n",
    "import scipy.stats as st\n",
    "\n",
    "# Numerical differentiation packages\n",
    "import numdifftools as ndt\n",
    "\n",
    "# Our main MCMC package\n",
    "import emcee\n",
    "\n",
    "# Import pyplot for plotting\n",
    "import matplotlib.pyplot as plt\n",
    "\n",
    "# Seaborn, useful for graphics\n",
    "import seaborn as sns\n",
    "\n",
    "# Corner is useful for displaying MCMC results\n",
    "import corner\n",
    "\n",
    "# JB's favorite Seaborn settings for notebooks\n",
    "rc = {'lines.linewidth': 2,\n",
    "      'axes.labelsize': 18,\n",
    "      'axes.titlesize': 18,\n",
    "      'axes.facecolor': 'DFDFE5'}\n",
    "sns.set_context('notebook', rc=rc)\n",
    "sns.set_style('darkgrid', rc=rc)\n",
    "\n",
    "# Load data\n",
    "df = pd.read_csv('./data/hiv_data.csv', comment = '#')"
   ]
  },
  {
   "cell_type": "markdown",
   "metadata": {},
   "source": [
    "The Perelman model for the viral load data is given to us as:\n",
    "\\begin{align}\n",
    "V(t) = V_0e^{-ct} + \\frac{cV_0}{c - \\delta}\\big[\\frac {c}{c - \\delta}(e^{-\\delta t} - e^{-ct}) - \\delta te^{-ct}\\big]\n",
    "\\end{align}\n",
    "So we define our Perelman model as our viral load model."
   ]
  },
  {
   "cell_type": "code",
   "execution_count": 2,
   "metadata": {
    "collapsed": true
   },
   "outputs": [],
   "source": [
    "# want to define our viral load from the equation given in the problem\n",
    "def ViralLoad(params, t):\n",
    "    '''\n",
    "    Defines V(t) with limits\n",
    "    '''\n",
    "    \n",
    "    # Unpack paramerters\n",
    "    c, delta, V_0 = params\n",
    "    \n",
    "    # Limit our V(t)\n",
    "    if abs(c - delta) < 1e-9:\n",
    "        return V_0 * (1 + delta*t + (delta * t)**2 / 2) * np.exp(-delta * t)\n",
    "    \n",
    "    # define the equation in the brackets for V(t) cause it's so long\n",
    "    bracket = c / (c - delta) * (np.exp(-delta * t) - np.exp(-c * t)) - delta * t * np.exp(-c * t)\n",
    "    \n",
    "    return V_0 * np.exp(-c * t) + c * V_0 / (c - delta) * bracket\n"
   ]
  },
  {
   "cell_type": "markdown",
   "metadata": {},
   "source": [
    "We want to take advantage of using the log of our posterior so we have to adjust our parameters accordingly."
   ]
  },
  {
   "cell_type": "code",
   "execution_count": 3,
   "metadata": {
    "collapsed": true
   },
   "outputs": [],
   "source": [
    "# We want a log of our posterior so we have to adjust our parameters\n",
    "def ViralLoadParam(params, t):\n",
    "    '''\n",
    "    Viral load parameters with log parameters\n",
    "    '''\n",
    "    return ViralLoad(np.exp(params), t)"
   ]
  },
  {
   "cell_type": "markdown",
   "metadata": {},
   "source": [
    "Our posterior is a student-t distribution. The variance is unknown so we marginalize it. ** figure out what the student-t distribution is** "
   ]
  },
  {
   "cell_type": "code",
   "execution_count": 4,
   "metadata": {
    "collapsed": true
   },
   "outputs": [],
   "source": [
    "# Our posterior is a student-t distribution, marginalize the unknown variance\n",
    "def resid(params, t, V):\n",
    "    '''\n",
    "    Residuals for viral load\n",
    "    '''\n",
    "    return V - ViralLoadParam(params, t)\n",
    "\n",
    "# Define our posterior\n",
    "def log_posterior(params, t, V):\n",
    "    '''\n",
    "    Log posterior of our HIV data\n",
    "    '''\n",
    "    c, delta, V_0 = params\n",
    "\n",
    "    return -len(t) / 2 * np.log(np.sum(resid(np.exp(params), t, V)**2))"
   ]
  },
  {
   "cell_type": "markdown",
   "metadata": {},
   "source": [
    "Now we pass our transcript counts as arguments."
   ]
  },
  {
   "cell_type": "code",
   "execution_count": 5,
   "metadata": {
    "collapsed": false
   },
   "outputs": [],
   "source": [
    "args = (df['Days after administration'], df['RNA copies per mL'])"
   ]
  },
  {
   "cell_type": "markdown",
   "metadata": {},
   "source": [
    "Now we define the specifications to use MCMC."
   ]
  },
  {
   "cell_type": "code",
   "execution_count": 11,
   "metadata": {
    "collapsed": true
   },
   "outputs": [],
   "source": [
    "# Number of parameters\n",
    "ndim = 3\n",
    "\n",
    "# Define number of walkers\n",
    "nwalkers = 50\n",
    "\n",
    "# Define the number of walkers to burn\n",
    "nburn = 500\n",
    "\n",
    "# Define the number of steps MCMC will take after the burn\n",
    "nsteps = 5000\n",
    "\n",
    "# For reproducibility seed random number generator\n",
    "np.random.seed(42)"
   ]
  },
  {
   "cell_type": "markdown",
   "metadata": {},
   "source": [
    "We need to tell the walkers where to start. $p_0[i,j]$ is the starting point where i is the walkers and j is the parameters. We want our parameters c and $\\delta$ to call random numbers from the interval (0, 10) and to call nwalkers. **Our V_0**"
   ]
  },
  {
   "cell_type": "code",
   "execution_count": 16,
   "metadata": {
    "collapsed": false
   },
   "outputs": [],
   "source": [
    "# Define where the walkers start\n",
    "# p0[i,j] where i is walkers and j is parameters\n",
    "# we want c and delta for interval 0 to 10\n",
    "p0 = np.empty((nwalkers, ndim))\n",
    "p0[:,0] = np.random.uniform(0, 10, nwalkers)\n",
    "p0[:,1] = np.random.uniform(0, 10, nwalkers)\n",
    "p0[:,2] = np.random.uniform(100000, nwalkers)"
   ]
  },
  {
   "cell_type": "markdown",
   "metadata": {},
   "source": [
    "Next we instantiate our sampler."
   ]
  },
  {
   "cell_type": "code",
   "execution_count": 17,
   "metadata": {
    "collapsed": false
   },
   "outputs": [],
   "source": [
    "# Now we instantiate the sampler\n",
    "sampler = emcee.EnsembleSampler(nwalkers, ndim, log_posterior, args = args)"
   ]
  },
  {
   "cell_type": "markdown",
   "metadata": {},
   "source": [
    "Now we have to do a burn-in."
   ]
  },
  {
   "cell_type": "code",
   "execution_count": 18,
   "metadata": {
    "collapsed": false
   },
   "outputs": [],
   "source": [
    "# burn the sampler in\n",
    "pos, prob, state = sampler.run_mcmc(p0, nburn, storechain = False)"
   ]
  },
  {
   "cell_type": "markdown",
   "metadata": {},
   "source": [
    "And lastly we run the sampler"
   ]
  },
  {
   "cell_type": "code",
   "execution_count": 19,
   "metadata": {
    "collapsed": false
   },
   "outputs": [],
   "source": [
    "# sample\n",
    "_ = sampler.run_mcmc(pos, nsteps)"
   ]
  },
  {
   "cell_type": "markdown",
   "metadata": {
    "collapsed": true
   },
   "source": [
    "How to do work with our MCMC we only want to do it in the python terminal or else it will have to run the sampler over and over and it will take up a lot of time and power from your computer.\n",
    "We can print out `sampler.chain` and our `sampler.flatchain`. `sampler.chain` has samples for all the the 50 walkers whereas `sampler.flatchain` has all the samples for all 50 walkers combined. "
   ]
  },
  {
   "cell_type": "code",
   "execution_count": 20,
   "metadata": {
    "collapsed": false
   },
   "outputs": [
    {
     "name": "stdout",
     "output_type": "stream",
     "text": [
      "(50, 5000, 3)\n",
      "(250000, 3)\n"
     ]
    }
   ],
   "source": [
    "print(sampler.chain.shape)\n",
    "print(sampler.flatchain.shape)"
   ]
  },
  {
   "cell_type": "code",
   "execution_count": 25,
   "metadata": {
    "collapsed": false
   },
   "outputs": [
    {
     "ename": "ValueError",
     "evalue": "It looks like the parameter(s) in column(s) 2 have no dynamic range. Please provide a `range` argument.",
     "output_type": "error",
     "traceback": [
      "\u001b[0;31m---------------------------------------------------------------------------\u001b[0m",
      "\u001b[0;31mValueError\u001b[0m                                Traceback (most recent call last)",
      "\u001b[0;32m<ipython-input-25-335cdf8a1b05>\u001b[0m in \u001b[0;36m<module>\u001b[0;34m()\u001b[0m\n\u001b[0;32m----> 1\u001b[0;31m \u001b[0mfig\u001b[0m \u001b[0;34m=\u001b[0m \u001b[0mcorner\u001b[0m\u001b[0;34m.\u001b[0m\u001b[0mcorner\u001b[0m\u001b[0;34m(\u001b[0m\u001b[0msampler\u001b[0m\u001b[0;34m.\u001b[0m\u001b[0mflatchain\u001b[0m\u001b[0;34m,\u001b[0m \u001b[0mlabels\u001b[0m\u001b[0;34m=\u001b[0m\u001b[0;34m[\u001b[0m\u001b[0;34m'c'\u001b[0m\u001b[0;34m,\u001b[0m \u001b[0;34m'$\\delta$'\u001b[0m\u001b[0;34m,\u001b[0m \u001b[0;34m'$V_0$'\u001b[0m\u001b[0;34m]\u001b[0m\u001b[0;34m,\u001b[0m \u001b[0mbins\u001b[0m\u001b[0;34m=\u001b[0m\u001b[0;36m100\u001b[0m\u001b[0;34m)\u001b[0m\u001b[0;34m\u001b[0m\u001b[0m\n\u001b[0m",
      "\u001b[0;32m/Users/michellefry/anaconda/lib/python3.4/site-packages/corner.py\u001b[0m in \u001b[0;36mcorner\u001b[0;34m(xs, bins, range, weights, color, smooth, smooth1d, labels, label_kwargs, show_titles, title_fmt, title_kwargs, truths, truth_color, scale_hist, quantiles, verbose, fig, max_n_ticks, top_ticks, use_math_text, hist_kwargs, **hist2d_kwargs)\u001b[0m\n\u001b[1;32m    174\u001b[0m                                   \"Please provide a `range` argument.\")\n\u001b[1;32m    175\u001b[0m                                  .format(\", \".join(map(\n\u001b[0;32m--> 176\u001b[0;31m                                      \"{0}\".format, np.arange(len(m))[m]))))\n\u001b[0m\u001b[1;32m    177\u001b[0m \u001b[0;34m\u001b[0m\u001b[0m\n\u001b[1;32m    178\u001b[0m     \u001b[0;32melse\u001b[0m\u001b[0;34m:\u001b[0m\u001b[0;34m\u001b[0m\u001b[0m\n",
      "\u001b[0;31mValueError\u001b[0m: It looks like the parameter(s) in column(s) 2 have no dynamic range. Please provide a `range` argument."
     ]
    }
   ],
   "source": [
    "fig = corner.corner(sampler.flatchain, labels=['c', '$\\delta$', '$V_0$'], bins=100, range)"
   ]
  },
  {
   "cell_type": "code",
   "execution_count": null,
   "metadata": {
    "collapsed": true
   },
   "outputs": [],
   "source": []
  }
 ],
 "metadata": {
  "kernelspec": {
   "display_name": "Python 3",
   "language": "python",
   "name": "python3"
  },
  "language_info": {
   "codemirror_mode": {
    "name": "ipython",
    "version": 3
   },
   "file_extension": ".py",
   "mimetype": "text/x-python",
   "name": "python",
   "nbconvert_exporter": "python",
   "pygments_lexer": "ipython3",
   "version": "3.4.3"
  }
 },
 "nbformat": 4,
 "nbformat_minor": 0
}
