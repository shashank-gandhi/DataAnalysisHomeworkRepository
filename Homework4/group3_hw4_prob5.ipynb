{
 "cells": [
  {
   "cell_type": "markdown",
   "metadata": {},
   "source": [
    "**Problem 4.5**\n",
    "**a)**\n",
    "When coming up with our priors we like to assume ignorance. Using Jeffrey's prior makes sense because the rate of dissociation can also be represented by its reciprical. It is a rate constant and has no units. "
   ]
  },
  {
   "cell_type": "markdown",
   "metadata": {},
   "source": [
    "**b)** First we import our workhorses and load in our data set. "
   ]
  },
  {
   "cell_type": "code",
   "execution_count": 19,
   "metadata": {
    "collapsed": false
   },
   "outputs": [],
   "source": [
    "import collections\n",
    "import itertools\n",
    "\n",
    "# Our numerical workhorses\n",
    "import numpy as np\n",
    "import pandas as pd\n",
    "import scipy.optimize\n",
    "import scipy.stats as st\n",
    "\n",
    "# Numerical differentiation packages\n",
    "import numdifftools as ndt\n",
    "\n",
    "# Our main MCMC package\n",
    "import emcee\n",
    "\n",
    "# Import pyplot for plotting\n",
    "import matplotlib.pyplot as plt\n",
    "\n",
    "# Seaborn, useful for graphics\n",
    "import seaborn as sns\n",
    "\n",
    "# Corner is useful for displaying MCMC results\n",
    "import corner\n",
    "\n",
    "%matplotlib inline\n",
    "\n",
    "# JB's favorite Seaborn settings for notebooks\n",
    "rc = {'lines.linewidth': 2,\n",
    "      'axes.labelsize': 18,\n",
    "      'axes.titlesize': 18,\n",
    "      'axes.facecolor': 'DFDFE5'}\n",
    "sns.set_context('notebook', rc=rc)\n",
    "sns.set_style('darkgrid', rc=rc)\n",
    "\n",
    "# Load data\n",
    "df = pd.read_csv('./data/rasson_dissociation_anisotropy.csv', comment = '#')"
   ]
  },
  {
   "cell_type": "markdown",
   "metadata": {
    "collapsed": true
   },
   "source": [
    "First we need to clean up the data. We should split this data set into two because it is for two seperate trials. We can do this by pulling them out. But we want to create a new column for `[SDfluor](uM)` where the entire column is 0.005."
   ]
  },
  {
   "cell_type": "code",
   "execution_count": 20,
   "metadata": {
    "collapsed": false
   },
   "outputs": [
    {
     "data": {
      "text/html": [
       "<div>\n",
       "<table border=\"1\" class=\"dataframe\">\n",
       "  <thead>\n",
       "    <tr style=\"text-align: right;\">\n",
       "      <th></th>\n",
       "      <th>[SDfluor] (uM)</th>\n",
       "      <th>[actin] (uM) trial 1</th>\n",
       "      <th>anisotropy trial 1</th>\n",
       "      <th>[actin] (uM) trial 2</th>\n",
       "      <th>anisotropy trial 2</th>\n",
       "    </tr>\n",
       "  </thead>\n",
       "  <tbody>\n",
       "    <tr>\n",
       "      <th>0</th>\n",
       "      <td>0.005</td>\n",
       "      <td>31.10</td>\n",
       "      <td>115.2</td>\n",
       "      <td>16</td>\n",
       "      <td>126.3</td>\n",
       "    </tr>\n",
       "    <tr>\n",
       "      <th>1</th>\n",
       "      <td>NaN</td>\n",
       "      <td>16.55</td>\n",
       "      <td>114.0</td>\n",
       "      <td>8</td>\n",
       "      <td>128.4</td>\n",
       "    </tr>\n",
       "    <tr>\n",
       "      <th>2</th>\n",
       "      <td>NaN</td>\n",
       "      <td>8.28</td>\n",
       "      <td>113.9</td>\n",
       "      <td>4</td>\n",
       "      <td>126.4</td>\n",
       "    </tr>\n",
       "    <tr>\n",
       "      <th>3</th>\n",
       "      <td>NaN</td>\n",
       "      <td>4.14</td>\n",
       "      <td>112.7</td>\n",
       "      <td>2</td>\n",
       "      <td>122.4</td>\n",
       "    </tr>\n",
       "    <tr>\n",
       "      <th>4</th>\n",
       "      <td>NaN</td>\n",
       "      <td>2.07</td>\n",
       "      <td>109.0</td>\n",
       "      <td>1</td>\n",
       "      <td>119.7</td>\n",
       "    </tr>\n",
       "  </tbody>\n",
       "</table>\n",
       "</div>"
      ],
      "text/plain": [
       "   [SDfluor] (uM)  [actin] (uM) trial 1  anisotropy trial 1  \\\n",
       "0           0.005                 31.10               115.2   \n",
       "1             NaN                 16.55               114.0   \n",
       "2             NaN                  8.28               113.9   \n",
       "3             NaN                  4.14               112.7   \n",
       "4             NaN                  2.07               109.0   \n",
       "\n",
       "   [actin] (uM) trial 2  anisotropy trial 2  \n",
       "0                    16               126.3  \n",
       "1                     8               128.4  \n",
       "2                     4               126.4  \n",
       "3                     2               122.4  \n",
       "4                     1               119.7  "
      ]
     },
     "execution_count": 20,
     "metadata": {},
     "output_type": "execute_result"
    }
   ],
   "source": [
    "df.head()"
   ]
  },
  {
   "cell_type": "code",
   "execution_count": 23,
   "metadata": {
    "collapsed": false
   },
   "outputs": [],
   "source": [
    "df['[SDfluor] (uM)'] = 0.005"
   ]
  },
  {
   "cell_type": "code",
   "execution_count": 24,
   "metadata": {
    "collapsed": false
   },
   "outputs": [
    {
     "data": {
      "text/html": [
       "<div>\n",
       "<table border=\"1\" class=\"dataframe\">\n",
       "  <thead>\n",
       "    <tr style=\"text-align: right;\">\n",
       "      <th></th>\n",
       "      <th>[SDfluor] (uM)</th>\n",
       "      <th>[actin] (uM) trial 1</th>\n",
       "      <th>anisotropy trial 1</th>\n",
       "      <th>[actin] (uM) trial 2</th>\n",
       "      <th>anisotropy trial 2</th>\n",
       "    </tr>\n",
       "  </thead>\n",
       "  <tbody>\n",
       "    <tr>\n",
       "      <th>0</th>\n",
       "      <td>0.005</td>\n",
       "      <td>31.100</td>\n",
       "      <td>115.2</td>\n",
       "      <td>16.00</td>\n",
       "      <td>126.3</td>\n",
       "    </tr>\n",
       "    <tr>\n",
       "      <th>1</th>\n",
       "      <td>0.005</td>\n",
       "      <td>16.550</td>\n",
       "      <td>114.0</td>\n",
       "      <td>8.00</td>\n",
       "      <td>128.4</td>\n",
       "    </tr>\n",
       "    <tr>\n",
       "      <th>2</th>\n",
       "      <td>0.005</td>\n",
       "      <td>8.280</td>\n",
       "      <td>113.9</td>\n",
       "      <td>4.00</td>\n",
       "      <td>126.4</td>\n",
       "    </tr>\n",
       "    <tr>\n",
       "      <th>3</th>\n",
       "      <td>0.005</td>\n",
       "      <td>4.140</td>\n",
       "      <td>112.7</td>\n",
       "      <td>2.00</td>\n",
       "      <td>122.4</td>\n",
       "    </tr>\n",
       "    <tr>\n",
       "      <th>4</th>\n",
       "      <td>0.005</td>\n",
       "      <td>2.070</td>\n",
       "      <td>109.0</td>\n",
       "      <td>1.00</td>\n",
       "      <td>119.7</td>\n",
       "    </tr>\n",
       "    <tr>\n",
       "      <th>5</th>\n",
       "      <td>0.005</td>\n",
       "      <td>1.030</td>\n",
       "      <td>103.7</td>\n",
       "      <td>0.50</td>\n",
       "      <td>115.1</td>\n",
       "    </tr>\n",
       "    <tr>\n",
       "      <th>6</th>\n",
       "      <td>0.005</td>\n",
       "      <td>0.517</td>\n",
       "      <td>99.6</td>\n",
       "      <td>0.25</td>\n",
       "      <td>109.0</td>\n",
       "    </tr>\n",
       "    <tr>\n",
       "      <th>7</th>\n",
       "      <td>0.005</td>\n",
       "      <td>0.129</td>\n",
       "      <td>83.4</td>\n",
       "      <td>0.25</td>\n",
       "      <td>107.5</td>\n",
       "    </tr>\n",
       "    <tr>\n",
       "      <th>8</th>\n",
       "      <td>0.005</td>\n",
       "      <td>0.000</td>\n",
       "      <td>58.9</td>\n",
       "      <td>0.00</td>\n",
       "      <td>76.3</td>\n",
       "    </tr>\n",
       "  </tbody>\n",
       "</table>\n",
       "</div>"
      ],
      "text/plain": [
       "   [SDfluor] (uM)  [actin] (uM) trial 1  anisotropy trial 1  \\\n",
       "0           0.005                31.100               115.2   \n",
       "1           0.005                16.550               114.0   \n",
       "2           0.005                 8.280               113.9   \n",
       "3           0.005                 4.140               112.7   \n",
       "4           0.005                 2.070               109.0   \n",
       "5           0.005                 1.030               103.7   \n",
       "6           0.005                 0.517                99.6   \n",
       "7           0.005                 0.129                83.4   \n",
       "8           0.005                 0.000                58.9   \n",
       "\n",
       "   [actin] (uM) trial 2  anisotropy trial 2  \n",
       "0                 16.00               126.3  \n",
       "1                  8.00               128.4  \n",
       "2                  4.00               126.4  \n",
       "3                  2.00               122.4  \n",
       "4                  1.00               119.7  \n",
       "5                  0.50               115.1  \n",
       "6                  0.25               109.0  \n",
       "7                  0.25               107.5  \n",
       "8                  0.00                76.3  "
      ]
     },
     "execution_count": 24,
     "metadata": {},
     "output_type": "execute_result"
    }
   ],
   "source": [
    "df"
   ]
  },
  {
   "cell_type": "markdown",
   "metadata": {},
   "source": [
    "Now we can splice the data into two different `DataFrames`. "
   ]
  },
  {
   "cell_type": "code",
   "execution_count": 71,
   "metadata": {
    "collapsed": false
   },
   "outputs": [],
   "source": [
    "# Seperate out trial 1\n",
    "df1 = df[list(df.columns[:3])]"
   ]
  },
  {
   "cell_type": "code",
   "execution_count": 96,
   "metadata": {
    "collapsed": false
   },
   "outputs": [
    {
     "data": {
      "text/html": [
       "<div>\n",
       "<table border=\"1\" class=\"dataframe\">\n",
       "  <thead>\n",
       "    <tr style=\"text-align: right;\">\n",
       "      <th></th>\n",
       "      <th>[SDfluor] (uM)</th>\n",
       "      <th>[actin] (uM) trial 1</th>\n",
       "      <th>anisotropy trial 1</th>\n",
       "    </tr>\n",
       "  </thead>\n",
       "  <tbody>\n",
       "    <tr>\n",
       "      <th>0</th>\n",
       "      <td>0.005</td>\n",
       "      <td>31.100</td>\n",
       "      <td>115.2</td>\n",
       "    </tr>\n",
       "    <tr>\n",
       "      <th>1</th>\n",
       "      <td>0.005</td>\n",
       "      <td>16.550</td>\n",
       "      <td>114.0</td>\n",
       "    </tr>\n",
       "    <tr>\n",
       "      <th>2</th>\n",
       "      <td>0.005</td>\n",
       "      <td>8.280</td>\n",
       "      <td>113.9</td>\n",
       "    </tr>\n",
       "    <tr>\n",
       "      <th>3</th>\n",
       "      <td>0.005</td>\n",
       "      <td>4.140</td>\n",
       "      <td>112.7</td>\n",
       "    </tr>\n",
       "    <tr>\n",
       "      <th>4</th>\n",
       "      <td>0.005</td>\n",
       "      <td>2.070</td>\n",
       "      <td>109.0</td>\n",
       "    </tr>\n",
       "    <tr>\n",
       "      <th>5</th>\n",
       "      <td>0.005</td>\n",
       "      <td>1.030</td>\n",
       "      <td>103.7</td>\n",
       "    </tr>\n",
       "    <tr>\n",
       "      <th>6</th>\n",
       "      <td>0.005</td>\n",
       "      <td>0.517</td>\n",
       "      <td>99.6</td>\n",
       "    </tr>\n",
       "    <tr>\n",
       "      <th>7</th>\n",
       "      <td>0.005</td>\n",
       "      <td>0.129</td>\n",
       "      <td>83.4</td>\n",
       "    </tr>\n",
       "    <tr>\n",
       "      <th>8</th>\n",
       "      <td>0.005</td>\n",
       "      <td>0.000</td>\n",
       "      <td>58.9</td>\n",
       "    </tr>\n",
       "  </tbody>\n",
       "</table>\n",
       "</div>"
      ],
      "text/plain": [
       "   [SDfluor] (uM)  [actin] (uM) trial 1  anisotropy trial 1\n",
       "0           0.005                31.100               115.2\n",
       "1           0.005                16.550               114.0\n",
       "2           0.005                 8.280               113.9\n",
       "3           0.005                 4.140               112.7\n",
       "4           0.005                 2.070               109.0\n",
       "5           0.005                 1.030               103.7\n",
       "6           0.005                 0.517                99.6\n",
       "7           0.005                 0.129                83.4\n",
       "8           0.005                 0.000                58.9"
      ]
     },
     "execution_count": 96,
     "metadata": {},
     "output_type": "execute_result"
    }
   ],
   "source": [
    "df1"
   ]
  },
  {
   "cell_type": "code",
   "execution_count": 81,
   "metadata": {
    "collapsed": false
   },
   "outputs": [],
   "source": [
    "df2 = df[list(df.columns[:1]) + list(df.columns[3:5])]"
   ]
  },
  {
   "cell_type": "code",
   "execution_count": 107,
   "metadata": {
    "collapsed": false
   },
   "outputs": [
    {
     "data": {
      "text/html": [
       "<div>\n",
       "<table border=\"1\" class=\"dataframe\">\n",
       "  <thead>\n",
       "    <tr style=\"text-align: right;\">\n",
       "      <th></th>\n",
       "      <th>[SDfluor] (uM)</th>\n",
       "      <th>[actin] (uM) trial 2</th>\n",
       "      <th>anisotropy trial 2</th>\n",
       "    </tr>\n",
       "  </thead>\n",
       "  <tbody>\n",
       "    <tr>\n",
       "      <th>0</th>\n",
       "      <td>0.005</td>\n",
       "      <td>16.00</td>\n",
       "      <td>126.3</td>\n",
       "    </tr>\n",
       "    <tr>\n",
       "      <th>1</th>\n",
       "      <td>0.005</td>\n",
       "      <td>8.00</td>\n",
       "      <td>128.4</td>\n",
       "    </tr>\n",
       "    <tr>\n",
       "      <th>2</th>\n",
       "      <td>0.005</td>\n",
       "      <td>4.00</td>\n",
       "      <td>126.4</td>\n",
       "    </tr>\n",
       "    <tr>\n",
       "      <th>3</th>\n",
       "      <td>0.005</td>\n",
       "      <td>2.00</td>\n",
       "      <td>122.4</td>\n",
       "    </tr>\n",
       "    <tr>\n",
       "      <th>4</th>\n",
       "      <td>0.005</td>\n",
       "      <td>1.00</td>\n",
       "      <td>119.7</td>\n",
       "    </tr>\n",
       "    <tr>\n",
       "      <th>5</th>\n",
       "      <td>0.005</td>\n",
       "      <td>0.50</td>\n",
       "      <td>115.1</td>\n",
       "    </tr>\n",
       "    <tr>\n",
       "      <th>6</th>\n",
       "      <td>0.005</td>\n",
       "      <td>0.25</td>\n",
       "      <td>109.0</td>\n",
       "    </tr>\n",
       "    <tr>\n",
       "      <th>7</th>\n",
       "      <td>0.005</td>\n",
       "      <td>0.25</td>\n",
       "      <td>107.5</td>\n",
       "    </tr>\n",
       "    <tr>\n",
       "      <th>8</th>\n",
       "      <td>0.005</td>\n",
       "      <td>0.00</td>\n",
       "      <td>76.3</td>\n",
       "    </tr>\n",
       "  </tbody>\n",
       "</table>\n",
       "</div>"
      ],
      "text/plain": [
       "   [SDfluor] (uM)  [actin] (uM) trial 2  anisotropy trial 2\n",
       "0           0.005                 16.00               126.3\n",
       "1           0.005                  8.00               128.4\n",
       "2           0.005                  4.00               126.4\n",
       "3           0.005                  2.00               122.4\n",
       "4           0.005                  1.00               119.7\n",
       "5           0.005                  0.50               115.1\n",
       "6           0.005                  0.25               109.0\n",
       "7           0.005                  0.25               107.5\n",
       "8           0.005                  0.00                76.3"
      ]
     },
     "execution_count": 107,
     "metadata": {},
     "output_type": "execute_result"
    }
   ],
   "source": [
    "df2"
   ]
  },
  {
   "cell_type": "markdown",
   "metadata": {},
   "source": [
    "Now we can come up wtih an equation to compute the $c_{ad}$. We can use the code given to us in the problem."
   ]
  },
  {
   "cell_type": "code",
   "execution_count": 84,
   "metadata": {
    "collapsed": true
   },
   "outputs": [],
   "source": [
    "# Function to compute c_ad for dissociation reactions\n",
    "def c_ad_dissoc(K_d_star, c_a_0, c_d_0):\n",
    "    \"\"\"\n",
    "    Compute concentration of actin-S_D for a given value of c_a_0 and c_d_0.\n",
    "    \"\"\"\n",
    "    poly_coeffs = np.array([1.0, \n",
    "                            -(K_d + c_a_0 + c_d_0), \n",
    "                            c_a_0 * c_d_0])\n",
    "    \n",
    "    # Use np.roots to solve for c_ad\n",
    "    return np.roots(poly_coeffs).min()"
   ]
  },
  {
   "cell_type": "markdown",
   "metadata": {},
   "source": [
    "We can compute the anisotrophy for $K_d^*$ using the code in the problem set. "
   ]
  },
  {
   "cell_type": "code",
   "execution_count": 113,
   "metadata": {
    "collapsed": true
   },
   "outputs": [],
   "source": [
    "# Returns anisotropy from competition experiment.\n",
    "def competition_anisotropy(K_d, K_d_star, c_a_0, c_d_0, c_d_star_0, r_f, r_b):\n",
    "    \"\"\"\n",
    "    Returns anisotropy measured from competition experiment.\n",
    "    \"\"\"\n",
    "    # Define coeffiencts for third order polynomial\n",
    "    beta = K_d + K_d_star + c_d_0 + c_d_star_0 - c_a_0\n",
    "    gamma = K_d * (c_d_star_0 - c_a_0) + K_d_star * (c_d_0 - c_a_0) \\\n",
    "                    + K_d * K_d_star\n",
    "    delta = -K_d * K_d_star * c_a_0\n",
    "    \n",
    "    # Compute roots (one of them is concentration of free actin)\n",
    "    poly_roots = np.roots(np.array([1.0, beta, gamma, delta]))\n",
    "\n",
    "    # Get index of root that we want (real, between 0 and c_a_0)\n",
    "    inds = (np.isreal(poly_roots)) & (0 < poly_roots) & (poly_roots < c_a_0)\n",
    "    c_a = poly_roots[inds][0]\n",
    "\n",
    "    # Compute c_d* and c_ad*\n",
    "    c_ad_star = c_a * c_d_star_0 / (K_d_star + c_a)\n",
    "    c_d_star = c_d_star_0 - c_ad_star\n",
    "    \n",
    "    # Compute anisotropy\n",
    "    return (r_f * c_d_star + r_b * c_ad_star) / c_d_star_0"
   ]
  },
  {
   "cell_type": "markdown",
   "metadata": {},
   "source": [
    "Now we can perform a regression for $K_d^*$."
   ]
  },
  {
   "cell_type": "code",
   "execution_count": 125,
   "metadata": {
    "collapsed": false
   },
   "outputs": [
    {
     "data": {
      "image/png": "[encoded data removed]",
      "text/plain": [
       "<matplotlib.figure.Figure at 0x10b2b4240>"
      ]
     },
     "metadata": {},
     "output_type": "display_data"
    }
   ],
   "source": [
    "# Function to compute c_ad for dissociation reactions\n",
    "def c_ad_dissoc(K_d, c_a_0, c_d_0):\n",
    "    \"\"\"\n",
    "    Compute concentration of actin-S_D for a given value of c_a_0 and c_d_0.\n",
    "    \"\"\"\n",
    "    poly_coeffs = np.array([1.0, -(K_d + c_a_0 + c_d_0), c_a_0 * c_d_0])\n",
    "    \n",
    "    # Use np.roots to solve for c_ad\n",
    "    return np.roots(poly_coeffs).min()\n",
    "\n",
    "# List of values we want to set for K_d\n",
    "K_d = [0.1, 0.3, 1.0, 3.0, 10.0]\n",
    "\n",
    "# The fixed SD concentration\n",
    "c_d_0_star= 0.005\n",
    "\n",
    "# grab the actin concentration from the data frame and make it into a list\n",
    "c_a_0 = list(df1['[actin] (uM) trial 1'])\n",
    "\n",
    "# Make plot\n",
    "colors = sns.color_palette('Blues', 7)\n",
    "for i in range(len(K_d_star)):\n",
    "    # Compute c_ad_star over the values of c_a_0_star.\n",
    "    c_ad_star = np.empty_like(c_a_0)\n",
    "    for j in range(len(c_a_0)):\n",
    "        c_ad_star[j] = c_ad_dissoc(K_d_star[i], c_a_0[j], c_d_0_star)\n",
    "\n",
    "    # creat plot\n",
    "    label = u'$K_d^* = %g$ µm' % K_d_star[i]\n",
    "    plt.plot(c_a_0_star, c_ad_star, '-', color=colors[i+2], label=label)\n",
    "    plt.xlabel(u'$c_a^0$ (µm)')\n",
    "    plt.ylabel(u'$c_{ad^*}^0$ (µm)')\n",
    "    plt.legend(loc='lower right')\n",
    "    plt.title('Trial 1')"
   ]
  },
  {
   "cell_type": "markdown",
   "metadata": {},
   "source": [
    "We can do this for our trail 2 data as well."
   ]
  },
  {
   "cell_type": "code",
   "execution_count": 126,
   "metadata": {
    "collapsed": false
   },
   "outputs": [
    {
     "data": {
      "image/png": "[encoded data removed]",
      "text/plain": [
       "<matplotlib.figure.Figure at 0x10b114c50>"
      ]
     },
     "metadata": {},
     "output_type": "display_data"
    }
   ],
   "source": [
    "# Function to compute c_ad for dissociation reactions\n",
    "def c_ad_dissoc(K_d, c_a_0, c_d_0):\n",
    "    \"\"\"\n",
    "    Compute concentration of actin-S_D for a given value of c_a_0 and c_d_0.\n",
    "    \"\"\"\n",
    "    poly_coeffs = np.array([1.0, -(K_d + c_a_0 + c_d_0), c_a_0 * c_d_0])\n",
    "    \n",
    "    # Use np.roots to solve for c_ad\n",
    "    return np.roots(poly_coeffs).min()\n",
    "\n",
    "# List of values we want to set for K_d\n",
    "K_d = [0.1, 0.3, 1.0, 3.0, 10.0]\n",
    "\n",
    "# The fixed SD concentration\n",
    "c_d_0_star= 0.005\n",
    "\n",
    "# grab the actin concentration for the data fram and make it into a list\n",
    "c_a_0 = list(df2['[actin] (uM) trial 2'])\n",
    "\n",
    "# Make plot\n",
    "colors = sns.color_palette('Blues', 7)\n",
    "for i in range(len(K_d_star)):\n",
    "    # Compute c_ad_star over the values of c_a_0_star.\n",
    "    c_ad_star = np.empty_like(c_a_0)\n",
    "    for j in range(len(c_a_0)):\n",
    "        c_ad_star[j] = c_ad_dissoc(K_d_star[i], c_a_0[j], c_d_0_star)\n",
    "\n",
    "    # plot it\n",
    "    label = u'$K_d^* = %g$ µm' % K_d_star[i]\n",
    "    plt.plot(c_a_0_star, c_ad_star, '-', color=colors[i+2], label=label)\n",
    "    plt.xlabel(u'$c_a^0$ (µm)')\n",
    "    plt.ylabel(u'$c_{ad^*}^0$ (µm)')\n",
    "    plt.legend(loc='lower right')\n",
    "    plt.title('Trial 2')"
   ]
  },
  {
   "cell_type": "code",
   "execution_count": null,
   "metadata": {
    "collapsed": true
   },
   "outputs": [],
   "source": []
  }
 ],
 "metadata": {
  "kernelspec": {
   "display_name": "Python 3",
   "language": "python",
   "name": "python3"
  },
  "language_info": {
   "codemirror_mode": {
    "name": "ipython",
    "version": 3
   },
   "file_extension": ".py",
   "mimetype": "text/x-python",
   "name": "python",
   "nbconvert_exporter": "python",
   "pygments_lexer": "ipython3",
   "version": "3.4.3"
  }
 },
 "nbformat": 4,
 "nbformat_minor": 0
}
